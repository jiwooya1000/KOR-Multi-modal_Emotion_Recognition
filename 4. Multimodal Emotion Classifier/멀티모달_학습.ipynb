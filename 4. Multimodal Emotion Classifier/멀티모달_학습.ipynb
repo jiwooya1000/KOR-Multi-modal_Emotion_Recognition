{
  "cells": [
    {
      "cell_type": "markdown",
      "metadata": {
        "id": "view-in-github",
        "colab_type": "text"
      },
      "source": [
        "<a href=\"https://colab.research.google.com/github/jiwooya1000/KOR-Multimodal-Emotion-Recognition/blob/main/4.%20Multimodal%20Emotion%20Classifier/%EB%A9%80%ED%8B%B0%EB%AA%A8%EB%8B%AC_%ED%95%99%EC%8A%B5.ipynb\" target=\"_parent\"><img src=\"https://colab.research.google.com/assets/colab-badge.svg\" alt=\"Open In Colab\"/></a>"
      ]
    },
    {
      "cell_type": "code",
      "execution_count": null,
      "metadata": {
        "id": "VJw0hfYvtlaO",
        "colab": {
          "base_uri": "https://localhost:8080/"
        },
        "outputId": "b566938d-dd27-4a0d-e1e7-be48ee12765a"
      },
      "outputs": [
        {
          "output_type": "stream",
          "name": "stdout",
          "text": [
            "Collecting mxnet\n",
            "  Downloading mxnet-1.9.0-py3-none-manylinux2014_x86_64.whl (47.3 MB)\n",
            "\u001b[K     |████████████████████████████████| 47.3 MB 1.1 MB/s \n",
            "\u001b[?25hRequirement already satisfied: requests<3,>=2.20.0 in /usr/local/lib/python3.7/dist-packages (from mxnet) (2.23.0)\n",
            "Collecting graphviz<0.9.0,>=0.8.1\n",
            "  Downloading graphviz-0.8.4-py2.py3-none-any.whl (16 kB)\n",
            "Requirement already satisfied: numpy<2.0.0,>1.16.0 in /usr/local/lib/python3.7/dist-packages (from mxnet) (1.21.6)\n",
            "Requirement already satisfied: certifi>=2017.4.17 in /usr/local/lib/python3.7/dist-packages (from requests<3,>=2.20.0->mxnet) (2021.10.8)\n",
            "Requirement already satisfied: chardet<4,>=3.0.2 in /usr/local/lib/python3.7/dist-packages (from requests<3,>=2.20.0->mxnet) (3.0.4)\n",
            "Requirement already satisfied: idna<3,>=2.5 in /usr/local/lib/python3.7/dist-packages (from requests<3,>=2.20.0->mxnet) (2.10)\n",
            "Requirement already satisfied: urllib3!=1.25.0,!=1.25.1,<1.26,>=1.21.1 in /usr/local/lib/python3.7/dist-packages (from requests<3,>=2.20.0->mxnet) (1.24.3)\n",
            "Installing collected packages: graphviz, mxnet\n",
            "  Attempting uninstall: graphviz\n",
            "    Found existing installation: graphviz 0.10.1\n",
            "    Uninstalling graphviz-0.10.1:\n",
            "      Successfully uninstalled graphviz-0.10.1\n",
            "Successfully installed graphviz-0.8.4 mxnet-1.9.0\n",
            "Collecting gluonnlp\n",
            "  Downloading gluonnlp-0.10.0.tar.gz (344 kB)\n",
            "\u001b[K     |████████████████████████████████| 344 kB 8.0 MB/s \n",
            "\u001b[?25hRequirement already satisfied: pandas in /usr/local/lib/python3.7/dist-packages (1.3.5)\n",
            "Requirement already satisfied: tqdm in /usr/local/lib/python3.7/dist-packages (4.64.0)\n",
            "Requirement already satisfied: numpy>=1.16.0 in /usr/local/lib/python3.7/dist-packages (from gluonnlp) (1.21.6)\n",
            "Requirement already satisfied: cython in /usr/local/lib/python3.7/dist-packages (from gluonnlp) (0.29.28)\n",
            "Requirement already satisfied: packaging in /usr/local/lib/python3.7/dist-packages (from gluonnlp) (21.3)\n",
            "Requirement already satisfied: pytz>=2017.3 in /usr/local/lib/python3.7/dist-packages (from pandas) (2022.1)\n",
            "Requirement already satisfied: python-dateutil>=2.7.3 in /usr/local/lib/python3.7/dist-packages (from pandas) (2.8.2)\n",
            "Requirement already satisfied: six>=1.5 in /usr/local/lib/python3.7/dist-packages (from python-dateutil>=2.7.3->pandas) (1.15.0)\n",
            "Requirement already satisfied: pyparsing!=3.0.5,>=2.0.2 in /usr/local/lib/python3.7/dist-packages (from packaging->gluonnlp) (3.0.8)\n",
            "Building wheels for collected packages: gluonnlp\n",
            "  Building wheel for gluonnlp (setup.py) ... \u001b[?25l\u001b[?25hdone\n",
            "  Created wheel for gluonnlp: filename=gluonnlp-0.10.0-cp37-cp37m-linux_x86_64.whl size=595738 sha256=74e12295cb3a99cff09b294266d89c173a1516bbd654c1fa53318c4a2b068b87\n",
            "  Stored in directory: /root/.cache/pip/wheels/be/b4/06/7f3fdfaf707e6b5e98b79c041e023acffbe395d78a527eae00\n",
            "Successfully built gluonnlp\n",
            "Installing collected packages: gluonnlp\n",
            "Successfully installed gluonnlp-0.10.0\n",
            "Collecting sentencepiece\n",
            "  Downloading sentencepiece-0.1.96-cp37-cp37m-manylinux_2_17_x86_64.manylinux2014_x86_64.whl (1.2 MB)\n",
            "\u001b[K     |████████████████████████████████| 1.2 MB 8.2 MB/s \n",
            "\u001b[?25hInstalling collected packages: sentencepiece\n",
            "Successfully installed sentencepiece-0.1.96\n",
            "Collecting transformers==3.0.2\n",
            "  Downloading transformers-3.0.2-py3-none-any.whl (769 kB)\n",
            "\u001b[K     |████████████████████████████████| 769 kB 7.3 MB/s \n",
            "\u001b[?25hRequirement already satisfied: requests in /usr/local/lib/python3.7/dist-packages (from transformers==3.0.2) (2.23.0)\n",
            "Requirement already satisfied: regex!=2019.12.17 in /usr/local/lib/python3.7/dist-packages (from transformers==3.0.2) (2019.12.20)\n",
            "Requirement already satisfied: tqdm>=4.27 in /usr/local/lib/python3.7/dist-packages (from transformers==3.0.2) (4.64.0)\n",
            "Requirement already satisfied: numpy in /usr/local/lib/python3.7/dist-packages (from transformers==3.0.2) (1.21.6)\n",
            "Collecting sacremoses\n",
            "  Downloading sacremoses-0.0.53.tar.gz (880 kB)\n",
            "\u001b[K     |████████████████████████████████| 880 kB 70.9 MB/s \n",
            "\u001b[?25hRequirement already satisfied: filelock in /usr/local/lib/python3.7/dist-packages (from transformers==3.0.2) (3.6.0)\n",
            "Requirement already satisfied: packaging in /usr/local/lib/python3.7/dist-packages (from transformers==3.0.2) (21.3)\n",
            "Collecting tokenizers==0.8.1.rc1\n",
            "  Downloading tokenizers-0.8.1rc1-cp37-cp37m-manylinux1_x86_64.whl (3.0 MB)\n",
            "\u001b[K     |████████████████████████████████| 3.0 MB 72.2 MB/s \n",
            "\u001b[?25hRequirement already satisfied: sentencepiece!=0.1.92 in /usr/local/lib/python3.7/dist-packages (from transformers==3.0.2) (0.1.96)\n",
            "Requirement already satisfied: pyparsing!=3.0.5,>=2.0.2 in /usr/local/lib/python3.7/dist-packages (from packaging->transformers==3.0.2) (3.0.8)\n",
            "Requirement already satisfied: certifi>=2017.4.17 in /usr/local/lib/python3.7/dist-packages (from requests->transformers==3.0.2) (2021.10.8)\n",
            "Requirement already satisfied: chardet<4,>=3.0.2 in /usr/local/lib/python3.7/dist-packages (from requests->transformers==3.0.2) (3.0.4)\n",
            "Requirement already satisfied: idna<3,>=2.5 in /usr/local/lib/python3.7/dist-packages (from requests->transformers==3.0.2) (2.10)\n",
            "Requirement already satisfied: urllib3!=1.25.0,!=1.25.1,<1.26,>=1.21.1 in /usr/local/lib/python3.7/dist-packages (from requests->transformers==3.0.2) (1.24.3)\n",
            "Requirement already satisfied: six in /usr/local/lib/python3.7/dist-packages (from sacremoses->transformers==3.0.2) (1.15.0)\n",
            "Requirement already satisfied: click in /usr/local/lib/python3.7/dist-packages (from sacremoses->transformers==3.0.2) (7.1.2)\n",
            "Requirement already satisfied: joblib in /usr/local/lib/python3.7/dist-packages (from sacremoses->transformers==3.0.2) (1.1.0)\n",
            "Building wheels for collected packages: sacremoses\n",
            "  Building wheel for sacremoses (setup.py) ... \u001b[?25l\u001b[?25hdone\n",
            "  Created wheel for sacremoses: filename=sacremoses-0.0.53-py3-none-any.whl size=895260 sha256=b793bb258315f5a1d544c268bdf50a0115e0c469c900e235894d329a8bae776a\n",
            "  Stored in directory: /root/.cache/pip/wheels/87/39/dd/a83eeef36d0bf98e7a4d1933a4ad2d660295a40613079bafc9\n",
            "Successfully built sacremoses\n",
            "Installing collected packages: tokenizers, sacremoses, transformers\n",
            "Successfully installed sacremoses-0.0.53 tokenizers-0.8.1rc1 transformers-3.0.2\n",
            "Requirement already satisfied: torch in /usr/local/lib/python3.7/dist-packages (1.11.0+cu113)\n",
            "Requirement already satisfied: typing-extensions in /usr/local/lib/python3.7/dist-packages (from torch) (4.2.0)\n",
            "Collecting git+https://****@github.com/SKTBrain/KoBERT.git@master\n",
            "  Cloning https://****@github.com/SKTBrain/KoBERT.git (to revision master) to /tmp/pip-req-build-i46wr9lg\n",
            "  Running command git clone -q 'https://****@github.com/SKTBrain/KoBERT.git' /tmp/pip-req-build-i46wr9lg\n",
            "Collecting boto3\n",
            "  Downloading boto3-1.22.8-py3-none-any.whl (132 kB)\n",
            "\u001b[K     |████████████████████████████████| 132 kB 7.8 MB/s \n",
            "\u001b[?25hRequirement already satisfied: gluonnlp>=0.6.0 in /usr/local/lib/python3.7/dist-packages (from kobert==0.2.3) (0.10.0)\n",
            "Requirement already satisfied: mxnet>=1.4.0 in /usr/local/lib/python3.7/dist-packages (from kobert==0.2.3) (1.9.0)\n",
            "Collecting onnxruntime==1.8.0\n",
            "  Downloading onnxruntime-1.8.0-cp37-cp37m-manylinux_2_17_x86_64.manylinux2014_x86_64.whl (4.5 MB)\n",
            "\u001b[K     |████████████████████████████████| 4.5 MB 68.7 MB/s \n",
            "\u001b[?25hRequirement already satisfied: sentencepiece>=0.1.6 in /usr/local/lib/python3.7/dist-packages (from kobert==0.2.3) (0.1.96)\n",
            "Requirement already satisfied: torch>=1.7.0 in /usr/local/lib/python3.7/dist-packages (from kobert==0.2.3) (1.11.0+cu113)\n",
            "Collecting transformers>=4.8.1\n",
            "  Downloading transformers-4.18.0-py3-none-any.whl (4.0 MB)\n",
            "\u001b[K     |████████████████████████████████| 4.0 MB 60.3 MB/s \n",
            "\u001b[?25hRequirement already satisfied: flatbuffers in /usr/local/lib/python3.7/dist-packages (from onnxruntime==1.8.0->kobert==0.2.3) (2.0)\n",
            "Requirement already satisfied: numpy>=1.16.6 in /usr/local/lib/python3.7/dist-packages (from onnxruntime==1.8.0->kobert==0.2.3) (1.21.6)\n",
            "Requirement already satisfied: protobuf in /usr/local/lib/python3.7/dist-packages (from onnxruntime==1.8.0->kobert==0.2.3) (3.17.3)\n",
            "Requirement already satisfied: packaging in /usr/local/lib/python3.7/dist-packages (from gluonnlp>=0.6.0->kobert==0.2.3) (21.3)\n",
            "Requirement already satisfied: cython in /usr/local/lib/python3.7/dist-packages (from gluonnlp>=0.6.0->kobert==0.2.3) (0.29.28)\n",
            "Requirement already satisfied: requests<3,>=2.20.0 in /usr/local/lib/python3.7/dist-packages (from mxnet>=1.4.0->kobert==0.2.3) (2.23.0)\n",
            "Requirement already satisfied: graphviz<0.9.0,>=0.8.1 in /usr/local/lib/python3.7/dist-packages (from mxnet>=1.4.0->kobert==0.2.3) (0.8.4)\n",
            "Requirement already satisfied: chardet<4,>=3.0.2 in /usr/local/lib/python3.7/dist-packages (from requests<3,>=2.20.0->mxnet>=1.4.0->kobert==0.2.3) (3.0.4)\n",
            "Requirement already satisfied: certifi>=2017.4.17 in /usr/local/lib/python3.7/dist-packages (from requests<3,>=2.20.0->mxnet>=1.4.0->kobert==0.2.3) (2021.10.8)\n",
            "Requirement already satisfied: idna<3,>=2.5 in /usr/local/lib/python3.7/dist-packages (from requests<3,>=2.20.0->mxnet>=1.4.0->kobert==0.2.3) (2.10)\n",
            "Requirement already satisfied: urllib3!=1.25.0,!=1.25.1,<1.26,>=1.21.1 in /usr/local/lib/python3.7/dist-packages (from requests<3,>=2.20.0->mxnet>=1.4.0->kobert==0.2.3) (1.24.3)\n",
            "Requirement already satisfied: typing-extensions in /usr/local/lib/python3.7/dist-packages (from torch>=1.7.0->kobert==0.2.3) (4.2.0)\n",
            "Requirement already satisfied: importlib-metadata in /usr/local/lib/python3.7/dist-packages (from transformers>=4.8.1->kobert==0.2.3) (4.11.3)\n",
            "Requirement already satisfied: tqdm>=4.27 in /usr/local/lib/python3.7/dist-packages (from transformers>=4.8.1->kobert==0.2.3) (4.64.0)\n",
            "Collecting huggingface-hub<1.0,>=0.1.0\n",
            "  Downloading huggingface_hub-0.5.1-py3-none-any.whl (77 kB)\n",
            "\u001b[K     |████████████████████████████████| 77 kB 9.5 MB/s \n",
            "\u001b[?25hRequirement already satisfied: sacremoses in /usr/local/lib/python3.7/dist-packages (from transformers>=4.8.1->kobert==0.2.3) (0.0.53)\n",
            "Requirement already satisfied: filelock in /usr/local/lib/python3.7/dist-packages (from transformers>=4.8.1->kobert==0.2.3) (3.6.0)\n",
            "Requirement already satisfied: regex!=2019.12.17 in /usr/local/lib/python3.7/dist-packages (from transformers>=4.8.1->kobert==0.2.3) (2019.12.20)\n",
            "Collecting pyyaml>=5.1\n",
            "  Downloading PyYAML-6.0-cp37-cp37m-manylinux_2_5_x86_64.manylinux1_x86_64.manylinux_2_12_x86_64.manylinux2010_x86_64.whl (596 kB)\n",
            "\u001b[K     |████████████████████████████████| 596 kB 69.2 MB/s \n",
            "\u001b[?25hCollecting tokenizers!=0.11.3,<0.13,>=0.11.1\n",
            "  Downloading tokenizers-0.12.1-cp37-cp37m-manylinux_2_12_x86_64.manylinux2010_x86_64.whl (6.6 MB)\n",
            "\u001b[K     |████████████████████████████████| 6.6 MB 71.0 MB/s \n",
            "\u001b[?25hRequirement already satisfied: pyparsing!=3.0.5,>=2.0.2 in /usr/local/lib/python3.7/dist-packages (from packaging->gluonnlp>=0.6.0->kobert==0.2.3) (3.0.8)\n",
            "Collecting s3transfer<0.6.0,>=0.5.0\n",
            "  Downloading s3transfer-0.5.2-py3-none-any.whl (79 kB)\n",
            "\u001b[K     |████████████████████████████████| 79 kB 11.6 MB/s \n",
            "\u001b[?25hCollecting botocore<1.26.0,>=1.25.8\n",
            "  Downloading botocore-1.25.8-py3-none-any.whl (8.7 MB)\n",
            "\u001b[K     |████████████████████████████████| 8.7 MB 57.1 MB/s \n",
            "\u001b[?25hCollecting jmespath<2.0.0,>=0.7.1\n",
            "  Downloading jmespath-1.0.0-py3-none-any.whl (23 kB)\n",
            "Collecting urllib3!=1.25.0,!=1.25.1,<1.26,>=1.21.1\n",
            "  Downloading urllib3-1.25.11-py2.py3-none-any.whl (127 kB)\n",
            "\u001b[K     |████████████████████████████████| 127 kB 72.0 MB/s \n",
            "\u001b[?25hRequirement already satisfied: python-dateutil<3.0.0,>=2.1 in /usr/local/lib/python3.7/dist-packages (from botocore<1.26.0,>=1.25.8->boto3->kobert==0.2.3) (2.8.2)\n",
            "Requirement already satisfied: six>=1.5 in /usr/local/lib/python3.7/dist-packages (from python-dateutil<3.0.0,>=2.1->botocore<1.26.0,>=1.25.8->boto3->kobert==0.2.3) (1.15.0)\n",
            "Requirement already satisfied: zipp>=0.5 in /usr/local/lib/python3.7/dist-packages (from importlib-metadata->transformers>=4.8.1->kobert==0.2.3) (3.8.0)\n",
            "Requirement already satisfied: click in /usr/local/lib/python3.7/dist-packages (from sacremoses->transformers>=4.8.1->kobert==0.2.3) (7.1.2)\n",
            "Requirement already satisfied: joblib in /usr/local/lib/python3.7/dist-packages (from sacremoses->transformers>=4.8.1->kobert==0.2.3) (1.1.0)\n",
            "Building wheels for collected packages: kobert\n",
            "  Building wheel for kobert (setup.py) ... \u001b[?25l\u001b[?25hdone\n",
            "  Created wheel for kobert: filename=kobert-0.2.3-py3-none-any.whl size=15674 sha256=811546d8ba324ff27304923562cfb899df339764db2bde008e95f82b2c1064e2\n",
            "  Stored in directory: /tmp/pip-ephem-wheel-cache-45_bfvb7/wheels/d3/68/ca/334747dfb038313b49cf71f84832a33372f3470d9ddfd051c0\n",
            "Successfully built kobert\n",
            "Installing collected packages: urllib3, jmespath, pyyaml, botocore, tokenizers, s3transfer, huggingface-hub, transformers, onnxruntime, boto3, kobert\n",
            "  Attempting uninstall: urllib3\n",
            "    Found existing installation: urllib3 1.24.3\n",
            "    Uninstalling urllib3-1.24.3:\n",
            "      Successfully uninstalled urllib3-1.24.3\n",
            "  Attempting uninstall: pyyaml\n",
            "    Found existing installation: PyYAML 3.13\n",
            "    Uninstalling PyYAML-3.13:\n",
            "      Successfully uninstalled PyYAML-3.13\n",
            "  Attempting uninstall: tokenizers\n",
            "    Found existing installation: tokenizers 0.8.1rc1\n",
            "    Uninstalling tokenizers-0.8.1rc1:\n",
            "      Successfully uninstalled tokenizers-0.8.1rc1\n",
            "  Attempting uninstall: transformers\n",
            "    Found existing installation: transformers 3.0.2\n",
            "    Uninstalling transformers-3.0.2:\n",
            "      Successfully uninstalled transformers-3.0.2\n",
            "\u001b[31mERROR: pip's dependency resolver does not currently take into account all the packages that are installed. This behaviour is the source of the following dependency conflicts.\n",
            "datascience 0.10.6 requires folium==0.2.1, but you have folium 0.8.3 which is incompatible.\u001b[0m\n",
            "Successfully installed boto3-1.22.8 botocore-1.25.8 huggingface-hub-0.5.1 jmespath-1.0.0 kobert-0.2.3 onnxruntime-1.8.0 pyyaml-6.0 s3transfer-0.5.2 tokenizers-0.12.1 transformers-4.18.0 urllib3-1.25.11\n",
            "Collecting kobert_tokenizer\n",
            "  Cloning https://github.com/SKTBrain/KoBERT.git to /tmp/pip-install-k3v35sn_/kobert-tokenizer_57ad158bf0d54992b2f17b9211b4e4f7\n",
            "  Running command git clone -q https://github.com/SKTBrain/KoBERT.git /tmp/pip-install-k3v35sn_/kobert-tokenizer_57ad158bf0d54992b2f17b9211b4e4f7\n",
            "Building wheels for collected packages: kobert-tokenizer\n",
            "  Building wheel for kobert-tokenizer (setup.py) ... \u001b[?25l\u001b[?25hdone\n",
            "  Created wheel for kobert-tokenizer: filename=kobert_tokenizer-0.1-py3-none-any.whl size=4649 sha256=01a5589a329562eb1fa9c2f3c4dd0b7e4ebba02308acb20f03be1cbceefa123f\n",
            "  Stored in directory: /tmp/pip-ephem-wheel-cache-s2axcdav/wheels/10/b4/d9/cb627bbfaefa266657b0b4e8127f7bf96d27376fa1a23897b4\n",
            "Successfully built kobert-tokenizer\n",
            "Installing collected packages: kobert-tokenizer\n",
            "Successfully installed kobert-tokenizer-0.1\n",
            "Collecting torchmetrics\n",
            "  Downloading torchmetrics-0.8.1-py3-none-any.whl (408 kB)\n",
            "\u001b[K     |████████████████████████████████| 408 kB 7.0 MB/s \n",
            "\u001b[?25hCollecting pyDeprecate==0.3.*\n",
            "  Downloading pyDeprecate-0.3.2-py3-none-any.whl (10 kB)\n",
            "Requirement already satisfied: packaging in /usr/local/lib/python3.7/dist-packages (from torchmetrics) (21.3)\n",
            "Requirement already satisfied: torch>=1.3.1 in /usr/local/lib/python3.7/dist-packages (from torchmetrics) (1.11.0+cu113)\n",
            "Requirement already satisfied: numpy>=1.17.2 in /usr/local/lib/python3.7/dist-packages (from torchmetrics) (1.21.6)\n",
            "Requirement already satisfied: typing-extensions in /usr/local/lib/python3.7/dist-packages (from torch>=1.3.1->torchmetrics) (4.2.0)\n",
            "Requirement already satisfied: pyparsing!=3.0.5,>=2.0.2 in /usr/local/lib/python3.7/dist-packages (from packaging->torchmetrics) (3.0.8)\n",
            "Installing collected packages: pyDeprecate, torchmetrics\n",
            "Successfully installed pyDeprecate-0.3.2 torchmetrics-0.8.1\n"
          ]
        }
      ],
      "source": [
        "!pip install mxnet\n",
        "!pip install gluonnlp pandas tqdm\n",
        "!pip install sentencepiece\n",
        "!pip install transformers==3.0.2\n",
        "!pip install torch\n",
        "!pip install git+https://git@github.com/SKTBrain/KoBERT.git@master\n",
        "!pip install 'git+https://github.com/SKTBrain/KoBERT.git#egg=kobert_tokenizer&subdirectory=kobert_hf'\n",
        "!pip install torchmetrics"
      ]
    },
    {
      "cell_type": "code",
      "execution_count": null,
      "metadata": {
        "id": "YVFpzmG7tmrx"
      },
      "outputs": [],
      "source": [
        "import torch\n",
        "import time\n",
        "import os\n",
        "import pandas as pd\n",
        "import numpy as np\n",
        "import torch.optim as optim\n",
        "import torch.nn.functional as F\n",
        "import gluonnlp as nlp\n",
        "import matplotlib.pyplot as plt\n",
        "from tqdm import tqdm\n",
        "from kobert_tokenizer import KoBERTTokenizer\n",
        "from transformers import BertTokenizer, BertModel\n",
        "from kobert import get_pytorch_kobert_model\n",
        "from sklearn.metrics import f1_score"
      ]
    },
    {
      "cell_type": "code",
      "execution_count": null,
      "metadata": {
        "id": "DNKr8LNNtow5",
        "colab": {
          "base_uri": "https://localhost:8080/"
        },
        "outputId": "3b242fbf-4847-4443-d5d7-a896eafed8b3"
      },
      "outputs": [
        {
          "output_type": "stream",
          "name": "stdout",
          "text": [
            "Drive already mounted at /content/gdrive; to attempt to forcibly remount, call drive.mount(\"/content/gdrive\", force_remount=True).\n"
          ]
        }
      ],
      "source": [
        "# Drive Mount\n",
        "from google.colab import drive\n",
        "drive.mount('/content/gdrive')\n",
        "\n",
        "directory = \"paper_comp/멀티모달최종\"\n",
        "path = \"/content/gdrive/My Drive/\" + directory\n",
        "os.chdir(path)"
      ]
    },
    {
      "cell_type": "code",
      "source": [
        "datapath = \"/content/gdrive/My Drive/paper_comp/data/\""
      ],
      "metadata": {
        "id": "34HmITRQIA5u"
      },
      "execution_count": null,
      "outputs": []
    },
    {
      "cell_type": "markdown",
      "metadata": {
        "id": "qxoxVTFuh47x"
      },
      "source": [
        "## **1. 데이터로더 준비**"
      ]
    },
    {
      "cell_type": "code",
      "execution_count": null,
      "metadata": {
        "id": "etx3DeXatqRH",
        "colab": {
          "base_uri": "https://localhost:8080/"
        },
        "outputId": "d0a7830f-ec7a-4abe-a087-95c6b1b3abd9"
      },
      "outputs": [
        {
          "output_type": "stream",
          "name": "stderr",
          "text": [
            "The tokenizer class you load from this checkpoint is not the same type as the class this function is called from. It may result in unexpected tokenization. \n",
            "The tokenizer class you load from this checkpoint is 'XLNetTokenizer'. \n",
            "The class this function is called from is 'KoBERTTokenizer'.\n"
          ]
        }
      ],
      "source": [
        "# KoBERT tokenizer 불러오기\n",
        "tokenizer = KoBERTTokenizer.from_pretrained('skt/kobert-base-v1')"
      ]
    },
    {
      "cell_type": "code",
      "execution_count": null,
      "metadata": {
        "id": "ZXYorh8BtzMK"
      },
      "outputs": [],
      "source": [
        "# Custom Dataset 불러오기\n",
        "from dataloader import *"
      ]
    },
    {
      "cell_type": "code",
      "execution_count": null,
      "metadata": {
        "id": "wHOiM119tryB",
        "colab": {
          "base_uri": "https://localhost:8080/"
        },
        "outputId": "2736a049-a3ff-4484-a126-bb86762b9020"
      },
      "outputs": [
        {
          "output_type": "stream",
          "name": "stderr",
          "text": [
            "100%|██████████| 10043/10043 [00:05<00:00, 1805.02it/s]\n"
          ]
        }
      ],
      "source": [
        "# Custom Dataset 객체 생성(Train Set)\n",
        "dataset_train = KEMDset(file=f'{datapath}train_aft_aug_kobert.pickle', tokenizer=tokenizer, balance=False, shuffle=True)\n",
        "# DataLoader 정의\n",
        "dataloader_train = torch.utils.data.DataLoader(dataset_train, batch_size=16,\n",
        "                                               shuffle=False, drop_last=True)"
      ]
    },
    {
      "cell_type": "code",
      "execution_count": null,
      "metadata": {
        "id": "AktAmdsfCvSo",
        "colab": {
          "base_uri": "https://localhost:8080/"
        },
        "outputId": "a53337c3-2164-4695-bb6d-dc350ab46bae"
      },
      "outputs": [
        {
          "output_type": "stream",
          "name": "stderr",
          "text": [
            "100%|██████████| 1018/1018 [00:00<00:00, 1864.59it/s]\n"
          ]
        }
      ],
      "source": [
        "# Custom Dataset 객체 생성(Valid Set)\n",
        "dataset_valid = KEMDset(file=f'{datapath}valid_tokenized.pickle', tokenizer=tokenizer, balance=False, shuffle=True)\n",
        "# DataLoader 정의\n",
        "dataloader_valid = torch.utils.data.DataLoader(dataset_valid, batch_size=16,\n",
        "                                               shuffle=False, drop_last=True)"
      ]
    },
    {
      "cell_type": "code",
      "source": [
        "# Custom Dataset 객체 생성(Test Set)\n",
        "dataset_test = KEMDset(file=f'{datapath}test_tokenized.pickle', tokenizer=tokenizer, balance=False, shuffle=True)\n",
        "# DataLoader 정의\n",
        "dataloader_test = torch.utils.data.DataLoader(dataset_test, batch_size=16,\n",
        "                                               shuffle=False, drop_last=True)"
      ],
      "metadata": {
        "colab": {
          "base_uri": "https://localhost:8080/"
        },
        "id": "6LkZS-2Krfp3",
        "outputId": "74699e0b-ce5a-4648-f597-c9000914233b"
      },
      "execution_count": null,
      "outputs": [
        {
          "output_type": "stream",
          "name": "stderr",
          "text": [
            "100%|██████████| 2545/2545 [00:01<00:00, 1870.16it/s]\n"
          ]
        }
      ]
    },
    {
      "cell_type": "markdown",
      "metadata": {
        "id": "Fjht-T0-vpLz"
      },
      "source": [
        "## **2. 모델**"
      ]
    },
    {
      "cell_type": "code",
      "execution_count": null,
      "metadata": {
        "id": "qnkUCsVWwfTw"
      },
      "outputs": [],
      "source": [
        "device = torch.device('cuda' if torch.cuda.is_available() else 'cpu')"
      ]
    },
    {
      "cell_type": "code",
      "source": [
        "# 정의한 모듈 불러오기\n",
        "import importlib\n",
        "import combined_model\n",
        "importlib.reload(combined_model)\n",
        "from combined_model import *\n",
        "from EarlyStopping import *"
      ],
      "metadata": {
        "id": "_EiWwz9C0NmV"
      },
      "execution_count": null,
      "outputs": []
    },
    {
      "cell_type": "code",
      "execution_count": null,
      "metadata": {
        "id": "-gbnCx-Uvqxu",
        "colab": {
          "base_uri": "https://localhost:8080/"
        },
        "outputId": "35229135-2960-4b4e-b14c-1d874845b6d3"
      },
      "outputs": [
        {
          "output_type": "stream",
          "name": "stdout",
          "text": [
            "using cached model. /content/gdrive/My Drive/paper_comp/멀티모달최종/.cache/kobert_v1.zip\n",
            "using cached model. /content/gdrive/My Drive/paper_comp/멀티모달최종/.cache/kobert_news_wiki_ko_cased-1087f8699e.spiece\n"
          ]
        }
      ],
      "source": [
        "# 모델 객체 생성\n",
        "model = EmoClassifier(n_layers=4).to(device)"
      ]
    },
    {
      "cell_type": "markdown",
      "metadata": {
        "id": "hNJvQtYv69o4"
      },
      "source": [
        "## **3. 학습**"
      ]
    },
    {
      "cell_type": "code",
      "execution_count": null,
      "metadata": {
        "id": "Uki4KcnK7CcA"
      },
      "outputs": [],
      "source": [
        "# 하이퍼 파라미터 설정\n",
        "learning_rate = 2e-5 \n",
        "optimizer = optim.Adam(model.parameters(), lr=learning_rate) \n",
        "scheduler = optim.lr_scheduler.ExponentialLR(optimizer, gamma=0.8) "
      ]
    },
    {
      "cell_type": "code",
      "source": [
        "# 가중치 설정\n",
        "neutral_count = len(dataset_train.file.index[dataset_train.file['Emotion'] == 'neutral'].tolist())\n",
        "sad_count = len(dataset_train.file.index[dataset_train.file['Emotion'] == 'sad'].tolist())\n",
        "happy_count = len(dataset_train.file.index[dataset_train.file['Emotion'] == 'happy'].tolist())\n",
        "surprise_count = len(dataset_train.file.index[dataset_train.file['Emotion'] == 'surprise'].tolist())\n",
        "angry_count = len(dataset_train.file.index[dataset_train.file['Emotion'] == 'angry'].tolist())\n",
        "\n",
        "min_count = min(neutral_count, sad_count, happy_count, surprise_count, angry_count)\n",
        "\n",
        "w_list = [min_count / neutral_count,\n",
        "          min_count / sad_count,\n",
        "          min_count / happy_count,\n",
        "          min_count / surprise_count,\n",
        "          min_count / angry_count] "
      ],
      "metadata": {
        "id": "QHC7EWRwyJDe"
      },
      "execution_count": null,
      "outputs": []
    },
    {
      "cell_type": "code",
      "execution_count": null,
      "metadata": {
        "id": "bp4acrw5OePS",
        "colab": {
          "base_uri": "https://localhost:8080/"
        },
        "outputId": "7c238cba-396e-4ab5-c515-8d02f46251ca"
      },
      "outputs": [
        {
          "output_type": "stream",
          "name": "stdout",
          "text": [
            "[00:05:07] Epoch  1     Train Loss: 0.6147 Train Acc: 0.8215 Train F1 Score: 0.7575     Valid Loss: 0.4327 Valid Acc: 0.8661 Valid F1 Score: 0.8112\n",
            "[00:10:16] Epoch  2     Train Loss: 0.4470 Train Acc: 0.8590 Train F1 Score: 0.8275     Valid Loss: 0.4144 Valid Acc: 0.8730 Valid F1 Score: 0.8237\n",
            "[00:15:26] Epoch  3     Train Loss: 0.3977 Train Acc: 0.8752 Train F1 Score: 0.8505     Valid Loss: 0.4155 Valid Acc: 0.8790 Valid F1 Score: 0.8350\n",
            "EarlyStopping counter: 1 out of 8\n",
            "[00:20:33] Epoch  4     Train Loss: 0.3603 Train Acc: 0.8862 Train F1 Score: 0.8666     Valid Loss: 0.4050 Valid Acc: 0.8839 Valid F1 Score: 0.8424\n",
            "[00:25:42] Epoch  5     Train Loss: 0.3323 Train Acc: 0.8945 Train F1 Score: 0.8788     Valid Loss: 0.4189 Valid Acc: 0.8810 Valid F1 Score: 0.8377\n",
            "EarlyStopping counter: 1 out of 8\n",
            "[00:30:49] Epoch  6     Train Loss: 0.3053 Train Acc: 0.9042 Train F1 Score: 0.8898     Valid Loss: 0.4017 Valid Acc: 0.8859 Valid F1 Score: 0.8454\n",
            "[00:35:58] Epoch  7     Train Loss: 0.2825 Train Acc: 0.9113 Train F1 Score: 0.8971     Valid Loss: 0.4029 Valid Acc: 0.8810 Valid F1 Score: 0.8407\n",
            "EarlyStopping counter: 1 out of 8\n",
            "[00:41:05] Epoch  8     Train Loss: 0.2631 Train Acc: 0.9174 Train F1 Score: 0.9043     Valid Loss: 0.3863 Valid Acc: 0.8879 Valid F1 Score: 0.8524\n",
            "[00:46:14] Epoch  9     Train Loss: 0.2463 Train Acc: 0.9223 Train F1 Score: 0.9100     Valid Loss: 0.4002 Valid Acc: 0.8839 Valid F1 Score: 0.8467\n",
            "EarlyStopping counter: 1 out of 8\n",
            "[00:51:21] Epoch 10     Train Loss: 0.2357 Train Acc: 0.9265 Train F1 Score: 0.9148     Valid Loss: 0.3948 Valid Acc: 0.8849 Valid F1 Score: 0.8510\n",
            "EarlyStopping counter: 2 out of 8\n",
            "[00:56:28] Epoch 11     Train Loss: 0.2231 Train Acc: 0.9293 Train F1 Score: 0.9182     Valid Loss: 0.4011 Valid Acc: 0.8899 Valid F1 Score: 0.8558\n",
            "EarlyStopping counter: 3 out of 8\n",
            "[01:01:36] Epoch 12     Train Loss: 0.2144 Train Acc: 0.9303 Train F1 Score: 0.9198     Valid Loss: 0.4010 Valid Acc: 0.8889 Valid F1 Score: 0.8539\n",
            "EarlyStopping counter: 4 out of 8\n",
            "[01:06:43] Epoch 13     Train Loss: 0.2054 Train Acc: 0.9357 Train F1 Score: 0.9259     Valid Loss: 0.4007 Valid Acc: 0.8879 Valid F1 Score: 0.8531\n",
            "EarlyStopping counter: 5 out of 8\n",
            "[01:11:50] Epoch 14     Train Loss: 0.2012 Train Acc: 0.9341 Train F1 Score: 0.9249     Valid Loss: 0.3972 Valid Acc: 0.8909 Valid F1 Score: 0.8575\n",
            "EarlyStopping counter: 6 out of 8\n",
            "[01:16:58] Epoch 15     Train Loss: 0.1958 Train Acc: 0.9369 Train F1 Score: 0.9279     Valid Loss: 0.3866 Valid Acc: 0.8919 Valid F1 Score: 0.8592\n",
            "EarlyStopping counter: 7 out of 8\n",
            "[01:22:05] Epoch 16     Train Loss: 0.1933 Train Acc: 0.9369 Train F1 Score: 0.9285     Valid Loss: 0.3894 Valid Acc: 0.8909 Valid F1 Score: 0.8575\n",
            "EarlyStopping counter: 8 out of 8\n",
            "Early Stopping Activated!\n"
          ]
        }
      ],
      "source": [
        "# 모델 학습\n",
        "\n",
        "epochs=30 \n",
        "\n",
        "train_losses = []\n",
        "train_acces = []\n",
        "train_f1s = []\n",
        "valid_losses = []\n",
        "valid_acces = []\n",
        "valid_f1s = []\n",
        "\n",
        "start_time = time.time()\n",
        "es = EarlyStopping(patience=8, path='Multi_Modal_Classifier_ye.pt')\n",
        "\n",
        "for epoch in range(epochs):\n",
        "    \n",
        "    #########\n",
        "    # Train #\n",
        "    #########\n",
        "    model.train()\n",
        "    train_loss = 0\n",
        "    train_acc = 0\n",
        "    train_f1 = 0\n",
        "    \n",
        "    for i, dict in enumerate(dataloader_train):\n",
        "        audio = dict['audio'].to(device=device, dtype=torch.float32)\n",
        "        input_ids = dict['input_ids'].to(device=device, dtype=torch.int32)\n",
        "        token_type_ids = dict['token_type_ids'].to(device=device, dtype=torch.int32)\n",
        "        attention_mask = dict['attention_mask'].to(device=device, dtype=torch.int32)\n",
        "        targets = dict['emotion'].to(device=device, dtype=torch.long)\n",
        "\n",
        "        scores, arousal, valence = model(audio, input_ids, token_type_ids, attention_mask)\n",
        "        _, preds = scores.max(dim=1)\n",
        "        \n",
        "        # 가중치 설정 (weight=loss_weight)\n",
        "        loss_fn = nn.CrossEntropyLoss() \n",
        "        loss = loss_fn(scores, targets)\n",
        "\n",
        "        train_loss += loss\n",
        "        train_acc += (targets == preds).sum() / preds.size(0)\n",
        "        train_f1 += f1_score(targets.detach().cpu().numpy(), \n",
        "                             preds.detach().cpu().numpy(),\n",
        "                             average='weighted') # f1(preds, targets)\n",
        "        \n",
        "        optimizer.zero_grad()\n",
        "        loss.backward()\n",
        "        optimizer.step()\n",
        "\n",
        "    scheduler.step()\n",
        "        \n",
        "    ##############\n",
        "    # Validation #\n",
        "    ##############\n",
        "    model.eval()\n",
        "    valid_loss = 0\n",
        "    valid_acc = 0\n",
        "    valid_f1 = 0\n",
        "\n",
        "    with torch.no_grad():\n",
        "        for i, dict in enumerate(dataloader_valid):\n",
        "            audio = dict['audio'].to(device=device, dtype=torch.float32)\n",
        "            input_ids = dict['input_ids'].to(device=device, dtype=torch.int32)\n",
        "            token_type_ids = dict['token_type_ids'].to(device=device, dtype=torch.int32)\n",
        "            attention_mask = dict['attention_mask'].to(device=device, dtype=torch.int32)\n",
        "            targets = dict['emotion'].to(device=device, dtype=torch.long)\n",
        "  \n",
        "            scores, arousal, valence = model(audio, input_ids, token_type_ids, attention_mask)\n",
        "            _, preds = scores.max(dim=1)\n",
        "\n",
        "            valid_loss += loss_fn(scores, targets)\n",
        "            valid_acc += (targets == preds).sum() / preds.size(0)\n",
        "            valid_f1 += f1_score(targets.detach().cpu().numpy(), \n",
        "                             preds.detach().cpu().numpy(),\n",
        "                             average='weighted')\n",
        "            \n",
        "    #######\n",
        "    # Log #\n",
        "    #######\n",
        "    train_losses.append(train_loss.detach().cpu().numpy() / len(dataloader_train))\n",
        "    train_acces.append(train_acc.detach().cpu().numpy() / len(dataloader_train))\n",
        "    train_f1s.append(train_f1 / len(dataloader_train))\n",
        "    valid_losses.append(valid_loss.detach().cpu().numpy() / len(dataloader_valid))\n",
        "    valid_acces.append(valid_acc.detach().cpu().numpy() / len(dataloader_valid))\n",
        "    valid_f1s.append(valid_f1 / len(dataloader_valid))\n",
        "\n",
        "    elapsed_time = time.time() - start_time\n",
        "\n",
        "    print(f\"[{time.strftime('%H:%M:%S', time.gmtime(elapsed_time))}] Epoch {epoch+1:2d} \\\n",
        "    Train Loss: {train_losses[-1]:6.4f} Train Acc: {train_acces[-1]:6.4f} Train F1 Score: {train_f1s[-1]:6.4f} \\\n",
        "    Valid Loss: {valid_losses[-1]:6.4f} Valid Acc: {valid_acces[-1]:6.4f} Valid F1 Score: {valid_f1s[-1]:6.4f}\")\n",
        "    \n",
        "    es(valid_losses[-1], model)\n",
        "\n",
        "    if es.early_stop:\n",
        "        print('Early Stopping Activated!')\n",
        "        break"
      ]
    },
    {
      "cell_type": "markdown",
      "source": [
        "#### 시각화"
      ],
      "metadata": {
        "id": "V5z9VJLQmeT7"
      }
    },
    {
      "cell_type": "code",
      "execution_count": null,
      "metadata": {
        "id": "BdGatbhXUpMJ",
        "colab": {
          "base_uri": "https://localhost:8080/",
          "height": 369
        },
        "outputId": "f23c7daa-e9d5-4615-f493-7c59f2c4be73"
      },
      "outputs": [
        {
          "output_type": "display_data",
          "data": {
            "text/plain": [
              "<Figure size 432x360 with 1 Axes>"
            ],
            "image/png": "[encoded data removed]"
          },
          "metadata": {
            "needs_background": "light"
          }
        }
      ],
      "source": [
        "plt.figure(figsize=(6,5))\n",
        "\n",
        "plt.plot(train_losses)\n",
        "plt.plot(valid_losses)\n",
        "plt.title('RMSE Loss')\n",
        "plt.legend(['Train','Valid'])\n",
        "plt.grid(True)\n",
        "\n",
        "plt.tight_layout()\n",
        "plt.show()"
      ]
    },
    {
      "cell_type": "code",
      "source": [
        "plt.figure(figsize=(6,5))\n",
        "\n",
        "plt.plot(train_f1s)\n",
        "plt.plot(valid_f1s)\n",
        "plt.title('F1 Score')\n",
        "plt.legend(['Train','Valid'])\n",
        "plt.grid(True)\n",
        "\n",
        "plt.tight_layout()\n",
        "plt.show()"
      ],
      "metadata": {
        "colab": {
          "base_uri": "https://localhost:8080/",
          "height": 369
        },
        "id": "lqpfdRIjdAOq",
        "outputId": "b64c5c3f-96c0-46a5-fabd-c1f986b14d95"
      },
      "execution_count": null,
      "outputs": [
        {
          "output_type": "display_data",
          "data": {
            "text/plain": [
              "<Figure size 432x360 with 1 Axes>"
            ],
            "image/png": "[encoded data removed]"
          },
          "metadata": {
            "needs_background": "light"
          }
        }
      ]
    },
    {
      "cell_type": "code",
      "source": [
        "plt.figure(figsize=(6,5))\n",
        "\n",
        "plt.plot(train_acces)\n",
        "plt.plot(valid_acces)\n",
        "plt.title('Accuracy')\n",
        "plt.legend(['Train','Valid'])\n",
        "plt.grid(True)\n",
        "\n",
        "plt.tight_layout()\n",
        "plt.show()"
      ],
      "metadata": {
        "colab": {
          "base_uri": "https://localhost:8080/",
          "height": 369
        },
        "id": "HOVuKkhteGPq",
        "outputId": "5cc0747b-955b-4f75-d43e-382d7d4d399b"
      },
      "execution_count": null,
      "outputs": [
        {
          "output_type": "display_data",
          "data": {
            "text/plain": [
              "<Figure size 432x360 with 1 Axes>"
            ],
            "image/png": "[encoded data removed]"
          },
          "metadata": {
            "needs_background": "light"
          }
        }
      ]
    },
    {
      "cell_type": "code",
      "source": [
        "import csv\n",
        "                        ######여기 4로#####\n",
        "with open('[Multi]n_layers=4.csv', 'w', newline='') as f: \n",
        "    writer = csv.writer(f) \n",
        "    writer.writerow(train_losses)\n",
        "    writer.writerow(valid_losses)\n",
        "    writer.writerow(train_f1s)\n",
        "    writer.writerow(valid_f1s)"
      ],
      "metadata": {
        "id": "oomBNouuWv-2"
      },
      "execution_count": null,
      "outputs": []
    },
    {
      "cell_type": "markdown",
      "source": [
        "## **4. 모델 테스트**"
      ],
      "metadata": {
        "id": "lfl-C6cfr5hI"
      }
    },
    {
      "cell_type": "code",
      "source": [
        "##############\n",
        "# Test #\n",
        "##############\n",
        "model.eval()\n",
        "test_f1 = 0\n",
        "test_acc = 0\n",
        "test_f1s = []\n",
        "test_acces = []\n",
        "y_actu =  []\n",
        "y_pred = []\n",
        "\n",
        "with torch.no_grad():\n",
        "    for i, dict in enumerate(dataloader_test):\n",
        "        audio = dict['audio'].to(device=device, dtype=torch.float32)\n",
        "        input_ids = dict['input_ids'].to(device=device, dtype=torch.int32)\n",
        "        token_type_ids = dict['token_type_ids'].to(device=device, dtype=torch.int32)\n",
        "        attention_mask = dict['attention_mask'].to(device=device, dtype=torch.int32)\n",
        "        targets = dict['emotion'].to(device=device, dtype=torch.long)\n",
        "\n",
        "        scores, arousal, valence = model(audio, input_ids, token_type_ids, attention_mask)\n",
        "        _, preds = scores.max(dim=1)\n",
        "\n",
        "        test_acc += (targets == preds).sum() / preds.size(0)\n",
        "        test_f1 += f1_score(targets.detach().cpu().numpy(), \n",
        "                          preds.detach().cpu().numpy(),\n",
        "                          average='weighted')\n",
        "        \n",
        "        # confusion matrix\n",
        "        y_actu.append(targets.cpu().detach().numpy())\n",
        "        y_pred.append(preds.cpu().detach().numpy())\n",
        "        \n",
        "#######\n",
        "# Log #\n",
        "#######\n",
        "test_f1s.append(test_f1 / len(dataloader_test))\n",
        "test_acces.append(test_acc / len(dataloader_test))\n",
        "print(\"Test F1: \", test_f1s[-1])\n",
        "print(\"Test Accuracy: \", test_acces[-1])"
      ],
      "metadata": {
        "colab": {
          "base_uri": "https://localhost:8080/"
        },
        "id": "u4AF9Fw_rLy_",
        "outputId": "93388aa1-15a1-4e42-cd34-49601267bfed"
      },
      "execution_count": null,
      "outputs": [
        {
          "output_type": "stream",
          "name": "stdout",
          "text": [
            "Test F1:  0.8693896113234378\n",
            "Test Accuracy:  tensor(0.8982, device='cuda:0')\n"
          ]
        }
      ]
    },
    {
      "cell_type": "markdown",
      "source": [
        "Confusion Matrix"
      ],
      "metadata": {
        "id": "zbBJ02Esv6Yk"
      }
    },
    {
      "cell_type": "code",
      "source": [
        "y_actu = np.concatenate(y_actu, axis=0)\n",
        "y_pred = np.concatenate(y_pred, axis=0)"
      ],
      "metadata": {
        "id": "c-sOz2RE7m3-"
      },
      "execution_count": null,
      "outputs": []
    },
    {
      "cell_type": "code",
      "source": [
        "import seaborn as sns\n",
        "from sklearn.metrics import confusion_matrix, plot_confusion_matrix\n",
        "\n",
        "cm = confusion_matrix(y_actu, y_pred)\n",
        "ax= plt.subplot()\n",
        "f = sns.heatmap(cm, annot=True, fmt='d', ax=ax, cmap=\"YlGnBu\")\n",
        "ax.xaxis.set_ticklabels(['neutral', 'sad', 'happy', 'surprise', 'angry']); \n",
        "ax.yaxis.set_ticklabels(['neutral', 'sad', 'happy', 'surprise', 'angry']);"
      ],
      "metadata": {
        "colab": {
          "base_uri": "https://localhost:8080/",
          "height": 265
        },
        "id": "k32wC0T88TTA",
        "outputId": "ea1fda66-29d5-47e0-c457-f2886bde760f"
      },
      "execution_count": null,
      "outputs": [
        {
          "output_type": "display_data",
          "data": {
            "text/plain": [
              "<Figure size 432x288 with 2 Axes>"
            ],
            "image/png": "[encoded data removed]"
          },
          "metadata": {
            "needs_background": "light"
          }
        }
      ]
    },
    {
      "cell_type": "code",
      "source": [
        "IC = type('IdentityClassifier', (), {\"predict\": lambda i : i, \"_estimator_type\": \"classifier\"})\n",
        "plot_confusion_matrix(IC, y_actu, y_pred, normalize='true', values_format='.2%',\n",
        "                      display_labels=['neutral', 'sad', 'happy', 'surprise', 'angry']);\n"
      ],
      "metadata": {
        "colab": {
          "base_uri": "https://localhost:8080/",
          "height": 335
        },
        "id": "UM-G8yCb8ejI",
        "outputId": "b1f2cd50-91b2-412e-ba3c-1b910a71d11f"
      },
      "execution_count": null,
      "outputs": [
        {
          "output_type": "stream",
          "name": "stderr",
          "text": [
            "/usr/local/lib/python3.7/dist-packages/sklearn/utils/deprecation.py:87: FutureWarning: Function plot_confusion_matrix is deprecated; Function `plot_confusion_matrix` is deprecated in 1.0 and will be removed in 1.2. Use one of the class methods: ConfusionMatrixDisplay.from_predictions or ConfusionMatrixDisplay.from_estimator.\n",
            "  warnings.warn(msg, category=FutureWarning)\n"
          ]
        },
        {
          "output_type": "display_data",
          "data": {
            "text/plain": [
              "<Figure size 432x288 with 2 Axes>"
            ],
            "image/png": "[encoded data removed]"
          },
          "metadata": {
            "needs_background": "light"
          }
        }
      ]
    }
  ],
  "metadata": {
    "accelerator": "GPU",
    "colab": {
      "collapsed_sections": [],
      "name": "멀티모달_학습.ipynb",
      "provenance": [],
      "machine_shape": "hm",
      "toc_visible": true,
      "include_colab_link": true
    },
    "kernelspec": {
      "display_name": "Python 3",
      "name": "python3"
    },
    "language_info": {
      "name": "python"
    }
  },
  "nbformat": 4,
  "nbformat_minor": 0
}