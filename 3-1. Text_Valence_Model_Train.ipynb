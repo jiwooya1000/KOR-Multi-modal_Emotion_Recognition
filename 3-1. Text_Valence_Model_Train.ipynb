{
  "cells": [
    {
      "cell_type": "markdown",
      "metadata": {
        "id": "view-in-github",
        "colab_type": "text"
      },
      "source": [
        "<a href=\"https://colab.research.google.com/github/jiwooya1000/KOR-Multimodal-Emotion-Recognition/blob/main/3-1.%20Text_Valence_Model_Train.ipynb\" target=\"_parent\"><img src=\"https://colab.research.google.com/assets/colab-badge.svg\" alt=\"Open In Colab\"/></a>"
      ]
    },
    {
      "cell_type": "markdown",
      "metadata": {
        "id": "cw9r82IKh0gL"
      },
      "source": [
        "# **텍스트 Valence 예측 모델 학습**"
      ]
    },
    {
      "cell_type": "code",
      "execution_count": null,
      "metadata": {
        "colab": {
          "base_uri": "https://localhost:8080/"
        },
        "id": "VJw0hfYvtlaO",
        "outputId": "10d41eb1-cc2a-4c94-ce30-1b8c11b958a0"
      },
      "outputs": [
        {
          "output_type": "stream",
          "name": "stdout",
          "text": [
            "Requirement already satisfied: mxnet in /usr/local/lib/python3.7/dist-packages (1.9.0)\n",
            "Requirement already satisfied: requests<3,>=2.20.0 in /usr/local/lib/python3.7/dist-packages (from mxnet) (2.23.0)\n",
            "Requirement already satisfied: graphviz<0.9.0,>=0.8.1 in /usr/local/lib/python3.7/dist-packages (from mxnet) (0.8.4)\n",
            "Requirement already satisfied: numpy<2.0.0,>1.16.0 in /usr/local/lib/python3.7/dist-packages (from mxnet) (1.21.6)\n",
            "Requirement already satisfied: urllib3!=1.25.0,!=1.25.1,<1.26,>=1.21.1 in /usr/local/lib/python3.7/dist-packages (from requests<3,>=2.20.0->mxnet) (1.25.11)\n",
            "Requirement already satisfied: idna<3,>=2.5 in /usr/local/lib/python3.7/dist-packages (from requests<3,>=2.20.0->mxnet) (2.10)\n",
            "Requirement already satisfied: certifi>=2017.4.17 in /usr/local/lib/python3.7/dist-packages (from requests<3,>=2.20.0->mxnet) (2021.10.8)\n",
            "Requirement already satisfied: chardet<4,>=3.0.2 in /usr/local/lib/python3.7/dist-packages (from requests<3,>=2.20.0->mxnet) (3.0.4)\n",
            "Requirement already satisfied: gluonnlp in /usr/local/lib/python3.7/dist-packages (0.10.0)\n",
            "Requirement already satisfied: pandas in /usr/local/lib/python3.7/dist-packages (1.3.5)\n",
            "Requirement already satisfied: tqdm in /usr/local/lib/python3.7/dist-packages (4.64.0)\n",
            "Requirement already satisfied: numpy>=1.16.0 in /usr/local/lib/python3.7/dist-packages (from gluonnlp) (1.21.6)\n",
            "Requirement already satisfied: packaging in /usr/local/lib/python3.7/dist-packages (from gluonnlp) (21.3)\n",
            "Requirement already satisfied: cython in /usr/local/lib/python3.7/dist-packages (from gluonnlp) (0.29.28)\n",
            "Requirement already satisfied: pytz>=2017.3 in /usr/local/lib/python3.7/dist-packages (from pandas) (2022.1)\n",
            "Requirement already satisfied: python-dateutil>=2.7.3 in /usr/local/lib/python3.7/dist-packages (from pandas) (2.8.2)\n",
            "Requirement already satisfied: six>=1.5 in /usr/local/lib/python3.7/dist-packages (from python-dateutil>=2.7.3->pandas) (1.15.0)\n",
            "Requirement already satisfied: pyparsing!=3.0.5,>=2.0.2 in /usr/local/lib/python3.7/dist-packages (from packaging->gluonnlp) (3.0.8)\n",
            "Requirement already satisfied: sentencepiece in /usr/local/lib/python3.7/dist-packages (0.1.96)\n",
            "Collecting transformers==3.0.2\n",
            "  Using cached transformers-3.0.2-py3-none-any.whl (769 kB)\n",
            "Requirement already satisfied: sacremoses in /usr/local/lib/python3.7/dist-packages (from transformers==3.0.2) (0.0.53)\n",
            "Requirement already satisfied: numpy in /usr/local/lib/python3.7/dist-packages (from transformers==3.0.2) (1.21.6)\n",
            "Requirement already satisfied: packaging in /usr/local/lib/python3.7/dist-packages (from transformers==3.0.2) (21.3)\n",
            "Requirement already satisfied: regex!=2019.12.17 in /usr/local/lib/python3.7/dist-packages (from transformers==3.0.2) (2019.12.20)\n",
            "Requirement already satisfied: tqdm>=4.27 in /usr/local/lib/python3.7/dist-packages (from transformers==3.0.2) (4.64.0)\n",
            "Requirement already satisfied: filelock in /usr/local/lib/python3.7/dist-packages (from transformers==3.0.2) (3.6.0)\n",
            "Collecting tokenizers==0.8.1.rc1\n",
            "  Using cached tokenizers-0.8.1rc1-cp37-cp37m-manylinux1_x86_64.whl (3.0 MB)\n",
            "Requirement already satisfied: sentencepiece!=0.1.92 in /usr/local/lib/python3.7/dist-packages (from transformers==3.0.2) (0.1.96)\n",
            "Requirement already satisfied: requests in /usr/local/lib/python3.7/dist-packages (from transformers==3.0.2) (2.23.0)\n",
            "Requirement already satisfied: pyparsing!=3.0.5,>=2.0.2 in /usr/local/lib/python3.7/dist-packages (from packaging->transformers==3.0.2) (3.0.8)\n",
            "Requirement already satisfied: urllib3!=1.25.0,!=1.25.1,<1.26,>=1.21.1 in /usr/local/lib/python3.7/dist-packages (from requests->transformers==3.0.2) (1.25.11)\n",
            "Requirement already satisfied: idna<3,>=2.5 in /usr/local/lib/python3.7/dist-packages (from requests->transformers==3.0.2) (2.10)\n",
            "Requirement already satisfied: certifi>=2017.4.17 in /usr/local/lib/python3.7/dist-packages (from requests->transformers==3.0.2) (2021.10.8)\n",
            "Requirement already satisfied: chardet<4,>=3.0.2 in /usr/local/lib/python3.7/dist-packages (from requests->transformers==3.0.2) (3.0.4)\n",
            "Requirement already satisfied: six in /usr/local/lib/python3.7/dist-packages (from sacremoses->transformers==3.0.2) (1.15.0)\n",
            "Requirement already satisfied: click in /usr/local/lib/python3.7/dist-packages (from sacremoses->transformers==3.0.2) (7.1.2)\n",
            "Requirement already satisfied: joblib in /usr/local/lib/python3.7/dist-packages (from sacremoses->transformers==3.0.2) (1.1.0)\n",
            "Installing collected packages: tokenizers, transformers\n",
            "  Attempting uninstall: tokenizers\n",
            "    Found existing installation: tokenizers 0.12.1\n",
            "    Uninstalling tokenizers-0.12.1:\n",
            "      Successfully uninstalled tokenizers-0.12.1\n",
            "  Attempting uninstall: transformers\n",
            "    Found existing installation: transformers 4.18.0\n",
            "    Uninstalling transformers-4.18.0:\n",
            "      Successfully uninstalled transformers-4.18.0\n",
            "\u001b[31mERROR: pip's dependency resolver does not currently take into account all the packages that are installed. This behaviour is the source of the following dependency conflicts.\n",
            "kobert 0.2.3 requires transformers>=4.8.1, but you have transformers 3.0.2 which is incompatible.\u001b[0m\n",
            "Successfully installed tokenizers-0.8.1rc1 transformers-3.0.2\n",
            "Requirement already satisfied: torch in /usr/local/lib/python3.7/dist-packages (1.11.0+cu113)\n",
            "Requirement already satisfied: typing-extensions in /usr/local/lib/python3.7/dist-packages (from torch) (4.2.0)\n",
            "Collecting git+https://****@github.com/SKTBrain/KoBERT.git@master\n",
            "  Cloning https://****@github.com/SKTBrain/KoBERT.git (to revision master) to /tmp/pip-req-build-pldsf4ea\n",
            "  Running command git clone -q 'https://****@github.com/SKTBrain/KoBERT.git' /tmp/pip-req-build-pldsf4ea\n",
            "Requirement already satisfied: boto3 in /usr/local/lib/python3.7/dist-packages (from kobert==0.2.3) (1.22.8)\n",
            "Requirement already satisfied: gluonnlp>=0.6.0 in /usr/local/lib/python3.7/dist-packages (from kobert==0.2.3) (0.10.0)\n",
            "Requirement already satisfied: mxnet>=1.4.0 in /usr/local/lib/python3.7/dist-packages (from kobert==0.2.3) (1.9.0)\n",
            "Requirement already satisfied: onnxruntime==1.8.0 in /usr/local/lib/python3.7/dist-packages (from kobert==0.2.3) (1.8.0)\n",
            "Requirement already satisfied: sentencepiece>=0.1.6 in /usr/local/lib/python3.7/dist-packages (from kobert==0.2.3) (0.1.96)\n",
            "Requirement already satisfied: torch>=1.7.0 in /usr/local/lib/python3.7/dist-packages (from kobert==0.2.3) (1.11.0+cu113)\n",
            "Collecting transformers>=4.8.1\n",
            "  Using cached transformers-4.18.0-py3-none-any.whl (4.0 MB)\n",
            "Requirement already satisfied: flatbuffers in /usr/local/lib/python3.7/dist-packages (from onnxruntime==1.8.0->kobert==0.2.3) (2.0)\n",
            "Requirement already satisfied: protobuf in /usr/local/lib/python3.7/dist-packages (from onnxruntime==1.8.0->kobert==0.2.3) (3.17.3)\n",
            "Requirement already satisfied: numpy>=1.16.6 in /usr/local/lib/python3.7/dist-packages (from onnxruntime==1.8.0->kobert==0.2.3) (1.21.6)\n",
            "Requirement already satisfied: cython in /usr/local/lib/python3.7/dist-packages (from gluonnlp>=0.6.0->kobert==0.2.3) (0.29.28)\n",
            "Requirement already satisfied: packaging in /usr/local/lib/python3.7/dist-packages (from gluonnlp>=0.6.0->kobert==0.2.3) (21.3)\n",
            "Requirement already satisfied: requests<3,>=2.20.0 in /usr/local/lib/python3.7/dist-packages (from mxnet>=1.4.0->kobert==0.2.3) (2.23.0)\n",
            "Requirement already satisfied: graphviz<0.9.0,>=0.8.1 in /usr/local/lib/python3.7/dist-packages (from mxnet>=1.4.0->kobert==0.2.3) (0.8.4)\n",
            "Requirement already satisfied: certifi>=2017.4.17 in /usr/local/lib/python3.7/dist-packages (from requests<3,>=2.20.0->mxnet>=1.4.0->kobert==0.2.3) (2021.10.8)\n",
            "Requirement already satisfied: idna<3,>=2.5 in /usr/local/lib/python3.7/dist-packages (from requests<3,>=2.20.0->mxnet>=1.4.0->kobert==0.2.3) (2.10)\n",
            "Requirement already satisfied: chardet<4,>=3.0.2 in /usr/local/lib/python3.7/dist-packages (from requests<3,>=2.20.0->mxnet>=1.4.0->kobert==0.2.3) (3.0.4)\n",
            "Requirement already satisfied: urllib3!=1.25.0,!=1.25.1,<1.26,>=1.21.1 in /usr/local/lib/python3.7/dist-packages (from requests<3,>=2.20.0->mxnet>=1.4.0->kobert==0.2.3) (1.25.11)\n",
            "Requirement already satisfied: typing-extensions in /usr/local/lib/python3.7/dist-packages (from torch>=1.7.0->kobert==0.2.3) (4.2.0)\n",
            "Requirement already satisfied: filelock in /usr/local/lib/python3.7/dist-packages (from transformers>=4.8.1->kobert==0.2.3) (3.6.0)\n",
            "Requirement already satisfied: huggingface-hub<1.0,>=0.1.0 in /usr/local/lib/python3.7/dist-packages (from transformers>=4.8.1->kobert==0.2.3) (0.5.1)\n",
            "Requirement already satisfied: importlib-metadata in /usr/local/lib/python3.7/dist-packages (from transformers>=4.8.1->kobert==0.2.3) (4.11.3)\n",
            "Collecting tokenizers!=0.11.3,<0.13,>=0.11.1\n",
            "  Using cached tokenizers-0.12.1-cp37-cp37m-manylinux_2_12_x86_64.manylinux2010_x86_64.whl (6.6 MB)\n",
            "Requirement already satisfied: tqdm>=4.27 in /usr/local/lib/python3.7/dist-packages (from transformers>=4.8.1->kobert==0.2.3) (4.64.0)\n",
            "Requirement already satisfied: regex!=2019.12.17 in /usr/local/lib/python3.7/dist-packages (from transformers>=4.8.1->kobert==0.2.3) (2019.12.20)\n",
            "Requirement already satisfied: pyyaml>=5.1 in /usr/local/lib/python3.7/dist-packages (from transformers>=4.8.1->kobert==0.2.3) (6.0)\n",
            "Requirement already satisfied: sacremoses in /usr/local/lib/python3.7/dist-packages (from transformers>=4.8.1->kobert==0.2.3) (0.0.53)\n",
            "Requirement already satisfied: pyparsing!=3.0.5,>=2.0.2 in /usr/local/lib/python3.7/dist-packages (from packaging->gluonnlp>=0.6.0->kobert==0.2.3) (3.0.8)\n",
            "Requirement already satisfied: jmespath<2.0.0,>=0.7.1 in /usr/local/lib/python3.7/dist-packages (from boto3->kobert==0.2.3) (1.0.0)\n",
            "Requirement already satisfied: s3transfer<0.6.0,>=0.5.0 in /usr/local/lib/python3.7/dist-packages (from boto3->kobert==0.2.3) (0.5.2)\n",
            "Requirement already satisfied: botocore<1.26.0,>=1.25.8 in /usr/local/lib/python3.7/dist-packages (from boto3->kobert==0.2.3) (1.25.8)\n",
            "Requirement already satisfied: python-dateutil<3.0.0,>=2.1 in /usr/local/lib/python3.7/dist-packages (from botocore<1.26.0,>=1.25.8->boto3->kobert==0.2.3) (2.8.2)\n",
            "Requirement already satisfied: six>=1.5 in /usr/local/lib/python3.7/dist-packages (from python-dateutil<3.0.0,>=2.1->botocore<1.26.0,>=1.25.8->boto3->kobert==0.2.3) (1.15.0)\n",
            "Requirement already satisfied: zipp>=0.5 in /usr/local/lib/python3.7/dist-packages (from importlib-metadata->transformers>=4.8.1->kobert==0.2.3) (3.8.0)\n",
            "Requirement already satisfied: joblib in /usr/local/lib/python3.7/dist-packages (from sacremoses->transformers>=4.8.1->kobert==0.2.3) (1.1.0)\n",
            "Requirement already satisfied: click in /usr/local/lib/python3.7/dist-packages (from sacremoses->transformers>=4.8.1->kobert==0.2.3) (7.1.2)\n",
            "Installing collected packages: tokenizers, transformers\n",
            "  Attempting uninstall: tokenizers\n",
            "    Found existing installation: tokenizers 0.8.1rc1\n",
            "    Uninstalling tokenizers-0.8.1rc1:\n",
            "      Successfully uninstalled tokenizers-0.8.1rc1\n",
            "  Attempting uninstall: transformers\n",
            "    Found existing installation: transformers 3.0.2\n",
            "    Uninstalling transformers-3.0.2:\n",
            "      Successfully uninstalled transformers-3.0.2\n",
            "Successfully installed tokenizers-0.12.1 transformers-4.18.0\n",
            "Collecting kobert_tokenizer\n",
            "  Cloning https://github.com/SKTBrain/KoBERT.git to /tmp/pip-install-59iy74ts/kobert-tokenizer_97100b45192248ef8157454d8d21f669\n",
            "  Running command git clone -q https://github.com/SKTBrain/KoBERT.git /tmp/pip-install-59iy74ts/kobert-tokenizer_97100b45192248ef8157454d8d21f669\n",
            "Requirement already satisfied: torchmetrics in /usr/local/lib/python3.7/dist-packages (0.8.1)\n",
            "Requirement already satisfied: torch>=1.3.1 in /usr/local/lib/python3.7/dist-packages (from torchmetrics) (1.11.0+cu113)\n",
            "Requirement already satisfied: numpy>=1.17.2 in /usr/local/lib/python3.7/dist-packages (from torchmetrics) (1.21.6)\n",
            "Requirement already satisfied: packaging in /usr/local/lib/python3.7/dist-packages (from torchmetrics) (21.3)\n",
            "Requirement already satisfied: pyDeprecate==0.3.* in /usr/local/lib/python3.7/dist-packages (from torchmetrics) (0.3.2)\n",
            "Requirement already satisfied: typing-extensions in /usr/local/lib/python3.7/dist-packages (from torch>=1.3.1->torchmetrics) (4.2.0)\n",
            "Requirement already satisfied: pyparsing!=3.0.5,>=2.0.2 in /usr/local/lib/python3.7/dist-packages (from packaging->torchmetrics) (3.0.8)\n"
          ]
        }
      ],
      "source": [
        "!pip install mxnet\n",
        "!pip install gluonnlp pandas tqdm\n",
        "!pip install sentencepiece\n",
        "!pip install transformers==3.0.2\n",
        "!pip install torch\n",
        "!pip install git+https://git@github.com/SKTBrain/KoBERT.git@master\n",
        "!pip install 'git+https://github.com/SKTBrain/KoBERT.git#egg=kobert_tokenizer&subdirectory=kobert_hf'\n",
        "!pip install torchmetrics"
      ]
    },
    {
      "cell_type": "code",
      "execution_count": null,
      "metadata": {
        "id": "YVFpzmG7tmrx"
      },
      "outputs": [],
      "source": [
        "import torch\n",
        "import time\n",
        "import os\n",
        "import pandas as pd\n",
        "import numpy as np\n",
        "import torch.optim as optim\n",
        "import torch.nn.functional as F\n",
        "import gluonnlp as nlp\n",
        "import matplotlib.pyplot as plt\n",
        "from tqdm import tqdm\n",
        "from kobert_tokenizer import KoBERTTokenizer\n",
        "from transformers import BertTokenizer, BertModel\n",
        "from kobert import get_pytorch_kobert_model\n",
        "from sklearn.metrics import f1_score"
      ]
    },
    {
      "cell_type": "code",
      "execution_count": null,
      "metadata": {
        "colab": {
          "base_uri": "https://localhost:8080/"
        },
        "id": "DNKr8LNNtow5",
        "outputId": "a1cb2a26-a23d-4db6-b822-6f25820d1b47"
      },
      "outputs": [
        {
          "output_type": "stream",
          "name": "stdout",
          "text": [
            "Drive already mounted at /content/gdrive; to attempt to forcibly remount, call drive.mount(\"/content/gdrive\", force_remount=True).\n"
          ]
        }
      ],
      "source": [
        "# Drive Mount\n",
        "from google.colab import drive\n",
        "drive.mount('/content/gdrive')\n",
        "\n",
        "# Directory 변경\n",
        "directory = \"주분\"\n",
        "path = \"/content/gdrive/My Drive/\" + directory\n",
        "os.chdir(path)"
      ]
    },
    {
      "cell_type": "markdown",
      "metadata": {
        "id": "qxoxVTFuh47x"
      },
      "source": [
        "## **1. 데이터로더 준비**"
      ]
    },
    {
      "cell_type": "code",
      "execution_count": null,
      "metadata": {
        "colab": {
          "base_uri": "https://localhost:8080/"
        },
        "id": "etx3DeXatqRH",
        "outputId": "c4a2c18b-c93d-41e2-8696-3bdfffcac5ee"
      },
      "outputs": [
        {
          "output_type": "stream",
          "name": "stderr",
          "text": [
            "The tokenizer class you load from this checkpoint is not the same type as the class this function is called from. It may result in unexpected tokenization. \n",
            "The tokenizer class you load from this checkpoint is 'XLNetTokenizer'. \n",
            "The class this function is called from is 'KoBERTTokenizer'.\n"
          ]
        },
        {
          "output_type": "stream",
          "name": "stdout",
          "text": [
            "using cached model. /content/gdrive/My Drive/주분/.cache/kobert_v1.zip\n",
            "using cached model. /content/gdrive/MyDrive/주분/.cache/kobert_news_wiki_ko_cased-1087f8699e.spiece\n"
          ]
        }
      ],
      "source": [
        "# KoBERT tokenizer 및 모델 불러오기\n",
        "\n",
        "tokenizer = KoBERTTokenizer.from_pretrained('skt/kobert-base-v1')\n",
        "model, vocab = get_pytorch_kobert_model()"
      ]
    },
    {
      "cell_type": "code",
      "execution_count": null,
      "metadata": {
        "id": "ZXYorh8BtzMK"
      },
      "outputs": [],
      "source": [
        "# Custom Dataset 불러오기\n",
        "\n",
        "from dataloader import *"
      ]
    },
    {
      "cell_type": "code",
      "execution_count": null,
      "metadata": {
        "colab": {
          "base_uri": "https://localhost:8080/"
        },
        "id": "wHOiM119tryB",
        "outputId": "ccd22c3e-50a5-4deb-b949-2569c080c514"
      },
      "outputs": [
        {
          "output_type": "stream",
          "name": "stderr",
          "text": [
            "100%|██████████| 10043/10043 [00:08<00:00, 1154.55it/s]\n"
          ]
        }
      ],
      "source": [
        "# Custom Dataset 객체 생성(Train Set)\n",
        "\n",
        "dataset_train = KEMDset(file='train_aft_aug_kobert.pickle', tokenizer=tokenizer, balance=False, shuffle=True)"
      ]
    },
    {
      "cell_type": "code",
      "execution_count": null,
      "metadata": {
        "id": "LzRONwqqt2HN"
      },
      "outputs": [],
      "source": [
        "# DataLoader 정의\n",
        "\n",
        "dataloader_train = torch.utils.data.DataLoader(dataset_train, batch_size=16,\n",
        "                                               shuffle=False, drop_last=True)"
      ]
    },
    {
      "cell_type": "code",
      "execution_count": null,
      "metadata": {
        "colab": {
          "base_uri": "https://localhost:8080/"
        },
        "id": "AktAmdsfCvSo",
        "outputId": "1f272e29-d323-45df-d5ba-1fafffa8be96"
      },
      "outputs": [
        {
          "output_type": "stream",
          "name": "stderr",
          "text": [
            "100%|██████████| 1018/1018 [00:00<00:00, 1282.40it/s]\n"
          ]
        }
      ],
      "source": [
        "# Custom Dataset 객체 생성(Valid Set)\n",
        "\n",
        "dataset_valid = KEMDset(file='valid_tokenized.pickle', tokenizer=tokenizer, balance=False, shuffle=True)"
      ]
    },
    {
      "cell_type": "code",
      "execution_count": null,
      "metadata": {
        "id": "3Cjitup1C42t"
      },
      "outputs": [],
      "source": [
        "# DataLoader 정의\n",
        "\n",
        "dataloader_valid = torch.utils.data.DataLoader(dataset_valid, batch_size=16,\n",
        "                                               shuffle=False, drop_last=True)"
      ]
    },
    {
      "cell_type": "markdown",
      "metadata": {
        "id": "Fjht-T0-vpLz"
      },
      "source": [
        "## **2. 모델**"
      ]
    },
    {
      "cell_type": "code",
      "execution_count": null,
      "metadata": {
        "id": "qnkUCsVWwfTw"
      },
      "outputs": [],
      "source": [
        "device = torch.device('cuda' if torch.cuda.is_available() else 'cpu')"
      ]
    },
    {
      "cell_type": "code",
      "execution_count": null,
      "metadata": {
        "id": "8MplSgnEvqot"
      },
      "outputs": [],
      "source": [
        "# 모델 정의해놓은 모듈 불러오기\n",
        "\n",
        "from text_model import *\n",
        "from EarlyStopping import *"
      ]
    },
    {
      "cell_type": "code",
      "execution_count": null,
      "metadata": {
        "id": "BX04RyPAt3yV"
      },
      "outputs": [],
      "source": [
        "import importlib\n",
        "import text_model\n",
        "importlib.reload(text_model)\n",
        "from text_model import *"
      ]
    },
    {
      "cell_type": "code",
      "execution_count": null,
      "metadata": {
        "colab": {
          "base_uri": "https://localhost:8080/"
        },
        "id": "-gbnCx-Uvqxu",
        "outputId": "a73c21d9-2a36-438c-ddbb-3daee8d3d5d6"
      },
      "outputs": [
        {
          "output_type": "stream",
          "name": "stdout",
          "text": [
            "using cached model. /content/gdrive/MyDrive/주분/.cache/kobert_v1.zip\n",
            "using cached model. /content/gdrive/MyDrive/주분/.cache/kobert_news_wiki_ko_cased-1087f8699e.spiece\n"
          ]
        }
      ],
      "source": [
        "# 모델 객체 생성\n",
        "\n",
        "model = TextRegressor(n_layers=5).to(device)"
      ]
    },
    {
      "cell_type": "markdown",
      "metadata": {
        "id": "hNJvQtYv69o4"
      },
      "source": [
        "## **3. 학습**"
      ]
    },
    {
      "cell_type": "code",
      "execution_count": null,
      "metadata": {
        "id": "Uki4KcnK7CcA"
      },
      "outputs": [],
      "source": [
        "# 하이퍼 파라미터 설정\n",
        "\n",
        "learning_rate = 2e-5\n",
        "optimizer = optim.Adam(model.parameters(), lr=learning_rate)\n",
        "scheduler = optim.lr_scheduler.ExponentialLR(optimizer, gamma=0.6) "
      ]
    },
    {
      "cell_type": "code",
      "execution_count": null,
      "metadata": {
        "colab": {
          "base_uri": "https://localhost:8080/"
        },
        "id": "bp4acrw5OePS",
        "outputId": "6097c4d2-9278-44f0-baa8-037eebff43ec"
      },
      "outputs": [
        {
          "output_type": "stream",
          "name": "stdout",
          "text": [
            "[00:00:44] Epoch  1     >>> Train RMSE Loss: 0.6819     >>> Valid RMSE Loss: 0.4670 \n",
            "[00:01:30] Epoch  2     >>> Train RMSE Loss: 0.4585     >>> Valid RMSE Loss: 0.4327 \n",
            "[00:02:16] Epoch  3     >>> Train RMSE Loss: 0.4328     >>> Valid RMSE Loss: 0.4280 \n",
            "[00:03:01] Epoch  4     >>> Train RMSE Loss: 0.4193     >>> Valid RMSE Loss: 0.4280 \n",
            "[00:03:47] Epoch  5     >>> Train RMSE Loss: 0.4135     >>> Valid RMSE Loss: 0.4299 \n",
            "EarlyStopping counter: 1 out of 8\n",
            "[00:04:31] Epoch  6     >>> Train RMSE Loss: 0.4065     >>> Valid RMSE Loss: 0.4284 \n",
            "EarlyStopping counter: 2 out of 8\n",
            "[00:05:15] Epoch  7     >>> Train RMSE Loss: 0.4030     >>> Valid RMSE Loss: 0.4264 \n",
            "[00:06:01] Epoch  8     >>> Train RMSE Loss: 0.4003     >>> Valid RMSE Loss: 0.4254 \n",
            "[00:06:46] Epoch  9     >>> Train RMSE Loss: 0.4002     >>> Valid RMSE Loss: 0.4252 \n",
            "[00:07:32] Epoch 10     >>> Train RMSE Loss: 0.3986     >>> Valid RMSE Loss: 0.4254 \n",
            "EarlyStopping counter: 1 out of 8\n",
            "[00:08:16] Epoch 11     >>> Train RMSE Loss: 0.3981     >>> Valid RMSE Loss: 0.4252 \n",
            "EarlyStopping counter: 2 out of 8\n",
            "[00:09:00] Epoch 12     >>> Train RMSE Loss: 0.3985     >>> Valid RMSE Loss: 0.4252 \n",
            "EarlyStopping counter: 3 out of 8\n",
            "[00:09:43] Epoch 13     >>> Train RMSE Loss: 0.3972     >>> Valid RMSE Loss: 0.4252 \n",
            "EarlyStopping counter: 4 out of 8\n",
            "[00:10:27] Epoch 14     >>> Train RMSE Loss: 0.3975     >>> Valid RMSE Loss: 0.4253 \n",
            "EarlyStopping counter: 5 out of 8\n",
            "[00:11:11] Epoch 15     >>> Train RMSE Loss: 0.3974     >>> Valid RMSE Loss: 0.4251 \n",
            "[00:11:57] Epoch 16     >>> Train RMSE Loss: 0.3975     >>> Valid RMSE Loss: 0.4251 \n",
            "[00:12:43] Epoch 17     >>> Train RMSE Loss: 0.3974     >>> Valid RMSE Loss: 0.4250 \n",
            "[00:13:29] Epoch 18     >>> Train RMSE Loss: 0.3978     >>> Valid RMSE Loss: 0.4250 \n",
            "[00:14:15] Epoch 19     >>> Train RMSE Loss: 0.3968     >>> Valid RMSE Loss: 0.4249 \n",
            "[00:15:00] Epoch 20     >>> Train RMSE Loss: 0.3970     >>> Valid RMSE Loss: 0.4249 \n",
            "EarlyStopping counter: 1 out of 8\n",
            "[00:15:44] Epoch 21     >>> Train RMSE Loss: 0.3973     >>> Valid RMSE Loss: 0.4249 \n",
            "[00:16:30] Epoch 22     >>> Train RMSE Loss: 0.3971     >>> Valid RMSE Loss: 0.4250 \n",
            "EarlyStopping counter: 1 out of 8\n",
            "[00:17:14] Epoch 23     >>> Train RMSE Loss: 0.3964     >>> Valid RMSE Loss: 0.4251 \n",
            "EarlyStopping counter: 2 out of 8\n",
            "[00:17:58] Epoch 24     >>> Train RMSE Loss: 0.3975     >>> Valid RMSE Loss: 0.4250 \n",
            "EarlyStopping counter: 3 out of 8\n",
            "[00:18:42] Epoch 25     >>> Train RMSE Loss: 0.3967     >>> Valid RMSE Loss: 0.4248 \n",
            "[00:19:27] Epoch 26     >>> Train RMSE Loss: 0.3972     >>> Valid RMSE Loss: 0.4249 \n",
            "EarlyStopping counter: 1 out of 8\n",
            "[00:20:11] Epoch 27     >>> Train RMSE Loss: 0.3969     >>> Valid RMSE Loss: 0.4249 \n",
            "EarlyStopping counter: 2 out of 8\n",
            "[00:20:55] Epoch 28     >>> Train RMSE Loss: 0.3976     >>> Valid RMSE Loss: 0.4251 \n",
            "EarlyStopping counter: 3 out of 8\n",
            "[00:21:39] Epoch 29     >>> Train RMSE Loss: 0.3973     >>> Valid RMSE Loss: 0.4248 \n",
            "EarlyStopping counter: 4 out of 8\n",
            "[00:22:23] Epoch 30     >>> Train RMSE Loss: 0.3973     >>> Valid RMSE Loss: 0.4250 \n",
            "EarlyStopping counter: 5 out of 8\n"
          ]
        }
      ],
      "source": [
        "# 모델 학습\n",
        "\n",
        "epochs=30\n",
        "train_losses = []\n",
        "valid_losses = []\n",
        "\n",
        "start_time = time.time()\n",
        "es = EarlyStopping(patience=8, path='text_valence.pt')\n",
        "\n",
        "for epoch in range(epochs):\n",
        "    \n",
        "    #########\n",
        "    # Train #\n",
        "    #########\n",
        "    model.train()\n",
        "    train_loss = 0\n",
        "    \n",
        "    for i, dict in enumerate(dataloader_train):\n",
        "        input_ids = dict['input_ids'].to(device=device, dtype=torch.int32)\n",
        "        token_type_ids = dict['token_type_ids'].to(device=device, dtype=torch.int32)\n",
        "        attention_mask = dict['attention_mask'].to(device=device, dtype=torch.int32)\n",
        "        targets = dict['valence'].to(device=device, dtype=torch.float32).unsqueeze(1)\n",
        "\n",
        "        scores, features = model(input_ids, token_type_ids, attention_mask)\n",
        "        \n",
        "        # 가중치 쓰려면 (weight=loss_weight)\n",
        "        loss_fn = nn.MSELoss(size_average=None, reduce=None, reduction='mean')\n",
        "        loss = torch.sqrt(loss_fn(scores, targets))\n",
        "\n",
        "        train_loss += loss\n",
        "        \n",
        "        optimizer.zero_grad()\n",
        "        loss.backward()\n",
        "        optimizer.step()\n",
        "\n",
        "    scheduler.step()\n",
        "        \n",
        "    ##############\n",
        "    # Validation #\n",
        "    ##############\n",
        "    model.eval()\n",
        "    valid_loss = 0\n",
        "\n",
        "    with torch.no_grad():\n",
        "        for i, dict in enumerate(dataloader_valid):\n",
        "            input_ids = dict['input_ids'].to(device=device, dtype=torch.int32)\n",
        "            token_type_ids = dict['token_type_ids'].to(device=device, dtype=torch.int32)\n",
        "            attention_mask = dict['attention_mask'].to(device=device, dtype=torch.int32)\n",
        "            targets = dict['valence'].to(device=device, dtype=torch.float32).unsqueeze(1)\n",
        "  \n",
        "            scores, features = model(input_ids, token_type_ids, attention_mask)\n",
        "            _, preds = scores.max(dim=1)\n",
        "\n",
        "            valid_loss += torch.sqrt(loss_fn(scores, targets))\n",
        "\n",
        "    #######\n",
        "    # Log #\n",
        "    #######\n",
        "    train_losses.append(train_loss.detach().cpu().numpy() / len(dataloader_train))\n",
        "    valid_losses.append(valid_loss.detach().cpu().numpy() / len(dataloader_valid))\n",
        "\n",
        "    elapsed_time = time.time() - start_time\n",
        "        \n",
        "    print(f\"[{time.strftime('%H:%M:%S', time.gmtime(elapsed_time))}] Epoch {epoch+1:2d} \\\n",
        "    >>> Train RMSE Loss: {train_losses[-1]:6.4f} \\\n",
        "    >>> Valid RMSE Loss: {valid_losses[-1]:6.4f} \")\n",
        "    \n",
        "    es(valid_losses[-1], model)\n",
        "\n",
        "    if es.early_stop:\n",
        "        print('Early Stopping Activated!')\n",
        "        break\n",
        "\n",
        "# torch.save(model.state_dict(), 'text_valence.pt')"
      ]
    },
    {
      "cell_type": "code",
      "execution_count": null,
      "metadata": {
        "colab": {
          "base_uri": "https://localhost:8080/",
          "height": 369
        },
        "id": "BdGatbhXUpMJ",
        "outputId": "55daeddf-a2b4-4fa0-ab0d-634ffe7d41ba"
      },
      "outputs": [
        {
          "output_type": "display_data",
          "data": {
            "text/plain": [
              "<Figure size 432x360 with 1 Axes>"
            ],
            "image/png": "[encoded data removed]"
          },
          "metadata": {
            "needs_background": "light"
          }
        }
      ],
      "source": [
        "# 시각화\n",
        "\n",
        "plt.figure(figsize=(6,5))\n",
        "\n",
        "plt.plot(train_losses)\n",
        "plt.plot(valid_losses)\n",
        "plt.title('RMSE Loss')\n",
        "plt.legend(['Train','Valid'])\n",
        "plt.grid(True)\n",
        "\n",
        "plt.tight_layout()\n",
        "plt.show()"
      ]
    },
    {
      "cell_type": "code",
      "execution_count": null,
      "metadata": {
        "id": "48-6d8u8NzgS"
      },
      "outputs": [],
      "source": [
        "import csv\n",
        "\n",
        "with open('[Text]n_layers=5.csv', 'w', newline='') as f: \n",
        "    writer = csv.writer(f) \n",
        "    writer.writerow(train_losses)\n",
        "    writer.writerow(valid_losses)"
      ]
    }
  ],
  "metadata": {
    "accelerator": "GPU",
    "colab": {
      "collapsed_sections": [],
      "machine_shape": "hm",
      "name": "3-1. Text_Valence_Model_Train.ipynb",
      "provenance": [],
      "authorship_tag": "ABX9TyMVByZc8hRUhVMABLrKMsJd",
      "include_colab_link": true
    },
    "kernelspec": {
      "display_name": "Python 3",
      "name": "python3"
    },
    "language_info": {
      "name": "python"
    }
  },
  "nbformat": 4,
  "nbformat_minor": 0
}