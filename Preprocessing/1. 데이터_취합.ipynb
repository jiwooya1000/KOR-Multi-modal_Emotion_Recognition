{
 "cells": [
  {
   "cell_type": "markdown",
   "metadata": {},
   "source": [
    "# **Session별 데이터 취합**"
   ]
  },
  {
   "cell_type": "code",
   "execution_count": 1,
   "metadata": {
    "executionInfo": {
     "elapsed": 402,
     "status": "ok",
     "timestamp": 1651104507485,
     "user": {
      "displayName": "홍지우",
      "userId": "09687386104869736535"
     },
     "user_tz": -540
    },
    "id": "MVpdlz0ff1n9"
   },
   "outputs": [],
   "source": [
    "import os\n",
    "import numpy as np\n",
    "import pandas as pd\n",
    "import matplotlib as mpl\n",
    "import matplotlib.pyplot as plt\n",
    "from tqdm import tqdm"
   ]
  },
  {
   "cell_type": "code",
   "execution_count": 2,
   "metadata": {
    "colab": {
     "base_uri": "https://localhost:8080/"
    },
    "executionInfo": {
     "elapsed": 16684,
     "status": "ok",
     "timestamp": 1651104269016,
     "user": {
      "displayName": "홍지우",
      "userId": "09687386104869736535"
     },
     "user_tz": -540
    },
    "id": "fom9HEyaeyPY",
    "outputId": "e5fb1c0e-d253-4b81-d894-f3861d73ec8a"
   },
   "outputs": [],
   "source": [
    "path = 'E:/2022년/PSAT/주제분석/KEMDy20'\n",
    "os.chdir(path)"
   ]
  },
  {
   "cell_type": "markdown",
   "metadata": {},
   "source": [
    "## **1. 파일 목록 생성**"
   ]
  },
  {
   "cell_type": "code",
   "execution_count": 3,
   "metadata": {
    "executionInfo": {
     "elapsed": 289,
     "status": "ok",
     "timestamp": 1651105690486,
     "user": {
      "displayName": "홍지우",
      "userId": "09687386104869736535"
     },
     "user_tz": -540
    },
    "id": "9ydEvPD6fJqm"
   },
   "outputs": [],
   "source": [
    "def search(dirname):\n",
    "    result = []\n",
    "    filenames = os.listdir(dirname)\n",
    "    for filename in filenames:\n",
    "        full_filename = os.path.join(dirname, filename)\n",
    "        result.append(full_filename)\n",
    "        print(full_filename)\n",
    "    \n",
    "    return result"
   ]
  },
  {
   "cell_type": "code",
   "execution_count": 4,
   "metadata": {},
   "outputs": [],
   "source": [
    "ann = os.path.join(path, 'annotation')"
   ]
  },
  {
   "cell_type": "code",
   "execution_count": 5,
   "metadata": {
    "colab": {
     "base_uri": "https://localhost:8080/"
    },
    "executionInfo": {
     "elapsed": 270,
     "status": "ok",
     "timestamp": 1651104807689,
     "user": {
      "displayName": "홍지우",
      "userId": "09687386104869736535"
     },
     "user_tz": -540
    },
    "id": "HSSqrIIoe3LG",
    "outputId": "b7de018d-3620-4302-d970-f23e6c9ffda4"
   },
   "outputs": [
    {
     "name": "stdout",
     "output_type": "stream",
     "text": [
      "['Sess01_eval.csv', 'Sess02_eval.csv', 'Sess03_eval.csv', 'Sess04_eval.csv', 'Sess05_eval.csv', 'Sess06_eval.csv', 'Sess07_eval.csv', 'Sess08_eval.csv', 'Sess09_eval.csv', 'Sess10_eval.csv', 'Sess11_eval.csv', 'Sess12_eval.csv', 'Sess13_eval.csv', 'Sess14_eval.csv', 'Sess15_eval.csv', 'Sess16_eval.csv', 'Sess17_eval.csv', 'Sess18_eval.csv', 'Sess19_eval.csv', 'Sess20_eval.csv', 'Sess21_eval.csv', 'Sess22_eval.csv', 'Sess23_eval.csv', 'Sess24_eval.csv', 'Sess25_eval.csv', 'Sess26_eval.csv', 'Sess27_eval.csv', 'Sess28_eval.csv', 'Sess29_eval.csv', 'Sess30_eval.csv', 'Sess31_eval.csv', 'Sess32_eval.csv', 'Sess33_eval.csv', 'Sess34_eval.csv', 'Sess35_eval.csv', 'Sess36_eval.csv', 'Sess37_eval.csv', 'Sess38_eval.csv', 'Sess39_eval.csv', 'Sess40_eval.csv']\n"
     ]
    }
   ],
   "source": [
    "# 전체 txt, wav 모으기\n",
    "\n",
    "files = os.listdir(ann)\n",
    "\n",
    "filescnt_wav = [i for i in files if i.endswith('.csv')]\n",
    "print(filescnt_wav)"
   ]
  },
  {
   "cell_type": "code",
   "execution_count": 6,
   "metadata": {
    "colab": {
     "base_uri": "https://localhost:8080/",
     "height": 235
    },
    "executionInfo": {
     "elapsed": 12169,
     "status": "ok",
     "timestamp": 1651104898004,
     "user": {
      "displayName": "홍지우",
      "userId": "09687386104869736535"
     },
     "user_tz": -540
    },
    "id": "f2K42BPff8Ay",
    "outputId": "883f6110-2c85-45ea-ddb3-49fcc0d7beeb"
   },
   "outputs": [
    {
     "data": {
      "text/html": [
       "<div>\n",
       "<style scoped>\n",
       "    .dataframe tbody tr th:only-of-type {\n",
       "        vertical-align: middle;\n",
       "    }\n",
       "\n",
       "    .dataframe tbody tr th {\n",
       "        vertical-align: top;\n",
       "    }\n",
       "\n",
       "    .dataframe thead th {\n",
       "        text-align: right;\n",
       "    }\n",
       "</style>\n",
       "<table border=\"1\" class=\"dataframe\">\n",
       "  <thead>\n",
       "    <tr style=\"text-align: right;\">\n",
       "      <th></th>\n",
       "      <th>Numb</th>\n",
       "      <th>WAV</th>\n",
       "      <th></th>\n",
       "      <th>Segment ID</th>\n",
       "      <th>Total Evaluation</th>\n",
       "      <th>.1</th>\n",
       "      <th>.2</th>\n",
       "      <th>Eval01F</th>\n",
       "      <th>.3</th>\n",
       "      <th>.4</th>\n",
       "      <th>...</th>\n",
       "      <th>Eval08M</th>\n",
       "      <th>.17</th>\n",
       "      <th>.18</th>\n",
       "      <th>Eval09F</th>\n",
       "      <th>.19</th>\n",
       "      <th>.20</th>\n",
       "      <th>Eval10M</th>\n",
       "      <th>.21</th>\n",
       "      <th>.22</th>\n",
       "      <th>filename</th>\n",
       "    </tr>\n",
       "  </thead>\n",
       "  <tbody>\n",
       "    <tr>\n",
       "      <th>1</th>\n",
       "      <td>1</td>\n",
       "      <td>3.5783901</td>\n",
       "      <td>11.637391</td>\n",
       "      <td>Sess01_script01_User002M_001</td>\n",
       "      <td>neutral</td>\n",
       "      <td>3.4</td>\n",
       "      <td>2.9</td>\n",
       "      <td>neutral</td>\n",
       "      <td>3</td>\n",
       "      <td>3</td>\n",
       "      <td>...</td>\n",
       "      <td>neutral</td>\n",
       "      <td>4</td>\n",
       "      <td>3</td>\n",
       "      <td>neutral</td>\n",
       "      <td>3</td>\n",
       "      <td>3</td>\n",
       "      <td>neutral</td>\n",
       "      <td>3</td>\n",
       "      <td>3</td>\n",
       "      <td>Sess01</td>\n",
       "    </tr>\n",
       "    <tr>\n",
       "      <th>2</th>\n",
       "      <td>2</td>\n",
       "      <td>11.637391</td>\n",
       "      <td>23.334393</td>\n",
       "      <td>Sess01_script01_User002M_002</td>\n",
       "      <td>neutral</td>\n",
       "      <td>3.1</td>\n",
       "      <td>2.9</td>\n",
       "      <td>neutral</td>\n",
       "      <td>3</td>\n",
       "      <td>3</td>\n",
       "      <td>...</td>\n",
       "      <td>neutral</td>\n",
       "      <td>4</td>\n",
       "      <td>3</td>\n",
       "      <td>neutral</td>\n",
       "      <td>3</td>\n",
       "      <td>3</td>\n",
       "      <td>neutral</td>\n",
       "      <td>3</td>\n",
       "      <td>3</td>\n",
       "      <td>Sess01</td>\n",
       "    </tr>\n",
       "    <tr>\n",
       "      <th>3</th>\n",
       "      <td>3</td>\n",
       "      <td>23.334393</td>\n",
       "      <td>31.558392</td>\n",
       "      <td>Sess01_script01_User002M_003</td>\n",
       "      <td>neutral</td>\n",
       "      <td>3.1</td>\n",
       "      <td>3</td>\n",
       "      <td>neutral</td>\n",
       "      <td>3</td>\n",
       "      <td>3</td>\n",
       "      <td>...</td>\n",
       "      <td>neutral</td>\n",
       "      <td>4</td>\n",
       "      <td>3</td>\n",
       "      <td>neutral</td>\n",
       "      <td>3</td>\n",
       "      <td>3</td>\n",
       "      <td>neutral</td>\n",
       "      <td>3</td>\n",
       "      <td>3</td>\n",
       "      <td>Sess01</td>\n",
       "    </tr>\n",
       "    <tr>\n",
       "      <th>4</th>\n",
       "      <td>4</td>\n",
       "      <td>31.558392</td>\n",
       "      <td>42.97039</td>\n",
       "      <td>Sess01_script01_User002M_004</td>\n",
       "      <td>neutral</td>\n",
       "      <td>3.7</td>\n",
       "      <td>3.1</td>\n",
       "      <td>neutral</td>\n",
       "      <td>4</td>\n",
       "      <td>3</td>\n",
       "      <td>...</td>\n",
       "      <td>neutral</td>\n",
       "      <td>4</td>\n",
       "      <td>4</td>\n",
       "      <td>neutral</td>\n",
       "      <td>3</td>\n",
       "      <td>3</td>\n",
       "      <td>neutral</td>\n",
       "      <td>4</td>\n",
       "      <td>3</td>\n",
       "      <td>Sess01</td>\n",
       "    </tr>\n",
       "    <tr>\n",
       "      <th>5</th>\n",
       "      <td>5</td>\n",
       "      <td>42.77729</td>\n",
       "      <td>44.86329</td>\n",
       "      <td>Sess01_script01_User001F_001</td>\n",
       "      <td>neutral</td>\n",
       "      <td>3.8</td>\n",
       "      <td>2.8</td>\n",
       "      <td>happy</td>\n",
       "      <td>5</td>\n",
       "      <td>2</td>\n",
       "      <td>...</td>\n",
       "      <td>neutral</td>\n",
       "      <td>4</td>\n",
       "      <td>3</td>\n",
       "      <td>neutral</td>\n",
       "      <td>3</td>\n",
       "      <td>3</td>\n",
       "      <td>happy</td>\n",
       "      <td>4</td>\n",
       "      <td>3</td>\n",
       "      <td>Sess01</td>\n",
       "    </tr>\n",
       "  </tbody>\n",
       "</table>\n",
       "<p>5 rows × 38 columns</p>\n",
       "</div>"
      ],
      "text/plain": [
       "  Numb        WAV                               Segment ID Total Evaluation  \\\n",
       "1    1  3.5783901  11.637391  Sess01_script01_User002M_001          neutral   \n",
       "2    2  11.637391  23.334393  Sess01_script01_User002M_002          neutral   \n",
       "3    3  23.334393  31.558392  Sess01_script01_User002M_003          neutral   \n",
       "4    4  31.558392   42.97039  Sess01_script01_User002M_004          neutral   \n",
       "5    5   42.77729   44.86329  Sess01_script01_User001F_001          neutral   \n",
       "\n",
       "    .1   .2  Eval01F  .3  .4  ...  Eval08M  .17  .18  Eval09F  .19  .20  \\\n",
       "1  3.4  2.9  neutral   3   3  ...  neutral    4    3  neutral    3    3   \n",
       "2  3.1  2.9  neutral   3   3  ...  neutral    4    3  neutral    3    3   \n",
       "3  3.1    3  neutral   3   3  ...  neutral    4    3  neutral    3    3   \n",
       "4  3.7  3.1  neutral   4   3  ...  neutral    4    4  neutral    3    3   \n",
       "5  3.8  2.8    happy   5   2  ...  neutral    4    3  neutral    3    3   \n",
       "\n",
       "   Eval10M  .21  .22 filename  \n",
       "1  neutral    3    3   Sess01  \n",
       "2  neutral    3    3   Sess01  \n",
       "3  neutral    3    3   Sess01  \n",
       "4  neutral    4    3   Sess01  \n",
       "5    happy    4    3   Sess01  \n",
       "\n",
       "[5 rows x 38 columns]"
      ]
     },
     "execution_count": 6,
     "metadata": {},
     "output_type": "execute_result"
    }
   ],
   "source": [
    "df_all = pd.DataFrame()\n",
    "\n",
    "for i in range(0, len(filescnt_wav)) :\n",
    "    file = filescnt_wav[i]\n",
    "    df = pd.read_csv(os.path.join(ann, file), encoding = 'utf-8')\n",
    "    df['filename'] = file.split('_eval')[0]\n",
    "    df_all = pd.concat([df_all, df])\n",
    "\n",
    "sess_df = df_all.drop([0],axis = 0)\n",
    "sess_df.head()"
   ]
  },
  {
   "cell_type": "code",
   "execution_count": 7,
   "metadata": {
    "colab": {
     "base_uri": "https://localhost:8080/"
    },
    "executionInfo": {
     "elapsed": 277,
     "status": "ok",
     "timestamp": 1651105309150,
     "user": {
      "displayName": "홍지우",
      "userId": "09687386104869736535"
     },
     "user_tz": -540
    },
    "id": "h6lVTIDphfPT",
    "outputId": "a6680626-89a4-4c29-b20a-c7af96458846"
   },
   "outputs": [
    {
     "name": "stderr",
     "output_type": "stream",
     "text": [
      "C:\\Users\\jiwoo\\anaconda3\\lib\\site-packages\\pandas\\core\\indexing.py:1637: SettingWithCopyWarning: \n",
      "A value is trying to be set on a copy of a slice from a DataFrame\n",
      "\n",
      "See the caveats in the documentation: https://pandas.pydata.org/pandas-docs/stable/user_guide/indexing.html#returning-a-view-versus-a-copy\n",
      "  self._setitem_single_block(indexer, value, name)\n",
      "C:\\Users\\jiwoo\\anaconda3\\lib\\site-packages\\pandas\\core\\indexing.py:692: SettingWithCopyWarning: \n",
      "A value is trying to be set on a copy of a slice from a DataFrame\n",
      "\n",
      "See the caveats in the documentation: https://pandas.pydata.org/pandas-docs/stable/user_guide/indexing.html#returning-a-view-versus-a-copy\n",
      "  iloc._setitem_with_indexer(indexer, value, self.name)\n"
     ]
    }
   ],
   "source": [
    "# Session 17의 annotation 파일에 Session 42로 라벨링된 데이터 일괄 Session 17로 변경\n",
    "\n",
    "for i, j in enumerate(sess_df['Segment ID']):\n",
    "    if 'Sess42' in j:\n",
    "        new = 'Sess17' + j[6:]\n",
    "        sess_df.iloc[i, 3] = new"
   ]
  },
  {
   "cell_type": "code",
   "execution_count": 8,
   "metadata": {
    "colab": {
     "base_uri": "https://localhost:8080/"
    },
    "executionInfo": {
     "elapsed": 296,
     "status": "ok",
     "timestamp": 1651105350009,
     "user": {
      "displayName": "홍지우",
      "userId": "09687386104869736535"
     },
     "user_tz": -540
    },
    "id": "gyBy_bJQi8JH",
    "outputId": "fb1be4b0-9a57-410a-c15f-b5658b08446e"
   },
   "outputs": [
    {
     "data": {
      "text/plain": [
       "array(['Sess01_script01_User002M_001', 'Sess01_script01_User002M_002',\n",
       "       'Sess01_script01_User002M_003', ...,\n",
       "       'Sess40_script06_User079F_045', 'Sess40_script06_User079F_046',\n",
       "       'Sess40_script06_User079F_047'], dtype=object)"
      ]
     },
     "execution_count": 8,
     "metadata": {},
     "output_type": "execute_result"
    }
   ],
   "source": [
    "sess_df['Segment ID'].unique()"
   ]
  },
  {
   "cell_type": "code",
   "execution_count": 9,
   "metadata": {
    "id": "rHg-S7_Lj7z4"
   },
   "outputs": [
    {
     "name": "stdout",
     "output_type": "stream",
     "text": [
      "E:/2022년/PSAT/주제분석/KEMDy20\\wav\\KESDy20_all_zscore.pickle\n",
      "E:/2022년/PSAT/주제분석/KEMDy20\\wav\\KESDy20_RNNarousal.pickle\n",
      "E:/2022년/PSAT/주제분석/KEMDy20\\wav\\KESDy20_RNNcategory.pickle\n",
      "E:/2022년/PSAT/주제분석/KEMDy20\\wav\\KESDy20_RNNvalence.pickle\n",
      "E:/2022년/PSAT/주제분석/KEMDy20\\wav\\KESDy20_speech_1.pickle\n",
      "E:/2022년/PSAT/주제분석/KEMDy20\\wav\\Session01\n",
      "E:/2022년/PSAT/주제분석/KEMDy20\\wav\\Session02\n",
      "E:/2022년/PSAT/주제분석/KEMDy20\\wav\\Session03\n",
      "E:/2022년/PSAT/주제분석/KEMDy20\\wav\\Session04\n",
      "E:/2022년/PSAT/주제분석/KEMDy20\\wav\\Session05\n",
      "E:/2022년/PSAT/주제분석/KEMDy20\\wav\\Session06\n",
      "E:/2022년/PSAT/주제분석/KEMDy20\\wav\\Session07\n",
      "E:/2022년/PSAT/주제분석/KEMDy20\\wav\\Session08\n",
      "E:/2022년/PSAT/주제분석/KEMDy20\\wav\\Session09\n",
      "E:/2022년/PSAT/주제분석/KEMDy20\\wav\\Session10\n",
      "E:/2022년/PSAT/주제분석/KEMDy20\\wav\\Session11\n",
      "E:/2022년/PSAT/주제분석/KEMDy20\\wav\\Session12\n",
      "E:/2022년/PSAT/주제분석/KEMDy20\\wav\\Session13\n",
      "E:/2022년/PSAT/주제분석/KEMDy20\\wav\\Session14\n",
      "E:/2022년/PSAT/주제분석/KEMDy20\\wav\\Session15\n",
      "E:/2022년/PSAT/주제분석/KEMDy20\\wav\\Session16\n",
      "E:/2022년/PSAT/주제분석/KEMDy20\\wav\\Session17\n",
      "E:/2022년/PSAT/주제분석/KEMDy20\\wav\\Session18\n",
      "E:/2022년/PSAT/주제분석/KEMDy20\\wav\\Session19\n",
      "E:/2022년/PSAT/주제분석/KEMDy20\\wav\\Session20\n",
      "E:/2022년/PSAT/주제분석/KEMDy20\\wav\\Session21\n",
      "E:/2022년/PSAT/주제분석/KEMDy20\\wav\\Session22\n",
      "E:/2022년/PSAT/주제분석/KEMDy20\\wav\\Session23\n",
      "E:/2022년/PSAT/주제분석/KEMDy20\\wav\\Session24\n",
      "E:/2022년/PSAT/주제분석/KEMDy20\\wav\\Session25\n",
      "E:/2022년/PSAT/주제분석/KEMDy20\\wav\\Session26\n",
      "E:/2022년/PSAT/주제분석/KEMDy20\\wav\\Session27\n",
      "E:/2022년/PSAT/주제분석/KEMDy20\\wav\\Session28\n",
      "E:/2022년/PSAT/주제분석/KEMDy20\\wav\\Session29\n",
      "E:/2022년/PSAT/주제분석/KEMDy20\\wav\\Session30\n",
      "E:/2022년/PSAT/주제분석/KEMDy20\\wav\\Session31\n",
      "E:/2022년/PSAT/주제분석/KEMDy20\\wav\\Session32\n",
      "E:/2022년/PSAT/주제분석/KEMDy20\\wav\\Session33\n",
      "E:/2022년/PSAT/주제분석/KEMDy20\\wav\\Session34\n",
      "E:/2022년/PSAT/주제분석/KEMDy20\\wav\\Session35\n",
      "E:/2022년/PSAT/주제분석/KEMDy20\\wav\\Session36\n",
      "E:/2022년/PSAT/주제분석/KEMDy20\\wav\\Session37\n",
      "E:/2022년/PSAT/주제분석/KEMDy20\\wav\\Session38\n",
      "E:/2022년/PSAT/주제분석/KEMDy20\\wav\\Session39\n",
      "E:/2022년/PSAT/주제분석/KEMDy20\\wav\\Session40\n",
      "E:/2022년/PSAT/주제분석/KEMDy20\\wav\\testData_.pickle\n",
      "E:/2022년/PSAT/주제분석/KEMDy20\\wav\\testResult_arousal.pickle\n",
      "E:/2022년/PSAT/주제분석/KEMDy20\\wav\\testResult_valence.pickle\n"
     ]
    }
   ],
   "source": [
    "wav_path = os.path.join(path, 'wav')\n",
    "\n",
    "wav_sess = search(wav_path)"
   ]
  },
  {
   "cell_type": "code",
   "execution_count": 14,
   "metadata": {
    "id": "YOlKSv2dkbhH"
   },
   "outputs": [],
   "source": [
    "# pickle 파일 제외\n",
    "\n",
    "for i in wav_sess:\n",
    "    if 'pickle' in i:\n",
    "        wav_sess.remove(i)\n",
    "    else:\n",
    "        pass"
   ]
  },
  {
   "cell_type": "code",
   "execution_count": 15,
   "metadata": {
    "colab": {
     "base_uri": "https://localhost:8080/"
    },
    "executionInfo": {
     "elapsed": 254,
     "status": "ok",
     "timestamp": 1651106040309,
     "user": {
      "displayName": "홍지우",
      "userId": "09687386104869736535"
     },
     "user_tz": -540
    },
    "id": "0mkBmdxklABH",
    "outputId": "d6907cd3-011d-4fa9-d25a-d4b446b2cac5"
   },
   "outputs": [
    {
     "data": {
      "text/plain": [
       "40"
      ]
     },
     "execution_count": 15,
     "metadata": {},
     "output_type": "execute_result"
    }
   ],
   "source": [
    "len(wav_sess)"
   ]
  },
  {
   "cell_type": "markdown",
   "metadata": {},
   "source": [
    "## **2. 오디오/텍스트 파일명 취합**"
   ]
  },
  {
   "cell_type": "code",
   "execution_count": 16,
   "metadata": {
    "executionInfo": {
     "elapsed": 266,
     "status": "ok",
     "timestamp": 1651105981289,
     "user": {
      "displayName": "홍지우",
      "userId": "09687386104869736535"
     },
     "user_tz": -540
    },
    "id": "FvRR9rLlkpIt"
   },
   "outputs": [],
   "source": [
    "txt_files = []\n",
    "wav_files = []\n",
    "\n",
    "for i in wav_sess:\n",
    "    filenames = os.listdir(i)\n",
    "    direc = i[19:]\n",
    "    for filename in filenames:\n",
    "        full_filename = os.path.join(direc, filename)\n",
    "        if full_filename[-3:] == 'wav':\n",
    "            wav_files.append(full_filename)\n",
    "        elif full_filename[-3:] == 'txt':\n",
    "            txt_files.append(full_filename)\n",
    "        else:\n",
    "            print('wrong!')"
   ]
  },
  {
   "cell_type": "code",
   "execution_count": 18,
   "metadata": {},
   "outputs": [
    {
     "data": {
      "text/html": [
       "<div>\n",
       "<style scoped>\n",
       "    .dataframe tbody tr th:only-of-type {\n",
       "        vertical-align: middle;\n",
       "    }\n",
       "\n",
       "    .dataframe tbody tr th {\n",
       "        vertical-align: top;\n",
       "    }\n",
       "\n",
       "    .dataframe thead th {\n",
       "        text-align: right;\n",
       "    }\n",
       "</style>\n",
       "<table border=\"1\" class=\"dataframe\">\n",
       "  <thead>\n",
       "    <tr style=\"text-align: right;\">\n",
       "      <th></th>\n",
       "      <th>Audio</th>\n",
       "      <th>Text</th>\n",
       "      <th>Emotion</th>\n",
       "      <th>Arousal</th>\n",
       "      <th>Valence</th>\n",
       "    </tr>\n",
       "  </thead>\n",
       "  <tbody>\n",
       "    <tr>\n",
       "      <th>0</th>\n",
       "      <td>KEMDy20\\wav\\Session01\\Sess01_script01_User001F...</td>\n",
       "      <td>KEMDy20\\wav\\Session01\\Sess01_script01_User001F...</td>\n",
       "      <td>KEMDy20\\wav\\Session01\\Sess01_script01_User001F...</td>\n",
       "      <td>KEMDy20\\wav\\Session01\\Sess01_script01_User001F...</td>\n",
       "      <td>KEMDy20\\wav\\Session01\\Sess01_script01_User001F...</td>\n",
       "    </tr>\n",
       "    <tr>\n",
       "      <th>1</th>\n",
       "      <td>KEMDy20\\wav\\Session01\\Sess01_script01_User001F...</td>\n",
       "      <td>KEMDy20\\wav\\Session01\\Sess01_script01_User001F...</td>\n",
       "      <td>KEMDy20\\wav\\Session01\\Sess01_script01_User001F...</td>\n",
       "      <td>KEMDy20\\wav\\Session01\\Sess01_script01_User001F...</td>\n",
       "      <td>KEMDy20\\wav\\Session01\\Sess01_script01_User001F...</td>\n",
       "    </tr>\n",
       "    <tr>\n",
       "      <th>2</th>\n",
       "      <td>KEMDy20\\wav\\Session01\\Sess01_script01_User001F...</td>\n",
       "      <td>KEMDy20\\wav\\Session01\\Sess01_script01_User001F...</td>\n",
       "      <td>KEMDy20\\wav\\Session01\\Sess01_script01_User001F...</td>\n",
       "      <td>KEMDy20\\wav\\Session01\\Sess01_script01_User001F...</td>\n",
       "      <td>KEMDy20\\wav\\Session01\\Sess01_script01_User001F...</td>\n",
       "    </tr>\n",
       "    <tr>\n",
       "      <th>3</th>\n",
       "      <td>KEMDy20\\wav\\Session01\\Sess01_script01_User001F...</td>\n",
       "      <td>KEMDy20\\wav\\Session01\\Sess01_script01_User001F...</td>\n",
       "      <td>KEMDy20\\wav\\Session01\\Sess01_script01_User001F...</td>\n",
       "      <td>KEMDy20\\wav\\Session01\\Sess01_script01_User001F...</td>\n",
       "      <td>KEMDy20\\wav\\Session01\\Sess01_script01_User001F...</td>\n",
       "    </tr>\n",
       "    <tr>\n",
       "      <th>4</th>\n",
       "      <td>KEMDy20\\wav\\Session01\\Sess01_script01_User001F...</td>\n",
       "      <td>KEMDy20\\wav\\Session01\\Sess01_script01_User001F...</td>\n",
       "      <td>KEMDy20\\wav\\Session01\\Sess01_script01_User001F...</td>\n",
       "      <td>KEMDy20\\wav\\Session01\\Sess01_script01_User001F...</td>\n",
       "      <td>KEMDy20\\wav\\Session01\\Sess01_script01_User001F...</td>\n",
       "    </tr>\n",
       "    <tr>\n",
       "      <th>...</th>\n",
       "      <td>...</td>\n",
       "      <td>...</td>\n",
       "      <td>...</td>\n",
       "      <td>...</td>\n",
       "      <td>...</td>\n",
       "    </tr>\n",
       "    <tr>\n",
       "      <th>13457</th>\n",
       "      <td>KEMDy20\\wav\\Session40\\Sess40_script06_User080F...</td>\n",
       "      <td>KEMDy20\\wav\\Session40\\Sess40_script06_User080F...</td>\n",
       "      <td>KEMDy20\\wav\\Session40\\Sess40_script06_User080F...</td>\n",
       "      <td>KEMDy20\\wav\\Session40\\Sess40_script06_User080F...</td>\n",
       "      <td>KEMDy20\\wav\\Session40\\Sess40_script06_User080F...</td>\n",
       "    </tr>\n",
       "    <tr>\n",
       "      <th>13458</th>\n",
       "      <td>KEMDy20\\wav\\Session40\\Sess40_script06_User080F...</td>\n",
       "      <td>KEMDy20\\wav\\Session40\\Sess40_script06_User080F...</td>\n",
       "      <td>KEMDy20\\wav\\Session40\\Sess40_script06_User080F...</td>\n",
       "      <td>KEMDy20\\wav\\Session40\\Sess40_script06_User080F...</td>\n",
       "      <td>KEMDy20\\wav\\Session40\\Sess40_script06_User080F...</td>\n",
       "    </tr>\n",
       "    <tr>\n",
       "      <th>13459</th>\n",
       "      <td>KEMDy20\\wav\\Session40\\Sess40_script06_User080F...</td>\n",
       "      <td>KEMDy20\\wav\\Session40\\Sess40_script06_User080F...</td>\n",
       "      <td>KEMDy20\\wav\\Session40\\Sess40_script06_User080F...</td>\n",
       "      <td>KEMDy20\\wav\\Session40\\Sess40_script06_User080F...</td>\n",
       "      <td>KEMDy20\\wav\\Session40\\Sess40_script06_User080F...</td>\n",
       "    </tr>\n",
       "    <tr>\n",
       "      <th>13460</th>\n",
       "      <td>KEMDy20\\wav\\Session40\\Sess40_script06_User080F...</td>\n",
       "      <td>KEMDy20\\wav\\Session40\\Sess40_script06_User080F...</td>\n",
       "      <td>KEMDy20\\wav\\Session40\\Sess40_script06_User080F...</td>\n",
       "      <td>KEMDy20\\wav\\Session40\\Sess40_script06_User080F...</td>\n",
       "      <td>KEMDy20\\wav\\Session40\\Sess40_script06_User080F...</td>\n",
       "    </tr>\n",
       "    <tr>\n",
       "      <th>13461</th>\n",
       "      <td>KEMDy20\\wav\\Session40\\Sess40_script06_User080F...</td>\n",
       "      <td>KEMDy20\\wav\\Session40\\Sess40_script06_User080F...</td>\n",
       "      <td>KEMDy20\\wav\\Session40\\Sess40_script06_User080F...</td>\n",
       "      <td>KEMDy20\\wav\\Session40\\Sess40_script06_User080F...</td>\n",
       "      <td>KEMDy20\\wav\\Session40\\Sess40_script06_User080F...</td>\n",
       "    </tr>\n",
       "  </tbody>\n",
       "</table>\n",
       "<p>13462 rows × 5 columns</p>\n",
       "</div>"
      ],
      "text/plain": [
       "                                                   Audio  \\\n",
       "0      KEMDy20\\wav\\Session01\\Sess01_script01_User001F...   \n",
       "1      KEMDy20\\wav\\Session01\\Sess01_script01_User001F...   \n",
       "2      KEMDy20\\wav\\Session01\\Sess01_script01_User001F...   \n",
       "3      KEMDy20\\wav\\Session01\\Sess01_script01_User001F...   \n",
       "4      KEMDy20\\wav\\Session01\\Sess01_script01_User001F...   \n",
       "...                                                  ...   \n",
       "13457  KEMDy20\\wav\\Session40\\Sess40_script06_User080F...   \n",
       "13458  KEMDy20\\wav\\Session40\\Sess40_script06_User080F...   \n",
       "13459  KEMDy20\\wav\\Session40\\Sess40_script06_User080F...   \n",
       "13460  KEMDy20\\wav\\Session40\\Sess40_script06_User080F...   \n",
       "13461  KEMDy20\\wav\\Session40\\Sess40_script06_User080F...   \n",
       "\n",
       "                                                    Text  \\\n",
       "0      KEMDy20\\wav\\Session01\\Sess01_script01_User001F...   \n",
       "1      KEMDy20\\wav\\Session01\\Sess01_script01_User001F...   \n",
       "2      KEMDy20\\wav\\Session01\\Sess01_script01_User001F...   \n",
       "3      KEMDy20\\wav\\Session01\\Sess01_script01_User001F...   \n",
       "4      KEMDy20\\wav\\Session01\\Sess01_script01_User001F...   \n",
       "...                                                  ...   \n",
       "13457  KEMDy20\\wav\\Session40\\Sess40_script06_User080F...   \n",
       "13458  KEMDy20\\wav\\Session40\\Sess40_script06_User080F...   \n",
       "13459  KEMDy20\\wav\\Session40\\Sess40_script06_User080F...   \n",
       "13460  KEMDy20\\wav\\Session40\\Sess40_script06_User080F...   \n",
       "13461  KEMDy20\\wav\\Session40\\Sess40_script06_User080F...   \n",
       "\n",
       "                                                 Emotion  \\\n",
       "0      KEMDy20\\wav\\Session01\\Sess01_script01_User001F...   \n",
       "1      KEMDy20\\wav\\Session01\\Sess01_script01_User001F...   \n",
       "2      KEMDy20\\wav\\Session01\\Sess01_script01_User001F...   \n",
       "3      KEMDy20\\wav\\Session01\\Sess01_script01_User001F...   \n",
       "4      KEMDy20\\wav\\Session01\\Sess01_script01_User001F...   \n",
       "...                                                  ...   \n",
       "13457  KEMDy20\\wav\\Session40\\Sess40_script06_User080F...   \n",
       "13458  KEMDy20\\wav\\Session40\\Sess40_script06_User080F...   \n",
       "13459  KEMDy20\\wav\\Session40\\Sess40_script06_User080F...   \n",
       "13460  KEMDy20\\wav\\Session40\\Sess40_script06_User080F...   \n",
       "13461  KEMDy20\\wav\\Session40\\Sess40_script06_User080F...   \n",
       "\n",
       "                                                 Arousal  \\\n",
       "0      KEMDy20\\wav\\Session01\\Sess01_script01_User001F...   \n",
       "1      KEMDy20\\wav\\Session01\\Sess01_script01_User001F...   \n",
       "2      KEMDy20\\wav\\Session01\\Sess01_script01_User001F...   \n",
       "3      KEMDy20\\wav\\Session01\\Sess01_script01_User001F...   \n",
       "4      KEMDy20\\wav\\Session01\\Sess01_script01_User001F...   \n",
       "...                                                  ...   \n",
       "13457  KEMDy20\\wav\\Session40\\Sess40_script06_User080F...   \n",
       "13458  KEMDy20\\wav\\Session40\\Sess40_script06_User080F...   \n",
       "13459  KEMDy20\\wav\\Session40\\Sess40_script06_User080F...   \n",
       "13460  KEMDy20\\wav\\Session40\\Sess40_script06_User080F...   \n",
       "13461  KEMDy20\\wav\\Session40\\Sess40_script06_User080F...   \n",
       "\n",
       "                                                 Valence  \n",
       "0      KEMDy20\\wav\\Session01\\Sess01_script01_User001F...  \n",
       "1      KEMDy20\\wav\\Session01\\Sess01_script01_User001F...  \n",
       "2      KEMDy20\\wav\\Session01\\Sess01_script01_User001F...  \n",
       "3      KEMDy20\\wav\\Session01\\Sess01_script01_User001F...  \n",
       "4      KEMDy20\\wav\\Session01\\Sess01_script01_User001F...  \n",
       "...                                                  ...  \n",
       "13457  KEMDy20\\wav\\Session40\\Sess40_script06_User080F...  \n",
       "13458  KEMDy20\\wav\\Session40\\Sess40_script06_User080F...  \n",
       "13459  KEMDy20\\wav\\Session40\\Sess40_script06_User080F...  \n",
       "13460  KEMDy20\\wav\\Session40\\Sess40_script06_User080F...  \n",
       "13461  KEMDy20\\wav\\Session40\\Sess40_script06_User080F...  \n",
       "\n",
       "[13462 rows x 5 columns]"
      ]
     },
     "execution_count": 18,
     "metadata": {},
     "output_type": "execute_result"
    }
   ],
   "source": [
    "total = pd.DataFrame({'Audio': wav_files,\n",
    "                      'Text': txt_files,\n",
    "                      'Emotion': wav_files,\n",
    "                      'Arousal': wav_files,\n",
    "                      'Valence': wav_files})\n",
    "\n",
    "total"
   ]
  },
  {
   "cell_type": "markdown",
   "metadata": {},
   "source": [
    "## **3. 전체 데이터 취합(Audio, Text, Emotion, Arousal, Valence**"
   ]
  },
  {
   "cell_type": "code",
   "execution_count": 19,
   "metadata": {},
   "outputs": [
    {
     "name": "stderr",
     "output_type": "stream",
     "text": [
      "100%|███████████████████████████████████████████████████████████████████████████| 13462/13462 [00:45<00:00, 297.28it/s]\n"
     ]
    }
   ],
   "source": [
    "path1 = 'E:/2022년/PSAT/주제분석'\n",
    "\n",
    "for i in tqdm(range(total.shape[0])):\n",
    "    directory = os.path.join(path1, total.iloc[i, 1])\n",
    "    with open (directory, 'r') as text:\n",
    "        string = text.readlines()\n",
    "    total.iloc[i, 1] = string[0].replace('\\n', '')"
   ]
  },
  {
   "cell_type": "code",
   "execution_count": 20,
   "metadata": {},
   "outputs": [
    {
     "name": "stderr",
     "output_type": "stream",
     "text": [
      "100%|███████████████████████████████████████████████████████████████████████████| 13462/13462 [00:38<00:00, 352.85it/s]\n"
     ]
    },
    {
     "data": {
      "text/html": [
       "<div>\n",
       "<style scoped>\n",
       "    .dataframe tbody tr th:only-of-type {\n",
       "        vertical-align: middle;\n",
       "    }\n",
       "\n",
       "    .dataframe tbody tr th {\n",
       "        vertical-align: top;\n",
       "    }\n",
       "\n",
       "    .dataframe thead th {\n",
       "        text-align: right;\n",
       "    }\n",
       "</style>\n",
       "<table border=\"1\" class=\"dataframe\">\n",
       "  <thead>\n",
       "    <tr style=\"text-align: right;\">\n",
       "      <th></th>\n",
       "      <th>Audio</th>\n",
       "      <th>Text</th>\n",
       "      <th>Emotion</th>\n",
       "      <th>Arousal</th>\n",
       "      <th>Valence</th>\n",
       "    </tr>\n",
       "  </thead>\n",
       "  <tbody>\n",
       "    <tr>\n",
       "      <th>0</th>\n",
       "      <td>KEMDy20\\wav\\Session01\\Sess01_script01_User001F...</td>\n",
       "      <td>n/ 아 친구들도? l/</td>\n",
       "      <td>neutral</td>\n",
       "      <td>2.8</td>\n",
       "      <td>3.8</td>\n",
       "    </tr>\n",
       "    <tr>\n",
       "      <th>1</th>\n",
       "      <td>KEMDy20\\wav\\Session01\\Sess01_script01_User001F...</td>\n",
       "      <td>l/ 나는 생일?</td>\n",
       "      <td>neutral</td>\n",
       "      <td>3.1</td>\n",
       "      <td>3.3</td>\n",
       "    </tr>\n",
       "    <tr>\n",
       "      <th>2</th>\n",
       "      <td>KEMDy20\\wav\\Session01\\Sess01_script01_User001F...</td>\n",
       "      <td>생일날이면은 b/ 내가 고기를 되게 좋아하니까 엄마도 그걸 아니까 미역국도 같이 해...</td>\n",
       "      <td>neutral</td>\n",
       "      <td>3.1</td>\n",
       "      <td>3.3</td>\n",
       "    </tr>\n",
       "    <tr>\n",
       "      <th>3</th>\n",
       "      <td>KEMDy20\\wav\\Session01\\Sess01_script01_User001F...</td>\n",
       "      <td>b/ 선물이라 이 보통 돈으로 주시지. l/</td>\n",
       "      <td>happy</td>\n",
       "      <td>3.1</td>\n",
       "      <td>3.6</td>\n",
       "    </tr>\n",
       "    <tr>\n",
       "      <th>4</th>\n",
       "      <td>KEMDy20\\wav\\Session01\\Sess01_script01_User001F...</td>\n",
       "      <td>l/ 용돈으로 주시고.</td>\n",
       "      <td>neutral</td>\n",
       "      <td>3.2</td>\n",
       "      <td>3.5</td>\n",
       "    </tr>\n",
       "  </tbody>\n",
       "</table>\n",
       "</div>"
      ],
      "text/plain": [
       "                                               Audio  \\\n",
       "0  KEMDy20\\wav\\Session01\\Sess01_script01_User001F...   \n",
       "1  KEMDy20\\wav\\Session01\\Sess01_script01_User001F...   \n",
       "2  KEMDy20\\wav\\Session01\\Sess01_script01_User001F...   \n",
       "3  KEMDy20\\wav\\Session01\\Sess01_script01_User001F...   \n",
       "4  KEMDy20\\wav\\Session01\\Sess01_script01_User001F...   \n",
       "\n",
       "                                                Text  Emotion Arousal Valence  \n",
       "0                                      n/ 아 친구들도? l/  neutral     2.8     3.8  \n",
       "1                                          l/ 나는 생일?  neutral     3.1     3.3  \n",
       "2  생일날이면은 b/ 내가 고기를 되게 좋아하니까 엄마도 그걸 아니까 미역국도 같이 해...  neutral     3.1     3.3  \n",
       "3                           b/ 선물이라 이 보통 돈으로 주시지. l/    happy     3.1     3.6  \n",
       "4                                       l/ 용돈으로 주시고.  neutral     3.2     3.5  "
      ]
     },
     "execution_count": 20,
     "metadata": {},
     "output_type": "execute_result"
    }
   ],
   "source": [
    "for i in tqdm(range(total.shape[0])):\n",
    "    file_name = total.iloc[i, 2][22:-4]\n",
    "    total.iloc[i, 2] = sess_df[sess_df['Segment ID'] == file_name].iloc[0, 4]\n",
    "    total.iloc[i, 3] = sess_df[sess_df['Segment ID'] == file_name].iloc[0, 6]\n",
    "    total.iloc[i, 4] = sess_df[sess_df['Segment ID'] == file_name].iloc[0, 5]\n",
    "\n",
    "total.head()"
   ]
  },
  {
   "cell_type": "code",
   "execution_count": 21,
   "metadata": {},
   "outputs": [],
   "source": [
    "for i in range(total.shape[0]):\n",
    "    text = total.iloc[i, 1]\n",
    "    text = text.replace('c/','').replace('n/','').replace('N/','').replace('u/','').replace('l/','')\n",
    "    text = text.replace('b/','').replace('*','').replace('+','').replace(',','')\n",
    "    total.iloc[i, 1] = text"
   ]
  },
  {
   "cell_type": "code",
   "execution_count": 28,
   "metadata": {},
   "outputs": [],
   "source": [
    "total['Audio'] = data1['Audio']"
   ]
  },
  {
   "cell_type": "code",
   "execution_count": 29,
   "metadata": {},
   "outputs": [
    {
     "data": {
      "text/html": [
       "<div>\n",
       "<style scoped>\n",
       "    .dataframe tbody tr th:only-of-type {\n",
       "        vertical-align: middle;\n",
       "    }\n",
       "\n",
       "    .dataframe tbody tr th {\n",
       "        vertical-align: top;\n",
       "    }\n",
       "\n",
       "    .dataframe thead th {\n",
       "        text-align: right;\n",
       "    }\n",
       "</style>\n",
       "<table border=\"1\" class=\"dataframe\">\n",
       "  <thead>\n",
       "    <tr style=\"text-align: right;\">\n",
       "      <th></th>\n",
       "      <th>Audio</th>\n",
       "      <th>Text</th>\n",
       "      <th>Emotion</th>\n",
       "      <th>Arousal</th>\n",
       "      <th>Valence</th>\n",
       "    </tr>\n",
       "  </thead>\n",
       "  <tbody>\n",
       "    <tr>\n",
       "      <th>0</th>\n",
       "      <td>[[[-46.271706, -56.406227, -45.840088, -44.836...</td>\n",
       "      <td>아 친구들도?</td>\n",
       "      <td>neutral</td>\n",
       "      <td>2.8</td>\n",
       "      <td>3.8</td>\n",
       "    </tr>\n",
       "    <tr>\n",
       "      <th>1</th>\n",
       "      <td>[[[-54.416702, -62.57361, -56.180107, -52.9284...</td>\n",
       "      <td>나는 생일?</td>\n",
       "      <td>neutral</td>\n",
       "      <td>3.1</td>\n",
       "      <td>3.3</td>\n",
       "    </tr>\n",
       "    <tr>\n",
       "      <th>2</th>\n",
       "      <td>[[[-55.659237, -55.838276, -50.546646, -51.658...</td>\n",
       "      <td>생일날이면은  내가 고기를 되게 좋아하니까 엄마도 그걸 아니까 미역국도 같이 해주시...</td>\n",
       "      <td>neutral</td>\n",
       "      <td>3.1</td>\n",
       "      <td>3.3</td>\n",
       "    </tr>\n",
       "    <tr>\n",
       "      <th>3</th>\n",
       "      <td>[[[-63.03308, -58.875835, -57.511215, -57.0118...</td>\n",
       "      <td>선물이라 이 보통 돈으로 주시지.</td>\n",
       "      <td>happy</td>\n",
       "      <td>3.1</td>\n",
       "      <td>3.6</td>\n",
       "    </tr>\n",
       "    <tr>\n",
       "      <th>4</th>\n",
       "      <td>[[[-55.11648, -48.754845, -48.318676, -46.4638...</td>\n",
       "      <td>용돈으로 주시고.</td>\n",
       "      <td>neutral</td>\n",
       "      <td>3.2</td>\n",
       "      <td>3.5</td>\n",
       "    </tr>\n",
       "  </tbody>\n",
       "</table>\n",
       "</div>"
      ],
      "text/plain": [
       "                                               Audio  \\\n",
       "0  [[[-46.271706, -56.406227, -45.840088, -44.836...   \n",
       "1  [[[-54.416702, -62.57361, -56.180107, -52.9284...   \n",
       "2  [[[-55.659237, -55.838276, -50.546646, -51.658...   \n",
       "3  [[[-63.03308, -58.875835, -57.511215, -57.0118...   \n",
       "4  [[[-55.11648, -48.754845, -48.318676, -46.4638...   \n",
       "\n",
       "                                                Text  Emotion Arousal Valence  \n",
       "0                                           아 친구들도?   neutral     2.8     3.8  \n",
       "1                                             나는 생일?  neutral     3.1     3.3  \n",
       "2  생일날이면은  내가 고기를 되게 좋아하니까 엄마도 그걸 아니까 미역국도 같이 해주시...  neutral     3.1     3.3  \n",
       "3                                선물이라 이 보통 돈으로 주시지.     happy     3.1     3.6  \n",
       "4                                          용돈으로 주시고.  neutral     3.2     3.5  "
      ]
     },
     "execution_count": 29,
     "metadata": {},
     "output_type": "execute_result"
    }
   ],
   "source": [
    "total.head()"
   ]
  },
  {
   "cell_type": "code",
   "execution_count": 30,
   "metadata": {},
   "outputs": [],
   "source": [
    "import pickle\n",
    "import gzip\n",
    "\n",
    "with gzip.open('for_test.pickle', 'wb') as f:\n",
    "    pickle.dump(total, f)"
   ]
  },
  {
   "cell_type": "markdown",
   "metadata": {},
   "source": [
    "## **4. 오디오 길이 분포 확인 및 Mel Spectrogram 변환**"
   ]
  },
  {
   "cell_type": "code",
   "execution_count": 13,
   "metadata": {},
   "outputs": [
    {
     "name": "stderr",
     "output_type": "stream",
     "text": [
      "100%|███████████████████████████████████████████████████████████████████████████| 13462/13462 [02:01<00:00, 110.44it/s]\n"
     ]
    }
   ],
   "source": [
    "import torchaudio\n",
    "import librosa\n",
    "from tqdm import tqdm\n",
    "\n",
    "audio_sr = []\n",
    "audio_sig = []\n",
    "direc = 'E:/2022년/PSAT/주제분석/'\n",
    "\n",
    "for i in tqdm(data['Audio']):\n",
    "    path_aud = os.path.join(direc, i)\n",
    "    sig, sr = torchaudio.load(path_aud)\n",
    "    audio_sr.append(sr)\n",
    "    \n",
    "    mel_spec = librosa.power_to_db(\n",
    "        librosa.feature.melspectrogram(y=sig[0].numpy(), sr=sr, n_mels=128, fmax=8000, fmin=100), ref=np.max)\n",
    "    audio_sig.append(mel_spec.shape[1])"
   ]
  },
  {
   "cell_type": "code",
   "execution_count": 19,
   "metadata": {},
   "outputs": [
    {
     "data": {
      "text/plain": [
       "(2, 400, 128)"
      ]
     },
     "execution_count": 19,
     "metadata": {},
     "output_type": "execute_result"
    }
   ],
   "source": [
    "mel_delta = librosa.feature.delta(mel_spec)\n",
    "\n",
    "mel_result = np.stack((mel_spec.transpose(), mel_delta.transpose()), axis=0)\n",
    "mel_result.shape"
   ]
  },
  {
   "cell_type": "code",
   "execution_count": 14,
   "metadata": {},
   "outputs": [
    {
     "data": {
      "text/plain": [
       "(array([6.080e+03, 3.871e+03, 1.819e+03, 9.490e+02, 4.220e+02, 2.080e+02,\n",
       "        9.000e+01, 1.700e+01, 4.000e+00, 2.000e+00]),\n",
       " array([  21.,  129.,  237.,  345.,  453.,  561.,  669.,  777.,  885.,\n",
       "         993., 1101.]),\n",
       " <BarContainer object of 10 artists>)"
      ]
     },
     "execution_count": 14,
     "metadata": {},
     "output_type": "execute_result"
    },
    {
     "data": {
      "image/png": "[encoded data removed]",
      "text/plain": [
       "<Figure size 432x288 with 1 Axes>"
      ]
     },
     "metadata": {
      "needs_background": "light"
     },
     "output_type": "display_data"
    }
   ],
   "source": [
    "# 음성 Signal 길이 분포 확인\n",
    "\n",
    "import matplotlib.pyplot as plt\n",
    "\n",
    "plt.hist(audio_sig)"
   ]
  },
  {
   "cell_type": "code",
   "execution_count": 26,
   "metadata": {},
   "outputs": [
    {
     "name": "stderr",
     "output_type": "stream",
     "text": [
      "100%|████████████████████████████████████████████████████████████████████████████| 13462/13462 [03:18<00:00, 67.73it/s]\n"
     ]
    }
   ],
   "source": [
    "# 입력 길이의 통일을 위해 Mel Spectrogram과 1차 차분값에 대해 512 기준 Zero Padding 진행\n",
    "\n",
    "import os\n",
    "from tqdm import tqdm\n",
    "import torch\n",
    "import librosa\n",
    "import torchaudio\n",
    "import numpy as np\n",
    "import pandas as pd\n",
    "\n",
    "local_path = 'E:/2022년/PSAT/주제분석/'\n",
    "\n",
    "def Mel_Extractor(file_name, length):\n",
    "    signal, sr = torchaudio.load(file_name)\n",
    "    mel_spec = librosa.power_to_db(\n",
    "        librosa.feature.melspectrogram(y=signal[0].numpy(),\n",
    "                                       sr=sr, n_mels=128, fmax=8000, fmin=100), ref=np.max)\n",
    "    mel_delta = librosa.feature.delta(mel_spec)\n",
    "\n",
    "    mel_result = np.stack((mel_spec.transpose(), mel_delta.transpose()), axis=0)\n",
    "    mel_result = torch.from_numpy(mel_result)\n",
    "\n",
    "    if mel_result.shape[1] > length:\n",
    "        mel_result = mel_result[:, 0:length, :]\n",
    "    else:\n",
    "        mel_result = torch.cat([mel_result, torch.zeros(mel_result.shape[0], length - mel_result.shape[1], mel_result.shape[2])], dim=1)\n",
    "        \n",
    "    mel_result = mel_result.numpy()\n",
    "\n",
    "    return mel_result\n",
    "\n",
    "for i in tqdm(range(data.shape[0])):\n",
    "    file_name = os.path.join(local_path, data.iloc[i, 0])\n",
    "    audio_feature = Mel_Extractor(file_name=file_name, length=512)\n",
    "    data.iloc[i, 0] = audio_feature\n"
   ]
  },
  {
   "cell_type": "code",
   "execution_count": 30,
   "metadata": {},
   "outputs": [],
   "source": [
    "with gzip.open('E:/2022년/PSAT/주제분석/KEMD_ver1.pickle', 'wb') as f:\n",
    "    pickle.dump(data, f)"
   ]
  }
 ],
 "metadata": {
  "colab": {
   "authorship_tag": "ABX9TyOJd5Zafc2K8cr5KS8OptlV",
   "collapsed_sections": [],
   "name": "데이터_취합.ipynb",
   "provenance": []
  },
  "kernelspec": {
   "display_name": "Python 3",
   "language": "python",
   "name": "python3"
  },
  "language_info": {
   "codemirror_mode": {
    "name": "ipython",
    "version": 3
   },
   "file_extension": ".py",
   "mimetype": "text/x-python",
   "name": "python",
   "nbconvert_exporter": "python",
   "pygments_lexer": "ipython3",
   "version": "3.8.8"
  }
 },
 "nbformat": 4,
 "nbformat_minor": 1
}
