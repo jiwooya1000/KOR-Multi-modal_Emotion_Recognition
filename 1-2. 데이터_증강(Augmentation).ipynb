{
  "cells": [
    {
      "cell_type": "markdown",
      "metadata": {
        "id": "view-in-github",
        "colab_type": "text"
      },
      "source": [
        "<a href=\"https://colab.research.google.com/github/jiwooya1000/KOR-Multimodal-Emotion-Recognition/blob/main/1-2.%20%EB%8D%B0%EC%9D%B4%ED%84%B0_%EC%A6%9D%EA%B0%95(Augmentation).ipynb\" target=\"_parent\"><img src=\"https://colab.research.google.com/assets/colab-badge.svg\" alt=\"Open In Colab\"/></a>"
      ]
    },
    {
      "cell_type": "markdown",
      "id": "b079392e",
      "metadata": {
        "id": "b079392e"
      },
      "source": [
        "# **원천 데이터 Data Augmentation**"
      ]
    },
    {
      "cell_type": "markdown",
      "id": "4e7d9525",
      "metadata": {
        "id": "4e7d9525"
      },
      "source": [
        "### **1-1. 데이터 취합.ipynb에서 생성된 Data_Original.pickle 파일이 디렉토리 내에 필요합니다.**\n",
        "\n",
        "---\n",
        "**<<기본 설정>>**\n",
        "\n",
        "> 텍스트 Augmentation만 적용 : 50%\n",
        "\n",
        "> 음성 Augmentation만 적용   : 50%\n",
        "\n",
        "> 전체 Augmentation 적용     : 50%\n",
        "\n",
        "> 최종 Dataset 크기          : 라벨별 250%\n",
        "---"
      ]
    },
    {
      "cell_type": "markdown",
      "id": "Y4B7UJrWSs0_",
      "metadata": {
        "id": "Y4B7UJrWSs0_"
      },
      "source": [
        "## 1. 설정"
      ]
    },
    {
      "cell_type": "code",
      "execution_count": null,
      "id": "k7pwIR8Pgc9D",
      "metadata": {
        "id": "k7pwIR8Pgc9D"
      },
      "outputs": [],
      "source": [
        "!pip install mxnet\n",
        "!pip install gluonnlp pandas tqdm\n",
        "!pip install sentencepiece\n",
        "!pip install transformers==3.0.2\n",
        "!pip install torch\n",
        "!pip install git+https://git@github.com/SKTBrain/KoBERT.git@master\n",
        "!pip install 'git+https://github.com/SKTBrain/KoBERT.git#egg=kobert_tokenizer&subdirectory=kobert_hf'"
      ]
    },
    {
      "cell_type": "code",
      "execution_count": null,
      "id": "GcumBpIx0AyW",
      "metadata": {
        "colab": {
          "base_uri": "https://localhost:8080/"
        },
        "id": "GcumBpIx0AyW",
        "outputId": "0a82fef4-2bcf-4442-c2f2-5a55d3e6e13e"
      },
      "outputs": [
        {
          "name": "stdout",
          "output_type": "stream",
          "text": [
            "Drive already mounted at /content/gdrive; to attempt to forcibly remount, call drive.mount(\"/content/gdrive\", force_remount=True).\n"
          ]
        }
      ],
      "source": [
        "import os\n",
        "\n",
        "from google.colab import drive\n",
        "drive.mount('/content/gdrive')"
      ]
    },
    {
      "cell_type": "code",
      "execution_count": null,
      "id": "qijXceqScr5B",
      "metadata": {
        "id": "qijXceqScr5B"
      },
      "outputs": [],
      "source": [
        "# Data_Original.pickle이 저장된 디렉토리로 변경\n",
        "\n",
        "directory = \"주분\"\n",
        "path = \"/content/gdrive/My Drive/\" + directory\n",
        "os.chdir(path)"
      ]
    },
    {
      "cell_type": "code",
      "execution_count": null,
      "id": "9b387799",
      "metadata": {
        "id": "9b387799"
      },
      "outputs": [],
      "source": [
        "import pickle\n",
        "import gzip\n",
        "import numpy as np\n",
        "import pandas as pd\n",
        "import matplotlib as mpl\n",
        "import matplotlib.pyplot as plt\n",
        "from tqdm import tqdm\n",
        "import gluonnlp as nlp\n",
        "import random\n",
        "import sklearn\n",
        "from sklearn.model_selection import train_test_split \n",
        "from kobert.utils import get_tokenizer\n",
        "from torch.utils.data import Dataset, DataLoader\n",
        "from transformers import AutoModel, AutoTokenizer\n",
        "from augmentation import *"
      ]
    },
    {
      "cell_type": "code",
      "execution_count": null,
      "id": "NzdHu2xdjEJE",
      "metadata": {
        "id": "NzdHu2xdjEJE"
      },
      "outputs": [],
      "source": [
        "# 미리 학습된 tokenizer를 불러오기\n",
        "kobert_tokenizer = AutoTokenizer.from_pretrained(\"skt/kobert-base-v1\", use_fast=False)"
      ]
    },
    {
      "cell_type": "code",
      "execution_count": null,
      "id": "7e7c7986",
      "metadata": {
        "colab": {
          "base_uri": "https://localhost:8080/",
          "height": 250
        },
        "id": "7e7c7986",
        "outputId": "2c19f4bc-e097-4053-dd53-83f92452730b"
      },
      "outputs": [
        {
          "data": {
            "text/html": [
              "\n",
              "  <div id=\"df-f5f7050b-a95f-4883-9614-471950480024\">\n",
              "    <div class=\"colab-df-container\">\n",
              "      <div>\n",
              "<style scoped>\n",
              "    .dataframe tbody tr th:only-of-type {\n",
              "        vertical-align: middle;\n",
              "    }\n",
              "\n",
              "    .dataframe tbody tr th {\n",
              "        vertical-align: top;\n",
              "    }\n",
              "\n",
              "    .dataframe thead th {\n",
              "        text-align: right;\n",
              "    }\n",
              "</style>\n",
              "<table border=\"1\" class=\"dataframe\">\n",
              "  <thead>\n",
              "    <tr style=\"text-align: right;\">\n",
              "      <th></th>\n",
              "      <th>Audio</th>\n",
              "      <th>Text</th>\n",
              "      <th>Emotion</th>\n",
              "      <th>Arousal</th>\n",
              "      <th>Valence</th>\n",
              "    </tr>\n",
              "  </thead>\n",
              "  <tbody>\n",
              "    <tr>\n",
              "      <th>0</th>\n",
              "      <td>[[[-46.271706, -56.406227, -45.840088, -44.836...</td>\n",
              "      <td>n/ 아 친구들도? l/</td>\n",
              "      <td>neutral</td>\n",
              "      <td>2.8</td>\n",
              "      <td>3.8</td>\n",
              "    </tr>\n",
              "    <tr>\n",
              "      <th>1</th>\n",
              "      <td>[[[-54.416702, -62.57361, -56.180107, -52.9284...</td>\n",
              "      <td>l/ 나는 생일?</td>\n",
              "      <td>neutral</td>\n",
              "      <td>3.1</td>\n",
              "      <td>3.3</td>\n",
              "    </tr>\n",
              "    <tr>\n",
              "      <th>2</th>\n",
              "      <td>[[[-55.659237, -55.838276, -50.546646, -51.658...</td>\n",
              "      <td>생일날이면은 b/ 내가 고기를 되게 좋아하니까 엄마도 그걸 아니까 미역국도 같이 해...</td>\n",
              "      <td>neutral</td>\n",
              "      <td>3.1</td>\n",
              "      <td>3.3</td>\n",
              "    </tr>\n",
              "    <tr>\n",
              "      <th>3</th>\n",
              "      <td>[[[-63.03308, -58.875835, -57.511215, -57.0118...</td>\n",
              "      <td>b/ 선물이라 이 보통 돈으로 주시지. l/</td>\n",
              "      <td>happy</td>\n",
              "      <td>3.1</td>\n",
              "      <td>3.6</td>\n",
              "    </tr>\n",
              "    <tr>\n",
              "      <th>4</th>\n",
              "      <td>[[[-55.11648, -48.754845, -48.318676, -46.4638...</td>\n",
              "      <td>l/ 용돈으로 주시고.</td>\n",
              "      <td>neutral</td>\n",
              "      <td>3.2</td>\n",
              "      <td>3.5</td>\n",
              "    </tr>\n",
              "  </tbody>\n",
              "</table>\n",
              "</div>\n",
              "      <button class=\"colab-df-convert\" onclick=\"convertToInteractive('df-f5f7050b-a95f-4883-9614-471950480024')\"\n",
              "              title=\"Convert this dataframe to an interactive table.\"\n",
              "              style=\"display:none;\">\n",
              "        \n",
              "  <svg xmlns=\"http://www.w3.org/2000/svg\" height=\"24px\"viewBox=\"0 0 24 24\"\n",
              "       width=\"24px\">\n",
              "    <path d=\"M0 0h24v24H0V0z\" fill=\"none\"/>\n",
              "    <path d=\"M18.56 5.44l.94 2.06.94-2.06 2.06-.94-2.06-.94-.94-2.06-.94 2.06-2.06.94zm-11 1L8.5 8.5l.94-2.06 2.06-.94-2.06-.94L8.5 2.5l-.94 2.06-2.06.94zm10 10l.94 2.06.94-2.06 2.06-.94-2.06-.94-.94-2.06-.94 2.06-2.06.94z\"/><path d=\"M17.41 7.96l-1.37-1.37c-.4-.4-.92-.59-1.43-.59-.52 0-1.04.2-1.43.59L10.3 9.45l-7.72 7.72c-.78.78-.78 2.05 0 2.83L4 21.41c.39.39.9.59 1.41.59.51 0 1.02-.2 1.41-.59l7.78-7.78 2.81-2.81c.8-.78.8-2.07 0-2.86zM5.41 20L4 18.59l7.72-7.72 1.47 1.35L5.41 20z\"/>\n",
              "  </svg>\n",
              "      </button>\n",
              "      \n",
              "  <style>\n",
              "    .colab-df-container {\n",
              "      display:flex;\n",
              "      flex-wrap:wrap;\n",
              "      gap: 12px;\n",
              "    }\n",
              "\n",
              "    .colab-df-convert {\n",
              "      background-color: #E8F0FE;\n",
              "      border: none;\n",
              "      border-radius: 50%;\n",
              "      cursor: pointer;\n",
              "      display: none;\n",
              "      fill: #1967D2;\n",
              "      height: 32px;\n",
              "      padding: 0 0 0 0;\n",
              "      width: 32px;\n",
              "    }\n",
              "\n",
              "    .colab-df-convert:hover {\n",
              "      background-color: #E2EBFA;\n",
              "      box-shadow: 0px 1px 2px rgba(60, 64, 67, 0.3), 0px 1px 3px 1px rgba(60, 64, 67, 0.15);\n",
              "      fill: #174EA6;\n",
              "    }\n",
              "\n",
              "    [theme=dark] .colab-df-convert {\n",
              "      background-color: #3B4455;\n",
              "      fill: #D2E3FC;\n",
              "    }\n",
              "\n",
              "    [theme=dark] .colab-df-convert:hover {\n",
              "      background-color: #434B5C;\n",
              "      box-shadow: 0px 1px 3px 1px rgba(0, 0, 0, 0.15);\n",
              "      filter: drop-shadow(0px 1px 2px rgba(0, 0, 0, 0.3));\n",
              "      fill: #FFFFFF;\n",
              "    }\n",
              "  </style>\n",
              "\n",
              "      <script>\n",
              "        const buttonEl =\n",
              "          document.querySelector('#df-f5f7050b-a95f-4883-9614-471950480024 button.colab-df-convert');\n",
              "        buttonEl.style.display =\n",
              "          google.colab.kernel.accessAllowed ? 'block' : 'none';\n",
              "\n",
              "        async function convertToInteractive(key) {\n",
              "          const element = document.querySelector('#df-f5f7050b-a95f-4883-9614-471950480024');\n",
              "          const dataTable =\n",
              "            await google.colab.kernel.invokeFunction('convertToInteractive',\n",
              "                                                     [key], {});\n",
              "          if (!dataTable) return;\n",
              "\n",
              "          const docLinkHtml = 'Like what you see? Visit the ' +\n",
              "            '<a target=\"_blank\" href=https://colab.research.google.com/notebooks/data_table.ipynb>data table notebook</a>'\n",
              "            + ' to learn more about interactive tables.';\n",
              "          element.innerHTML = '';\n",
              "          dataTable['output_type'] = 'display_data';\n",
              "          await google.colab.output.renderOutput(dataTable, element);\n",
              "          const docLink = document.createElement('div');\n",
              "          docLink.innerHTML = docLinkHtml;\n",
              "          element.appendChild(docLink);\n",
              "        }\n",
              "      </script>\n",
              "    </div>\n",
              "  </div>\n",
              "  "
            ],
            "text/plain": [
              "                                               Audio  \\\n",
              "0  [[[-46.271706, -56.406227, -45.840088, -44.836...   \n",
              "1  [[[-54.416702, -62.57361, -56.180107, -52.9284...   \n",
              "2  [[[-55.659237, -55.838276, -50.546646, -51.658...   \n",
              "3  [[[-63.03308, -58.875835, -57.511215, -57.0118...   \n",
              "4  [[[-55.11648, -48.754845, -48.318676, -46.4638...   \n",
              "\n",
              "                                                Text  Emotion Arousal Valence  \n",
              "0                                      n/ 아 친구들도? l/  neutral     2.8     3.8  \n",
              "1                                          l/ 나는 생일?  neutral     3.1     3.3  \n",
              "2  생일날이면은 b/ 내가 고기를 되게 좋아하니까 엄마도 그걸 아니까 미역국도 같이 해...  neutral     3.1     3.3  \n",
              "3                           b/ 선물이라 이 보통 돈으로 주시지. l/    happy     3.1     3.6  \n",
              "4                                       l/ 용돈으로 주시고.  neutral     3.2     3.5  "
            ]
          },
          "execution_count": 20,
          "metadata": {},
          "output_type": "execute_result"
        }
      ],
      "source": [
        "# Data_Original.pickle 불러오기\n",
        "\n",
        "with gzip.open('Data_Original.pickle','rb') as f:\n",
        "    data = pickle.load(f)\n",
        "data.head()"
      ]
    },
    {
      "cell_type": "code",
      "execution_count": null,
      "id": "ca5df917",
      "metadata": {
        "colab": {
          "base_uri": "https://localhost:8080/",
          "height": 696
        },
        "id": "ca5df917",
        "outputId": "ae869808-641f-43c3-8ea1-81e5acb0949f"
      },
      "outputs": [
        {
          "data": {
            "text/plain": [
              "<matplotlib.axes._subplots.AxesSubplot at 0x7fb1cf3f7290>"
            ]
          },
          "execution_count": 21,
          "metadata": {},
          "output_type": "execute_result"
        },
        {
          "data": {
            "image/png": "[encoded data removed]",
            "text/plain": [
              "<Figure size 1440x720 with 1 Axes>"
            ]
          },
          "metadata": {
            "needs_background": "light"
          },
          "output_type": "display_data"
        }
      ],
      "source": [
        "import seaborn as sns\n",
        "import matplotlib.pyplot as plt\n",
        "\n",
        "plt.figure(figsize=(20, 10))\n",
        "plt.xticks(rotation=45)\n",
        "sns.countplot(x=\"Emotion\", data=data)"
      ]
    },
    {
      "cell_type": "markdown",
      "id": "B4CH6xGa4cHB",
      "metadata": {
        "id": "B4CH6xGa4cHB"
      },
      "source": [
        "## 2. Label 정리"
      ]
    },
    {
      "cell_type": "code",
      "execution_count": null,
      "id": "LT6HsJHe4wEZ",
      "metadata": {
        "id": "LT6HsJHe4wEZ"
      },
      "outputs": [],
      "source": [
        "emotions = ['neutral', 'happy', 'surprise', 'angry', 'sad']\n",
        "data = data[data['Emotion'].isin(emotions)].reset_index(drop=True)"
      ]
    },
    {
      "cell_type": "markdown",
      "id": "I398Xb856fZp",
      "metadata": {
        "id": "I398Xb856fZp"
      },
      "source": [
        "## 3. Train, Valid, Test 분리"
      ]
    },
    {
      "cell_type": "code",
      "execution_count": null,
      "id": "37uxfAfP6vv6",
      "metadata": {
        "id": "37uxfAfP6vv6"
      },
      "outputs": [],
      "source": [
        "# train, test 분리\n",
        "train, test = train_test_split(data, test_size=0.2, random_state=1, shuffle=True)\n",
        "\n",
        "# train, valid 분리\n",
        "train, valid = train_test_split(train, test_size=0.1, random_state=1, shuffle=True)\n",
        "\n",
        "# index reset\n",
        "train = train.reset_index(drop=True)\n",
        "test = test.reset_index(drop=True)\n",
        "valid = valid.reset_index(drop=True)"
      ]
    },
    {
      "cell_type": "code",
      "execution_count": null,
      "id": "pugejR3u8y-f",
      "metadata": {
        "colab": {
          "base_uri": "https://localhost:8080/"
        },
        "id": "pugejR3u8y-f",
        "outputId": "220999e5-4ee6-47e3-fc8b-87a1e09b3943"
      },
      "outputs": [
        {
          "name": "stdout",
          "output_type": "stream",
          "text": [
            "train shape: (9161, 5) test shape: (2545, 5) valid shape: (1018, 5)\n"
          ]
        }
      ],
      "source": [
        "# shape 확인\n",
        "train.shape\n",
        "test.shape\n",
        "valid.shape\n",
        "\n",
        "print('train shape:', train.shape, 'test shape:' ,test.shape, 'valid shape:', valid.shape)"
      ]
    },
    {
      "cell_type": "code",
      "execution_count": null,
      "id": "iCCjLNbAMXzN",
      "metadata": {
        "colab": {
          "base_uri": "https://localhost:8080/",
          "height": 206
        },
        "id": "iCCjLNbAMXzN",
        "outputId": "dfe75164-a0c1-45cd-a84f-a4e6e2889ecb"
      },
      "outputs": [
        {
          "data": {
            "text/html": [
              "\n",
              "  <div id=\"df-6a420d9d-33c9-443f-8691-9c27d6fd7e88\">\n",
              "    <div class=\"colab-df-container\">\n",
              "      <div>\n",
              "<style scoped>\n",
              "    .dataframe tbody tr th:only-of-type {\n",
              "        vertical-align: middle;\n",
              "    }\n",
              "\n",
              "    .dataframe tbody tr th {\n",
              "        vertical-align: top;\n",
              "    }\n",
              "\n",
              "    .dataframe thead th {\n",
              "        text-align: right;\n",
              "    }\n",
              "</style>\n",
              "<table border=\"1\" class=\"dataframe\">\n",
              "  <thead>\n",
              "    <tr style=\"text-align: right;\">\n",
              "      <th></th>\n",
              "      <th>Audio</th>\n",
              "      <th>Text</th>\n",
              "      <th>Emotion</th>\n",
              "      <th>Arousal</th>\n",
              "      <th>Valence</th>\n",
              "    </tr>\n",
              "  </thead>\n",
              "  <tbody>\n",
              "    <tr>\n",
              "      <th>0</th>\n",
              "      <td>[[[-48.80014, -53.394287, -47.190025, -49.031,...</td>\n",
              "      <td>어 나는 워낙 많아 가지고 고등 고등학교 3학년 3학년 한 중반쯤에 만났던 앤데 그...</td>\n",
              "      <td>neutral</td>\n",
              "      <td>3.2</td>\n",
              "      <td>2.5</td>\n",
              "    </tr>\n",
              "    <tr>\n",
              "      <th>1</th>\n",
              "      <td>[[[-54.973846, -52.31526, -58.51277, -61.26166...</td>\n",
              "      <td>근데 이제 진지 이거 진짜예요 진짜, 꾸민 게 아니라.</td>\n",
              "      <td>neutral</td>\n",
              "      <td>3.7</td>\n",
              "      <td>3.8</td>\n",
              "    </tr>\n",
              "    <tr>\n",
              "      <th>2</th>\n",
              "      <td>[[[-44.767715, -46.717567, -55.23369, -57.9519...</td>\n",
              "      <td>c/ 그리고 그걸 또 그걸 또 빌려달라고 하는 남자애들이 있다는 거랑.</td>\n",
              "      <td>neutral</td>\n",
              "      <td>3.5</td>\n",
              "      <td>2.4</td>\n",
              "    </tr>\n",
              "    <tr>\n",
              "      <th>3</th>\n",
              "      <td>[[[-49.928337, -53.0866, -55.302124, -51.03737...</td>\n",
              "      <td>아 뭐였지 그.</td>\n",
              "      <td>neutral</td>\n",
              "      <td>3.5</td>\n",
              "      <td>3.5</td>\n",
              "    </tr>\n",
              "    <tr>\n",
              "      <th>4</th>\n",
              "      <td>[[[-50.406174, -51.11396, -43.607597, -50.8311...</td>\n",
              "      <td>그때도 아마 믿었었을 때였으니까 엄마 아빠가 했겠지 엄마가 어 근데 딱 언니랑 같이...</td>\n",
              "      <td>neutral</td>\n",
              "      <td>3.5</td>\n",
              "      <td>3.6</td>\n",
              "    </tr>\n",
              "  </tbody>\n",
              "</table>\n",
              "</div>\n",
              "      <button class=\"colab-df-convert\" onclick=\"convertToInteractive('df-6a420d9d-33c9-443f-8691-9c27d6fd7e88')\"\n",
              "              title=\"Convert this dataframe to an interactive table.\"\n",
              "              style=\"display:none;\">\n",
              "        \n",
              "  <svg xmlns=\"http://www.w3.org/2000/svg\" height=\"24px\"viewBox=\"0 0 24 24\"\n",
              "       width=\"24px\">\n",
              "    <path d=\"M0 0h24v24H0V0z\" fill=\"none\"/>\n",
              "    <path d=\"M18.56 5.44l.94 2.06.94-2.06 2.06-.94-2.06-.94-.94-2.06-.94 2.06-2.06.94zm-11 1L8.5 8.5l.94-2.06 2.06-.94-2.06-.94L8.5 2.5l-.94 2.06-2.06.94zm10 10l.94 2.06.94-2.06 2.06-.94-2.06-.94-.94-2.06-.94 2.06-2.06.94z\"/><path d=\"M17.41 7.96l-1.37-1.37c-.4-.4-.92-.59-1.43-.59-.52 0-1.04.2-1.43.59L10.3 9.45l-7.72 7.72c-.78.78-.78 2.05 0 2.83L4 21.41c.39.39.9.59 1.41.59.51 0 1.02-.2 1.41-.59l7.78-7.78 2.81-2.81c.8-.78.8-2.07 0-2.86zM5.41 20L4 18.59l7.72-7.72 1.47 1.35L5.41 20z\"/>\n",
              "  </svg>\n",
              "      </button>\n",
              "      \n",
              "  <style>\n",
              "    .colab-df-container {\n",
              "      display:flex;\n",
              "      flex-wrap:wrap;\n",
              "      gap: 12px;\n",
              "    }\n",
              "\n",
              "    .colab-df-convert {\n",
              "      background-color: #E8F0FE;\n",
              "      border: none;\n",
              "      border-radius: 50%;\n",
              "      cursor: pointer;\n",
              "      display: none;\n",
              "      fill: #1967D2;\n",
              "      height: 32px;\n",
              "      padding: 0 0 0 0;\n",
              "      width: 32px;\n",
              "    }\n",
              "\n",
              "    .colab-df-convert:hover {\n",
              "      background-color: #E2EBFA;\n",
              "      box-shadow: 0px 1px 2px rgba(60, 64, 67, 0.3), 0px 1px 3px 1px rgba(60, 64, 67, 0.15);\n",
              "      fill: #174EA6;\n",
              "    }\n",
              "\n",
              "    [theme=dark] .colab-df-convert {\n",
              "      background-color: #3B4455;\n",
              "      fill: #D2E3FC;\n",
              "    }\n",
              "\n",
              "    [theme=dark] .colab-df-convert:hover {\n",
              "      background-color: #434B5C;\n",
              "      box-shadow: 0px 1px 3px 1px rgba(0, 0, 0, 0.15);\n",
              "      filter: drop-shadow(0px 1px 2px rgba(0, 0, 0, 0.3));\n",
              "      fill: #FFFFFF;\n",
              "    }\n",
              "  </style>\n",
              "\n",
              "      <script>\n",
              "        const buttonEl =\n",
              "          document.querySelector('#df-6a420d9d-33c9-443f-8691-9c27d6fd7e88 button.colab-df-convert');\n",
              "        buttonEl.style.display =\n",
              "          google.colab.kernel.accessAllowed ? 'block' : 'none';\n",
              "\n",
              "        async function convertToInteractive(key) {\n",
              "          const element = document.querySelector('#df-6a420d9d-33c9-443f-8691-9c27d6fd7e88');\n",
              "          const dataTable =\n",
              "            await google.colab.kernel.invokeFunction('convertToInteractive',\n",
              "                                                     [key], {});\n",
              "          if (!dataTable) return;\n",
              "\n",
              "          const docLinkHtml = 'Like what you see? Visit the ' +\n",
              "            '<a target=\"_blank\" href=https://colab.research.google.com/notebooks/data_table.ipynb>data table notebook</a>'\n",
              "            + ' to learn more about interactive tables.';\n",
              "          element.innerHTML = '';\n",
              "          dataTable['output_type'] = 'display_data';\n",
              "          await google.colab.output.renderOutput(dataTable, element);\n",
              "          const docLink = document.createElement('div');\n",
              "          docLink.innerHTML = docLinkHtml;\n",
              "          element.appendChild(docLink);\n",
              "        }\n",
              "      </script>\n",
              "    </div>\n",
              "  </div>\n",
              "  "
            ],
            "text/plain": [
              "                                               Audio  \\\n",
              "0  [[[-48.80014, -53.394287, -47.190025, -49.031,...   \n",
              "1  [[[-54.973846, -52.31526, -58.51277, -61.26166...   \n",
              "2  [[[-44.767715, -46.717567, -55.23369, -57.9519...   \n",
              "3  [[[-49.928337, -53.0866, -55.302124, -51.03737...   \n",
              "4  [[[-50.406174, -51.11396, -43.607597, -50.8311...   \n",
              "\n",
              "                                                Text  Emotion Arousal Valence  \n",
              "0  어 나는 워낙 많아 가지고 고등 고등학교 3학년 3학년 한 중반쯤에 만났던 앤데 그...  neutral     3.2     2.5  \n",
              "1                     근데 이제 진지 이거 진짜예요 진짜, 꾸민 게 아니라.  neutral     3.7     3.8  \n",
              "2            c/ 그리고 그걸 또 그걸 또 빌려달라고 하는 남자애들이 있다는 거랑.  neutral     3.5     2.4  \n",
              "3                                           아 뭐였지 그.  neutral     3.5     3.5  \n",
              "4  그때도 아마 믿었었을 때였으니까 엄마 아빠가 했겠지 엄마가 어 근데 딱 언니랑 같이...  neutral     3.5     3.6  "
            ]
          },
          "execution_count": 18,
          "metadata": {},
          "output_type": "execute_result"
        }
      ],
      "source": [
        "train.head()"
      ]
    },
    {
      "cell_type": "code",
      "execution_count": null,
      "id": "1cho1SwVMZHl",
      "metadata": {
        "colab": {
          "base_uri": "https://localhost:8080/",
          "height": 206
        },
        "id": "1cho1SwVMZHl",
        "outputId": "8cad0d40-0ecd-485e-a554-167a6bbce863"
      },
      "outputs": [
        {
          "data": {
            "text/html": [
              "\n",
              "  <div id=\"df-9e5a04eb-b085-45f0-b891-91765300a475\">\n",
              "    <div class=\"colab-df-container\">\n",
              "      <div>\n",
              "<style scoped>\n",
              "    .dataframe tbody tr th:only-of-type {\n",
              "        vertical-align: middle;\n",
              "    }\n",
              "\n",
              "    .dataframe tbody tr th {\n",
              "        vertical-align: top;\n",
              "    }\n",
              "\n",
              "    .dataframe thead th {\n",
              "        text-align: right;\n",
              "    }\n",
              "</style>\n",
              "<table border=\"1\" class=\"dataframe\">\n",
              "  <thead>\n",
              "    <tr style=\"text-align: right;\">\n",
              "      <th></th>\n",
              "      <th>Audio</th>\n",
              "      <th>Text</th>\n",
              "      <th>Emotion</th>\n",
              "      <th>Arousal</th>\n",
              "      <th>Valence</th>\n",
              "    </tr>\n",
              "  </thead>\n",
              "  <tbody>\n",
              "    <tr>\n",
              "      <th>0</th>\n",
              "      <td>[[[-32.611706, -40.704754, -43.800583, -48.981...</td>\n",
              "      <td>어 뭐 말하잖아, 뭐라고.</td>\n",
              "      <td>neutral</td>\n",
              "      <td>2.7</td>\n",
              "      <td>3.2</td>\n",
              "    </tr>\n",
              "    <tr>\n",
              "      <th>1</th>\n",
              "      <td>[[[-42.446842, -40.61912, -38.566677, -42.5249...</td>\n",
              "      <td>그냥 그때 생각났어 갑자기.</td>\n",
              "      <td>happy</td>\n",
              "      <td>3.1</td>\n",
              "      <td>4</td>\n",
              "    </tr>\n",
              "    <tr>\n",
              "      <th>2</th>\n",
              "      <td>[[[-49.344223, -46.565918, -53.195145, -55.958...</td>\n",
              "      <td>1월, 이번 연도 1월?</td>\n",
              "      <td>surprise</td>\n",
              "      <td>3.5</td>\n",
              "      <td>2.9</td>\n",
              "    </tr>\n",
              "    <tr>\n",
              "      <th>3</th>\n",
              "      <td>[[[-38.194786, -41.374622, -41.682507, -39.035...</td>\n",
              "      <td>이게 남편인가 아니면 진짜 아랫사람 보는 거처럼 대하는 거 어렸을 때도 그런 생각이...</td>\n",
              "      <td>neutral</td>\n",
              "      <td>2.7</td>\n",
              "      <td>2.2</td>\n",
              "    </tr>\n",
              "    <tr>\n",
              "      <th>4</th>\n",
              "      <td>[[[-56.393036, -51.530422, -46.11987, -50.2757...</td>\n",
              "      <td>기계랑 특히 얘기하는 게 뭔가 일상생활에서 사람들이 자주 있잖아요.</td>\n",
              "      <td>neutral</td>\n",
              "      <td>3.6</td>\n",
              "      <td>3.9</td>\n",
              "    </tr>\n",
              "  </tbody>\n",
              "</table>\n",
              "</div>\n",
              "      <button class=\"colab-df-convert\" onclick=\"convertToInteractive('df-9e5a04eb-b085-45f0-b891-91765300a475')\"\n",
              "              title=\"Convert this dataframe to an interactive table.\"\n",
              "              style=\"display:none;\">\n",
              "        \n",
              "  <svg xmlns=\"http://www.w3.org/2000/svg\" height=\"24px\"viewBox=\"0 0 24 24\"\n",
              "       width=\"24px\">\n",
              "    <path d=\"M0 0h24v24H0V0z\" fill=\"none\"/>\n",
              "    <path d=\"M18.56 5.44l.94 2.06.94-2.06 2.06-.94-2.06-.94-.94-2.06-.94 2.06-2.06.94zm-11 1L8.5 8.5l.94-2.06 2.06-.94-2.06-.94L8.5 2.5l-.94 2.06-2.06.94zm10 10l.94 2.06.94-2.06 2.06-.94-2.06-.94-.94-2.06-.94 2.06-2.06.94z\"/><path d=\"M17.41 7.96l-1.37-1.37c-.4-.4-.92-.59-1.43-.59-.52 0-1.04.2-1.43.59L10.3 9.45l-7.72 7.72c-.78.78-.78 2.05 0 2.83L4 21.41c.39.39.9.59 1.41.59.51 0 1.02-.2 1.41-.59l7.78-7.78 2.81-2.81c.8-.78.8-2.07 0-2.86zM5.41 20L4 18.59l7.72-7.72 1.47 1.35L5.41 20z\"/>\n",
              "  </svg>\n",
              "      </button>\n",
              "      \n",
              "  <style>\n",
              "    .colab-df-container {\n",
              "      display:flex;\n",
              "      flex-wrap:wrap;\n",
              "      gap: 12px;\n",
              "    }\n",
              "\n",
              "    .colab-df-convert {\n",
              "      background-color: #E8F0FE;\n",
              "      border: none;\n",
              "      border-radius: 50%;\n",
              "      cursor: pointer;\n",
              "      display: none;\n",
              "      fill: #1967D2;\n",
              "      height: 32px;\n",
              "      padding: 0 0 0 0;\n",
              "      width: 32px;\n",
              "    }\n",
              "\n",
              "    .colab-df-convert:hover {\n",
              "      background-color: #E2EBFA;\n",
              "      box-shadow: 0px 1px 2px rgba(60, 64, 67, 0.3), 0px 1px 3px 1px rgba(60, 64, 67, 0.15);\n",
              "      fill: #174EA6;\n",
              "    }\n",
              "\n",
              "    [theme=dark] .colab-df-convert {\n",
              "      background-color: #3B4455;\n",
              "      fill: #D2E3FC;\n",
              "    }\n",
              "\n",
              "    [theme=dark] .colab-df-convert:hover {\n",
              "      background-color: #434B5C;\n",
              "      box-shadow: 0px 1px 3px 1px rgba(0, 0, 0, 0.15);\n",
              "      filter: drop-shadow(0px 1px 2px rgba(0, 0, 0, 0.3));\n",
              "      fill: #FFFFFF;\n",
              "    }\n",
              "  </style>\n",
              "\n",
              "      <script>\n",
              "        const buttonEl =\n",
              "          document.querySelector('#df-9e5a04eb-b085-45f0-b891-91765300a475 button.colab-df-convert');\n",
              "        buttonEl.style.display =\n",
              "          google.colab.kernel.accessAllowed ? 'block' : 'none';\n",
              "\n",
              "        async function convertToInteractive(key) {\n",
              "          const element = document.querySelector('#df-9e5a04eb-b085-45f0-b891-91765300a475');\n",
              "          const dataTable =\n",
              "            await google.colab.kernel.invokeFunction('convertToInteractive',\n",
              "                                                     [key], {});\n",
              "          if (!dataTable) return;\n",
              "\n",
              "          const docLinkHtml = 'Like what you see? Visit the ' +\n",
              "            '<a target=\"_blank\" href=https://colab.research.google.com/notebooks/data_table.ipynb>data table notebook</a>'\n",
              "            + ' to learn more about interactive tables.';\n",
              "          element.innerHTML = '';\n",
              "          dataTable['output_type'] = 'display_data';\n",
              "          await google.colab.output.renderOutput(dataTable, element);\n",
              "          const docLink = document.createElement('div');\n",
              "          docLink.innerHTML = docLinkHtml;\n",
              "          element.appendChild(docLink);\n",
              "        }\n",
              "      </script>\n",
              "    </div>\n",
              "  </div>\n",
              "  "
            ],
            "text/plain": [
              "                                               Audio  \\\n",
              "0  [[[-32.611706, -40.704754, -43.800583, -48.981...   \n",
              "1  [[[-42.446842, -40.61912, -38.566677, -42.5249...   \n",
              "2  [[[-49.344223, -46.565918, -53.195145, -55.958...   \n",
              "3  [[[-38.194786, -41.374622, -41.682507, -39.035...   \n",
              "4  [[[-56.393036, -51.530422, -46.11987, -50.2757...   \n",
              "\n",
              "                                                Text   Emotion Arousal Valence  \n",
              "0                                     어 뭐 말하잖아, 뭐라고.   neutral     2.7     3.2  \n",
              "1                                    그냥 그때 생각났어 갑자기.     happy     3.1       4  \n",
              "2                                      1월, 이번 연도 1월?  surprise     3.5     2.9  \n",
              "3  이게 남편인가 아니면 진짜 아랫사람 보는 거처럼 대하는 거 어렸을 때도 그런 생각이...   neutral     2.7     2.2  \n",
              "4              기계랑 특히 얘기하는 게 뭔가 일상생활에서 사람들이 자주 있잖아요.   neutral     3.6     3.9  "
            ]
          },
          "execution_count": 19,
          "metadata": {},
          "output_type": "execute_result"
        }
      ],
      "source": [
        "test.head()"
      ]
    },
    {
      "cell_type": "code",
      "execution_count": null,
      "id": "RgklPWXzMZs8",
      "metadata": {
        "colab": {
          "base_uri": "https://localhost:8080/",
          "height": 206
        },
        "id": "RgklPWXzMZs8",
        "outputId": "343eb7bd-9b1e-497f-ca2f-cef28e78af70"
      },
      "outputs": [
        {
          "data": {
            "text/html": [
              "\n",
              "  <div id=\"df-e8e2fb93-8802-4b11-880d-a45949f95781\">\n",
              "    <div class=\"colab-df-container\">\n",
              "      <div>\n",
              "<style scoped>\n",
              "    .dataframe tbody tr th:only-of-type {\n",
              "        vertical-align: middle;\n",
              "    }\n",
              "\n",
              "    .dataframe tbody tr th {\n",
              "        vertical-align: top;\n",
              "    }\n",
              "\n",
              "    .dataframe thead th {\n",
              "        text-align: right;\n",
              "    }\n",
              "</style>\n",
              "<table border=\"1\" class=\"dataframe\">\n",
              "  <thead>\n",
              "    <tr style=\"text-align: right;\">\n",
              "      <th></th>\n",
              "      <th>Audio</th>\n",
              "      <th>Text</th>\n",
              "      <th>Emotion</th>\n",
              "      <th>Arousal</th>\n",
              "      <th>Valence</th>\n",
              "    </tr>\n",
              "  </thead>\n",
              "  <tbody>\n",
              "    <tr>\n",
              "      <th>0</th>\n",
              "      <td>[[[-55.512672, -62.684135, -61.733246, -58.050...</td>\n",
              "      <td>아 l/ 근데 너도 마찬가지야. l/</td>\n",
              "      <td>happy</td>\n",
              "      <td>3.8</td>\n",
              "      <td>4</td>\n",
              "    </tr>\n",
              "    <tr>\n",
              "      <th>1</th>\n",
              "      <td>[[[-56.07441, -58.00986, -62.267685, -60.02328...</td>\n",
              "      <td>c/ 눈이 부시게?</td>\n",
              "      <td>neutral</td>\n",
              "      <td>3.3</td>\n",
              "      <td>3</td>\n",
              "    </tr>\n",
              "    <tr>\n",
              "      <th>2</th>\n",
              "      <td>[[[-54.13335, -53.462902, -51.1234, -49.40057,...</td>\n",
              "      <td>AI 대해서 어떻게 생각해?</td>\n",
              "      <td>neutral</td>\n",
              "      <td>3</td>\n",
              "      <td>3.4</td>\n",
              "    </tr>\n",
              "    <tr>\n",
              "      <th>3</th>\n",
              "      <td>[[[-44.299217, -49.900352, -54.476143, -58.572...</td>\n",
              "      <td>근데 나는 코 고는 소리는 그래도 괜찮은데 이 가는 소리는 뭔가 무서워.</td>\n",
              "      <td>neutral</td>\n",
              "      <td>3.7</td>\n",
              "      <td>2.6</td>\n",
              "    </tr>\n",
              "    <tr>\n",
              "      <th>4</th>\n",
              "      <td>[[[-50.403397, -52.57505, -46.273453, -51.9670...</td>\n",
              "      <td>근데 또 신발 벗으면은 또 발 다칠 거 같기도 하고 그 상황에서는.</td>\n",
              "      <td>neutral</td>\n",
              "      <td>3.2</td>\n",
              "      <td>3</td>\n",
              "    </tr>\n",
              "  </tbody>\n",
              "</table>\n",
              "</div>\n",
              "      <button class=\"colab-df-convert\" onclick=\"convertToInteractive('df-e8e2fb93-8802-4b11-880d-a45949f95781')\"\n",
              "              title=\"Convert this dataframe to an interactive table.\"\n",
              "              style=\"display:none;\">\n",
              "        \n",
              "  <svg xmlns=\"http://www.w3.org/2000/svg\" height=\"24px\"viewBox=\"0 0 24 24\"\n",
              "       width=\"24px\">\n",
              "    <path d=\"M0 0h24v24H0V0z\" fill=\"none\"/>\n",
              "    <path d=\"M18.56 5.44l.94 2.06.94-2.06 2.06-.94-2.06-.94-.94-2.06-.94 2.06-2.06.94zm-11 1L8.5 8.5l.94-2.06 2.06-.94-2.06-.94L8.5 2.5l-.94 2.06-2.06.94zm10 10l.94 2.06.94-2.06 2.06-.94-2.06-.94-.94-2.06-.94 2.06-2.06.94z\"/><path d=\"M17.41 7.96l-1.37-1.37c-.4-.4-.92-.59-1.43-.59-.52 0-1.04.2-1.43.59L10.3 9.45l-7.72 7.72c-.78.78-.78 2.05 0 2.83L4 21.41c.39.39.9.59 1.41.59.51 0 1.02-.2 1.41-.59l7.78-7.78 2.81-2.81c.8-.78.8-2.07 0-2.86zM5.41 20L4 18.59l7.72-7.72 1.47 1.35L5.41 20z\"/>\n",
              "  </svg>\n",
              "      </button>\n",
              "      \n",
              "  <style>\n",
              "    .colab-df-container {\n",
              "      display:flex;\n",
              "      flex-wrap:wrap;\n",
              "      gap: 12px;\n",
              "    }\n",
              "\n",
              "    .colab-df-convert {\n",
              "      background-color: #E8F0FE;\n",
              "      border: none;\n",
              "      border-radius: 50%;\n",
              "      cursor: pointer;\n",
              "      display: none;\n",
              "      fill: #1967D2;\n",
              "      height: 32px;\n",
              "      padding: 0 0 0 0;\n",
              "      width: 32px;\n",
              "    }\n",
              "\n",
              "    .colab-df-convert:hover {\n",
              "      background-color: #E2EBFA;\n",
              "      box-shadow: 0px 1px 2px rgba(60, 64, 67, 0.3), 0px 1px 3px 1px rgba(60, 64, 67, 0.15);\n",
              "      fill: #174EA6;\n",
              "    }\n",
              "\n",
              "    [theme=dark] .colab-df-convert {\n",
              "      background-color: #3B4455;\n",
              "      fill: #D2E3FC;\n",
              "    }\n",
              "\n",
              "    [theme=dark] .colab-df-convert:hover {\n",
              "      background-color: #434B5C;\n",
              "      box-shadow: 0px 1px 3px 1px rgba(0, 0, 0, 0.15);\n",
              "      filter: drop-shadow(0px 1px 2px rgba(0, 0, 0, 0.3));\n",
              "      fill: #FFFFFF;\n",
              "    }\n",
              "  </style>\n",
              "\n",
              "      <script>\n",
              "        const buttonEl =\n",
              "          document.querySelector('#df-e8e2fb93-8802-4b11-880d-a45949f95781 button.colab-df-convert');\n",
              "        buttonEl.style.display =\n",
              "          google.colab.kernel.accessAllowed ? 'block' : 'none';\n",
              "\n",
              "        async function convertToInteractive(key) {\n",
              "          const element = document.querySelector('#df-e8e2fb93-8802-4b11-880d-a45949f95781');\n",
              "          const dataTable =\n",
              "            await google.colab.kernel.invokeFunction('convertToInteractive',\n",
              "                                                     [key], {});\n",
              "          if (!dataTable) return;\n",
              "\n",
              "          const docLinkHtml = 'Like what you see? Visit the ' +\n",
              "            '<a target=\"_blank\" href=https://colab.research.google.com/notebooks/data_table.ipynb>data table notebook</a>'\n",
              "            + ' to learn more about interactive tables.';\n",
              "          element.innerHTML = '';\n",
              "          dataTable['output_type'] = 'display_data';\n",
              "          await google.colab.output.renderOutput(dataTable, element);\n",
              "          const docLink = document.createElement('div');\n",
              "          docLink.innerHTML = docLinkHtml;\n",
              "          element.appendChild(docLink);\n",
              "        }\n",
              "      </script>\n",
              "    </div>\n",
              "  </div>\n",
              "  "
            ],
            "text/plain": [
              "                                               Audio  \\\n",
              "0  [[[-55.512672, -62.684135, -61.733246, -58.050...   \n",
              "1  [[[-56.07441, -58.00986, -62.267685, -60.02328...   \n",
              "2  [[[-54.13335, -53.462902, -51.1234, -49.40057,...   \n",
              "3  [[[-44.299217, -49.900352, -54.476143, -58.572...   \n",
              "4  [[[-50.403397, -52.57505, -46.273453, -51.9670...   \n",
              "\n",
              "                                       Text  Emotion Arousal Valence  \n",
              "0                      아 l/ 근데 너도 마찬가지야. l/    happy     3.8       4  \n",
              "1                                c/ 눈이 부시게?  neutral     3.3       3  \n",
              "2                           AI 대해서 어떻게 생각해?  neutral       3     3.4  \n",
              "3  근데 나는 코 고는 소리는 그래도 괜찮은데 이 가는 소리는 뭔가 무서워.  neutral     3.7     2.6  \n",
              "4     근데 또 신발 벗으면은 또 발 다칠 거 같기도 하고 그 상황에서는.  neutral     3.2       3  "
            ]
          },
          "execution_count": 20,
          "metadata": {},
          "output_type": "execute_result"
        }
      ],
      "source": [
        "valid.head()"
      ]
    },
    {
      "cell_type": "markdown",
      "id": "b4T5fWtt8eQD",
      "metadata": {
        "id": "b4T5fWtt8eQD"
      },
      "source": [
        "## 4. Test, Valid 토큰화"
      ]
    },
    {
      "cell_type": "code",
      "execution_count": null,
      "id": "wVntTbmL8m_m",
      "metadata": {
        "colab": {
          "base_uri": "https://localhost:8080/"
        },
        "id": "wVntTbmL8m_m",
        "outputId": "c38a6778-6132-4bf8-8dfc-bb5d50d4b8b1"
      },
      "outputs": [
        {
          "name": "stderr",
          "output_type": "stream",
          "text": [
            "100%|██████████| 2545/2545 [00:00<00:00, 4528.89it/s]\n",
            "100%|██████████| 1018/1018 [00:00<00:00, 5152.16it/s]\n"
          ]
        }
      ],
      "source": [
        "# 불용어 제거\n",
        "for i in tqdm(range(test.shape[0])):\n",
        "    text = test.iloc[i, 1]\n",
        "    text = text.replace('c/','').replace('n/','').replace('N/','').replace('u/','').replace('l/','')\n",
        "    text = text.replace('b/','').replace('*','').replace('+','').replace(',','').replace('?','')\n",
        "    test.iloc[i, 1] = text\n",
        "\n",
        "for i in tqdm(range(valid.shape[0])):\n",
        "    text = valid.iloc[i, 1]\n",
        "    text = text.replace('c/','').replace('n/','').replace('N/','').replace('u/','').replace('l/','')\n",
        "    text = text.replace('b/','').replace('*','').replace('+','').replace(',','').replace('?','')\n",
        "    valid.iloc[i, 1] = text"
      ]
    },
    {
      "cell_type": "code",
      "execution_count": null,
      "id": "hk4KfxWr9s4X",
      "metadata": {
        "id": "hk4KfxWr9s4X"
      },
      "outputs": [],
      "source": [
        "# 토큰화\n",
        "for i in range(0, len(test['Text'])):\n",
        "  tokenized = kobert_tokenizer.tokenize(test.iloc[i].Text)\n",
        "  test.loc[i, 'Text'] = tokenized\n",
        "\n",
        "for i in range(0, len(valid['Text'])):\n",
        "  tokenized = kobert_tokenizer.tokenize(valid.iloc[i].Text)\n",
        "  valid.loc[i, 'Text'] = tokenized"
      ]
    },
    {
      "cell_type": "markdown",
      "id": "5qt1gZmQ9_rX",
      "metadata": {
        "id": "5qt1gZmQ9_rX"
      },
      "source": [
        "## 5. Pickle로 저장 - 토큰화가 완료된 valid, test"
      ]
    },
    {
      "cell_type": "code",
      "execution_count": null,
      "id": "VLpNlbeE-CVQ",
      "metadata": {
        "id": "VLpNlbeE-CVQ"
      },
      "outputs": [],
      "source": [
        "valid 저장\n",
        "with gzip.open('valid_toknized.pickle','wb') as f:\n",
        "    pickle.dump(valid, f)\n",
        "\n",
        "# test 저장\n",
        "with gzip.open('test_tokenized.pickle','wb') as f:\n",
        "    pickle.dump(test, f)"
      ]
    },
    {
      "cell_type": "markdown",
      "id": "2f0f79a4",
      "metadata": {
        "id": "2f0f79a4"
      },
      "source": [
        "\n",
        "## 6. Data Augmentation - train 데이터로 진행"
      ]
    },
    {
      "cell_type": "code",
      "execution_count": null,
      "id": "toFnv-lDgA-1",
      "metadata": {
        "colab": {
          "base_uri": "https://localhost:8080/"
        },
        "id": "toFnv-lDgA-1",
        "outputId": "db8e62c5-3dd7-4f45-ec59-e9ae6e086e33"
      },
      "outputs": [
        {
          "name": "stderr",
          "output_type": "stream",
          "text": [
            "100%|██████████| 9161/9161 [00:01<00:00, 7964.08it/s]\n"
          ]
        }
      ],
      "source": [
        "# train 불용어 제거\n",
        "for i in tqdm(range(train.shape[0])):\n",
        "    text = train.iloc[i, 1]\n",
        "    text = text.replace('c/','').replace('n/','').replace('N/','').replace('u/','').replace('l/','')\n",
        "    text = text.replace('b/','').replace('*','').replace('+','').replace(',','').replace('?','')\n",
        "    train.iloc[i, 1] = text"
      ]
    },
    {
      "cell_type": "code",
      "execution_count": null,
      "id": "9yPD-0Lridzo",
      "metadata": {
        "colab": {
          "base_uri": "https://localhost:8080/",
          "height": 424
        },
        "id": "9yPD-0Lridzo",
        "outputId": "67ddec3d-4aa4-41df-a456-7c95336f9bf8"
      },
      "outputs": [
        {
          "data": {
            "text/html": [
              "\n",
              "  <div id=\"df-fe2fc8c2-008a-420c-9468-cc40284f777e\">\n",
              "    <div class=\"colab-df-container\">\n",
              "      <div>\n",
              "<style scoped>\n",
              "    .dataframe tbody tr th:only-of-type {\n",
              "        vertical-align: middle;\n",
              "    }\n",
              "\n",
              "    .dataframe tbody tr th {\n",
              "        vertical-align: top;\n",
              "    }\n",
              "\n",
              "    .dataframe thead th {\n",
              "        text-align: right;\n",
              "    }\n",
              "</style>\n",
              "<table border=\"1\" class=\"dataframe\">\n",
              "  <thead>\n",
              "    <tr style=\"text-align: right;\">\n",
              "      <th></th>\n",
              "      <th>Audio</th>\n",
              "      <th>Text</th>\n",
              "      <th>Emotion</th>\n",
              "      <th>Arousal</th>\n",
              "      <th>Valence</th>\n",
              "    </tr>\n",
              "  </thead>\n",
              "  <tbody>\n",
              "    <tr>\n",
              "      <th>0</th>\n",
              "      <td>[[[-48.80014, -53.394287, -47.190025, -49.031,...</td>\n",
              "      <td>어 나는 워낙 많아 가지고 고등 고등학교 3학년 3학년 한 중반쯤에 만났던 앤데 그...</td>\n",
              "      <td>neutral</td>\n",
              "      <td>3.2</td>\n",
              "      <td>2.5</td>\n",
              "    </tr>\n",
              "    <tr>\n",
              "      <th>1</th>\n",
              "      <td>[[[-54.973846, -52.31526, -58.51277, -61.26166...</td>\n",
              "      <td>근데 이제 진지 이거 진짜예요 진짜 꾸민 게 아니라.</td>\n",
              "      <td>neutral</td>\n",
              "      <td>3.7</td>\n",
              "      <td>3.8</td>\n",
              "    </tr>\n",
              "    <tr>\n",
              "      <th>2</th>\n",
              "      <td>[[[-44.767715, -46.717567, -55.23369, -57.9519...</td>\n",
              "      <td>그리고 그걸 또 그걸 또 빌려달라고 하는 남자애들이 있다는 거랑.</td>\n",
              "      <td>neutral</td>\n",
              "      <td>3.5</td>\n",
              "      <td>2.4</td>\n",
              "    </tr>\n",
              "    <tr>\n",
              "      <th>3</th>\n",
              "      <td>[[[-49.928337, -53.0866, -55.302124, -51.03737...</td>\n",
              "      <td>아 뭐였지 그.</td>\n",
              "      <td>neutral</td>\n",
              "      <td>3.5</td>\n",
              "      <td>3.5</td>\n",
              "    </tr>\n",
              "    <tr>\n",
              "      <th>4</th>\n",
              "      <td>[[[-50.406174, -51.11396, -43.607597, -50.8311...</td>\n",
              "      <td>그때도 아마 믿었었을 때였으니까 엄마 아빠가 했겠지 엄마가 어 근데 딱 언니랑 같이...</td>\n",
              "      <td>neutral</td>\n",
              "      <td>3.5</td>\n",
              "      <td>3.6</td>\n",
              "    </tr>\n",
              "    <tr>\n",
              "      <th>...</th>\n",
              "      <td>...</td>\n",
              "      <td>...</td>\n",
              "      <td>...</td>\n",
              "      <td>...</td>\n",
              "      <td>...</td>\n",
              "    </tr>\n",
              "    <tr>\n",
              "      <th>9156</th>\n",
              "      <td>[[[-52.66149, -53.32052, -53.342834, -54.32839...</td>\n",
              "      <td>이야 혹시 이제 뭐 만나게 된 뭐 계기나 그런 거는.</td>\n",
              "      <td>neutral</td>\n",
              "      <td>3.1</td>\n",
              "      <td>3.1</td>\n",
              "    </tr>\n",
              "    <tr>\n",
              "      <th>9157</th>\n",
              "      <td>[[[-56.698814, -59.34777, -58.947758, -52.3478...</td>\n",
              "      <td>그냥 오히려 군대 둘 다 갔다 왔잖아 우리가.</td>\n",
              "      <td>neutral</td>\n",
              "      <td>3.5</td>\n",
              "      <td>3</td>\n",
              "    </tr>\n",
              "    <tr>\n",
              "      <th>9158</th>\n",
              "      <td>[[[-68.991394, -69.926254, -68.77756, -71.4115...</td>\n",
              "      <td>음 불편하다기보다는 저는 좀 그 좀 왔다 갔다를 시간 개념적으로 좀 맞춰서가 안 돼...</td>\n",
              "      <td>neutral</td>\n",
              "      <td>3</td>\n",
              "      <td>2.6</td>\n",
              "    </tr>\n",
              "    <tr>\n",
              "      <th>9159</th>\n",
              "      <td>[[[-51.001194, -39.19429, -44.311413, -39.5392...</td>\n",
              "      <td>신랑이 그래 오늘 고생했어 자기도 일 끝나고 왔는데도 그래 고생했어 진짜 그 한마...</td>\n",
              "      <td>neutral</td>\n",
              "      <td>3.5</td>\n",
              "      <td>3.5</td>\n",
              "    </tr>\n",
              "    <tr>\n",
              "      <th>9160</th>\n",
              "      <td>[[[-31.722773, -24.567858, -25.303434, -27.614...</td>\n",
              "      <td>우리 언니는.</td>\n",
              "      <td>neutral</td>\n",
              "      <td>2.4</td>\n",
              "      <td>3</td>\n",
              "    </tr>\n",
              "  </tbody>\n",
              "</table>\n",
              "<p>9161 rows × 5 columns</p>\n",
              "</div>\n",
              "      <button class=\"colab-df-convert\" onclick=\"convertToInteractive('df-fe2fc8c2-008a-420c-9468-cc40284f777e')\"\n",
              "              title=\"Convert this dataframe to an interactive table.\"\n",
              "              style=\"display:none;\">\n",
              "        \n",
              "  <svg xmlns=\"http://www.w3.org/2000/svg\" height=\"24px\"viewBox=\"0 0 24 24\"\n",
              "       width=\"24px\">\n",
              "    <path d=\"M0 0h24v24H0V0z\" fill=\"none\"/>\n",
              "    <path d=\"M18.56 5.44l.94 2.06.94-2.06 2.06-.94-2.06-.94-.94-2.06-.94 2.06-2.06.94zm-11 1L8.5 8.5l.94-2.06 2.06-.94-2.06-.94L8.5 2.5l-.94 2.06-2.06.94zm10 10l.94 2.06.94-2.06 2.06-.94-2.06-.94-.94-2.06-.94 2.06-2.06.94z\"/><path d=\"M17.41 7.96l-1.37-1.37c-.4-.4-.92-.59-1.43-.59-.52 0-1.04.2-1.43.59L10.3 9.45l-7.72 7.72c-.78.78-.78 2.05 0 2.83L4 21.41c.39.39.9.59 1.41.59.51 0 1.02-.2 1.41-.59l7.78-7.78 2.81-2.81c.8-.78.8-2.07 0-2.86zM5.41 20L4 18.59l7.72-7.72 1.47 1.35L5.41 20z\"/>\n",
              "  </svg>\n",
              "      </button>\n",
              "      \n",
              "  <style>\n",
              "    .colab-df-container {\n",
              "      display:flex;\n",
              "      flex-wrap:wrap;\n",
              "      gap: 12px;\n",
              "    }\n",
              "\n",
              "    .colab-df-convert {\n",
              "      background-color: #E8F0FE;\n",
              "      border: none;\n",
              "      border-radius: 50%;\n",
              "      cursor: pointer;\n",
              "      display: none;\n",
              "      fill: #1967D2;\n",
              "      height: 32px;\n",
              "      padding: 0 0 0 0;\n",
              "      width: 32px;\n",
              "    }\n",
              "\n",
              "    .colab-df-convert:hover {\n",
              "      background-color: #E2EBFA;\n",
              "      box-shadow: 0px 1px 2px rgba(60, 64, 67, 0.3), 0px 1px 3px 1px rgba(60, 64, 67, 0.15);\n",
              "      fill: #174EA6;\n",
              "    }\n",
              "\n",
              "    [theme=dark] .colab-df-convert {\n",
              "      background-color: #3B4455;\n",
              "      fill: #D2E3FC;\n",
              "    }\n",
              "\n",
              "    [theme=dark] .colab-df-convert:hover {\n",
              "      background-color: #434B5C;\n",
              "      box-shadow: 0px 1px 3px 1px rgba(0, 0, 0, 0.15);\n",
              "      filter: drop-shadow(0px 1px 2px rgba(0, 0, 0, 0.3));\n",
              "      fill: #FFFFFF;\n",
              "    }\n",
              "  </style>\n",
              "\n",
              "      <script>\n",
              "        const buttonEl =\n",
              "          document.querySelector('#df-fe2fc8c2-008a-420c-9468-cc40284f777e button.colab-df-convert');\n",
              "        buttonEl.style.display =\n",
              "          google.colab.kernel.accessAllowed ? 'block' : 'none';\n",
              "\n",
              "        async function convertToInteractive(key) {\n",
              "          const element = document.querySelector('#df-fe2fc8c2-008a-420c-9468-cc40284f777e');\n",
              "          const dataTable =\n",
              "            await google.colab.kernel.invokeFunction('convertToInteractive',\n",
              "                                                     [key], {});\n",
              "          if (!dataTable) return;\n",
              "\n",
              "          const docLinkHtml = 'Like what you see? Visit the ' +\n",
              "            '<a target=\"_blank\" href=https://colab.research.google.com/notebooks/data_table.ipynb>data table notebook</a>'\n",
              "            + ' to learn more about interactive tables.';\n",
              "          element.innerHTML = '';\n",
              "          dataTable['output_type'] = 'display_data';\n",
              "          await google.colab.output.renderOutput(dataTable, element);\n",
              "          const docLink = document.createElement('div');\n",
              "          docLink.innerHTML = docLinkHtml;\n",
              "          element.appendChild(docLink);\n",
              "        }\n",
              "      </script>\n",
              "    </div>\n",
              "  </div>\n",
              "  "
            ],
            "text/plain": [
              "                                                  Audio  \\\n",
              "0     [[[-48.80014, -53.394287, -47.190025, -49.031,...   \n",
              "1     [[[-54.973846, -52.31526, -58.51277, -61.26166...   \n",
              "2     [[[-44.767715, -46.717567, -55.23369, -57.9519...   \n",
              "3     [[[-49.928337, -53.0866, -55.302124, -51.03737...   \n",
              "4     [[[-50.406174, -51.11396, -43.607597, -50.8311...   \n",
              "...                                                 ...   \n",
              "9156  [[[-52.66149, -53.32052, -53.342834, -54.32839...   \n",
              "9157  [[[-56.698814, -59.34777, -58.947758, -52.3478...   \n",
              "9158  [[[-68.991394, -69.926254, -68.77756, -71.4115...   \n",
              "9159  [[[-51.001194, -39.19429, -44.311413, -39.5392...   \n",
              "9160  [[[-31.722773, -24.567858, -25.303434, -27.614...   \n",
              "\n",
              "                                                   Text  Emotion Arousal  \\\n",
              "0     어 나는 워낙 많아 가지고 고등 고등학교 3학년 3학년 한 중반쯤에 만났던 앤데 그...  neutral     3.2   \n",
              "1                         근데 이제 진지 이거 진짜예요 진짜 꾸민 게 아니라.  neutral     3.7   \n",
              "2                  그리고 그걸 또 그걸 또 빌려달라고 하는 남자애들이 있다는 거랑.  neutral     3.5   \n",
              "3                                              아 뭐였지 그.  neutral     3.5   \n",
              "4     그때도 아마 믿었었을 때였으니까 엄마 아빠가 했겠지 엄마가 어 근데 딱 언니랑 같이...  neutral     3.5   \n",
              "...                                                 ...      ...     ...   \n",
              "9156                     이야 혹시 이제 뭐 만나게 된 뭐 계기나 그런 거는.   neutral     3.1   \n",
              "9157                          그냥 오히려 군대 둘 다 갔다 왔잖아 우리가.  neutral     3.5   \n",
              "9158  음 불편하다기보다는 저는 좀 그 좀 왔다 갔다를 시간 개념적으로 좀 맞춰서가 안 돼...  neutral       3   \n",
              "9159   신랑이 그래 오늘 고생했어 자기도 일 끝나고 왔는데도 그래 고생했어 진짜 그 한마...  neutral     3.5   \n",
              "9160                                            우리 언니는.  neutral     2.4   \n",
              "\n",
              "     Valence  \n",
              "0        2.5  \n",
              "1        3.8  \n",
              "2        2.4  \n",
              "3        3.5  \n",
              "4        3.6  \n",
              "...      ...  \n",
              "9156     3.1  \n",
              "9157       3  \n",
              "9158     2.6  \n",
              "9159     3.5  \n",
              "9160       3  \n",
              "\n",
              "[9161 rows x 5 columns]"
            ]
          },
          "execution_count": 18,
          "metadata": {},
          "output_type": "execute_result"
        }
      ],
      "source": [
        "train.head()"
      ]
    },
    {
      "cell_type": "code",
      "execution_count": null,
      "id": "MB1ELubVz1bX",
      "metadata": {
        "id": "MB1ELubVz1bX"
      },
      "outputs": [],
      "source": [
        "for i in range(0, len(train['Text'])):\n",
        "  tokenized = kobert_tokenizer.tokenize(train.iloc[i].Text)\n",
        "  train.loc[i, 'Text'] = tokenized"
      ]
    },
    {
      "cell_type": "code",
      "execution_count": null,
      "id": "nOpfr357GmA3",
      "metadata": {
        "colab": {
          "base_uri": "https://localhost:8080/",
          "height": 424
        },
        "id": "nOpfr357GmA3",
        "outputId": "2fc30739-fd30-4fbc-d60b-8c04bc911151"
      },
      "outputs": [
        {
          "data": {
            "text/html": [
              "\n",
              "  <div id=\"df-7efcab84-52d5-4f7b-b569-75f2926768b9\">\n",
              "    <div class=\"colab-df-container\">\n",
              "      <div>\n",
              "<style scoped>\n",
              "    .dataframe tbody tr th:only-of-type {\n",
              "        vertical-align: middle;\n",
              "    }\n",
              "\n",
              "    .dataframe tbody tr th {\n",
              "        vertical-align: top;\n",
              "    }\n",
              "\n",
              "    .dataframe thead th {\n",
              "        text-align: right;\n",
              "    }\n",
              "</style>\n",
              "<table border=\"1\" class=\"dataframe\">\n",
              "  <thead>\n",
              "    <tr style=\"text-align: right;\">\n",
              "      <th></th>\n",
              "      <th>Audio</th>\n",
              "      <th>Text</th>\n",
              "      <th>Emotion</th>\n",
              "      <th>Arousal</th>\n",
              "      <th>Valence</th>\n",
              "    </tr>\n",
              "  </thead>\n",
              "  <tbody>\n",
              "    <tr>\n",
              "      <th>0</th>\n",
              "      <td>[[[-48.80014, -53.394287, -47.190025, -49.031,...</td>\n",
              "      <td>[▁어, ▁나는, ▁워낙, ▁많아, ▁가지고, ▁고, 등, ▁, 고등학교, ▁3, ...</td>\n",
              "      <td>neutral</td>\n",
              "      <td>3.2</td>\n",
              "      <td>2.5</td>\n",
              "    </tr>\n",
              "    <tr>\n",
              "      <th>1</th>\n",
              "      <td>[[[-54.973846, -52.31526, -58.51277, -61.26166...</td>\n",
              "      <td>[▁근, 데, ▁이제, ▁진, 지, ▁이, 거, ▁진짜, 예, 요, ▁진짜, ▁꾸,...</td>\n",
              "      <td>neutral</td>\n",
              "      <td>3.7</td>\n",
              "      <td>3.8</td>\n",
              "    </tr>\n",
              "    <tr>\n",
              "      <th>2</th>\n",
              "      <td>[[[-44.767715, -46.717567, -55.23369, -57.9519...</td>\n",
              "      <td>[▁그리고, ▁그, 걸, ▁또, ▁그, 걸, ▁또, ▁빌려, 달라, 고, ▁하는, ...</td>\n",
              "      <td>neutral</td>\n",
              "      <td>3.5</td>\n",
              "      <td>2.4</td>\n",
              "    </tr>\n",
              "    <tr>\n",
              "      <th>3</th>\n",
              "      <td>[[[-49.928337, -53.0866, -55.302124, -51.03737...</td>\n",
              "      <td>[▁아, ▁뭐, 였, 지, ▁그, .]</td>\n",
              "      <td>neutral</td>\n",
              "      <td>3.5</td>\n",
              "      <td>3.5</td>\n",
              "    </tr>\n",
              "    <tr>\n",
              "      <th>4</th>\n",
              "      <td>[[[-50.406174, -51.11396, -43.607597, -50.8311...</td>\n",
              "      <td>[▁그때, 도, ▁아, 마, ▁, 믿, 었, 었, 을, ▁때, 였, 으니, 까, ▁...</td>\n",
              "      <td>neutral</td>\n",
              "      <td>3.5</td>\n",
              "      <td>3.6</td>\n",
              "    </tr>\n",
              "    <tr>\n",
              "      <th>...</th>\n",
              "      <td>...</td>\n",
              "      <td>...</td>\n",
              "      <td>...</td>\n",
              "      <td>...</td>\n",
              "      <td>...</td>\n",
              "    </tr>\n",
              "    <tr>\n",
              "      <th>9156</th>\n",
              "      <td>[[[-52.66149, -53.32052, -53.342834, -54.32839...</td>\n",
              "      <td>[▁이, 야, ▁, 혹, 시, ▁이제, ▁뭐, ▁만나, 게, ▁된, ▁뭐, ▁계, ...</td>\n",
              "      <td>neutral</td>\n",
              "      <td>3.1</td>\n",
              "      <td>3.1</td>\n",
              "    </tr>\n",
              "    <tr>\n",
              "      <th>9157</th>\n",
              "      <td>[[[-56.698814, -59.34777, -58.947758, -52.3478...</td>\n",
              "      <td>[▁그냥, ▁오히려, ▁군, 대, ▁둘, ▁다, ▁, 갔다, ▁, 왔, 잖, 아, ...</td>\n",
              "      <td>neutral</td>\n",
              "      <td>3.5</td>\n",
              "      <td>3</td>\n",
              "    </tr>\n",
              "    <tr>\n",
              "      <th>9158</th>\n",
              "      <td>[[[-68.991394, -69.926254, -68.77756, -71.4115...</td>\n",
              "      <td>[▁음, ▁불편, 하다, 기, 보다는, ▁저, 는, ▁좀, ▁그, ▁좀, ▁왔다, ...</td>\n",
              "      <td>neutral</td>\n",
              "      <td>3</td>\n",
              "      <td>2.6</td>\n",
              "    </tr>\n",
              "    <tr>\n",
              "      <th>9159</th>\n",
              "      <td>[[[-51.001194, -39.19429, -44.311413, -39.5392...</td>\n",
              "      <td>[▁신, 랑, 이, ▁, 그래, ▁오늘, ▁고, 생, 했, 어, ▁자기, 도, ▁일...</td>\n",
              "      <td>neutral</td>\n",
              "      <td>3.5</td>\n",
              "      <td>3.5</td>\n",
              "    </tr>\n",
              "    <tr>\n",
              "      <th>9160</th>\n",
              "      <td>[[[-31.722773, -24.567858, -25.303434, -27.614...</td>\n",
              "      <td>[▁우리, ▁언, 니, 는, .]</td>\n",
              "      <td>neutral</td>\n",
              "      <td>2.4</td>\n",
              "      <td>3</td>\n",
              "    </tr>\n",
              "  </tbody>\n",
              "</table>\n",
              "<p>9161 rows × 5 columns</p>\n",
              "</div>\n",
              "      <button class=\"colab-df-convert\" onclick=\"convertToInteractive('df-7efcab84-52d5-4f7b-b569-75f2926768b9')\"\n",
              "              title=\"Convert this dataframe to an interactive table.\"\n",
              "              style=\"display:none;\">\n",
              "        \n",
              "  <svg xmlns=\"http://www.w3.org/2000/svg\" height=\"24px\"viewBox=\"0 0 24 24\"\n",
              "       width=\"24px\">\n",
              "    <path d=\"M0 0h24v24H0V0z\" fill=\"none\"/>\n",
              "    <path d=\"M18.56 5.44l.94 2.06.94-2.06 2.06-.94-2.06-.94-.94-2.06-.94 2.06-2.06.94zm-11 1L8.5 8.5l.94-2.06 2.06-.94-2.06-.94L8.5 2.5l-.94 2.06-2.06.94zm10 10l.94 2.06.94-2.06 2.06-.94-2.06-.94-.94-2.06-.94 2.06-2.06.94z\"/><path d=\"M17.41 7.96l-1.37-1.37c-.4-.4-.92-.59-1.43-.59-.52 0-1.04.2-1.43.59L10.3 9.45l-7.72 7.72c-.78.78-.78 2.05 0 2.83L4 21.41c.39.39.9.59 1.41.59.51 0 1.02-.2 1.41-.59l7.78-7.78 2.81-2.81c.8-.78.8-2.07 0-2.86zM5.41 20L4 18.59l7.72-7.72 1.47 1.35L5.41 20z\"/>\n",
              "  </svg>\n",
              "      </button>\n",
              "      \n",
              "  <style>\n",
              "    .colab-df-container {\n",
              "      display:flex;\n",
              "      flex-wrap:wrap;\n",
              "      gap: 12px;\n",
              "    }\n",
              "\n",
              "    .colab-df-convert {\n",
              "      background-color: #E8F0FE;\n",
              "      border: none;\n",
              "      border-radius: 50%;\n",
              "      cursor: pointer;\n",
              "      display: none;\n",
              "      fill: #1967D2;\n",
              "      height: 32px;\n",
              "      padding: 0 0 0 0;\n",
              "      width: 32px;\n",
              "    }\n",
              "\n",
              "    .colab-df-convert:hover {\n",
              "      background-color: #E2EBFA;\n",
              "      box-shadow: 0px 1px 2px rgba(60, 64, 67, 0.3), 0px 1px 3px 1px rgba(60, 64, 67, 0.15);\n",
              "      fill: #174EA6;\n",
              "    }\n",
              "\n",
              "    [theme=dark] .colab-df-convert {\n",
              "      background-color: #3B4455;\n",
              "      fill: #D2E3FC;\n",
              "    }\n",
              "\n",
              "    [theme=dark] .colab-df-convert:hover {\n",
              "      background-color: #434B5C;\n",
              "      box-shadow: 0px 1px 3px 1px rgba(0, 0, 0, 0.15);\n",
              "      filter: drop-shadow(0px 1px 2px rgba(0, 0, 0, 0.3));\n",
              "      fill: #FFFFFF;\n",
              "    }\n",
              "  </style>\n",
              "\n",
              "      <script>\n",
              "        const buttonEl =\n",
              "          document.querySelector('#df-7efcab84-52d5-4f7b-b569-75f2926768b9 button.colab-df-convert');\n",
              "        buttonEl.style.display =\n",
              "          google.colab.kernel.accessAllowed ? 'block' : 'none';\n",
              "\n",
              "        async function convertToInteractive(key) {\n",
              "          const element = document.querySelector('#df-7efcab84-52d5-4f7b-b569-75f2926768b9');\n",
              "          const dataTable =\n",
              "            await google.colab.kernel.invokeFunction('convertToInteractive',\n",
              "                                                     [key], {});\n",
              "          if (!dataTable) return;\n",
              "\n",
              "          const docLinkHtml = 'Like what you see? Visit the ' +\n",
              "            '<a target=\"_blank\" href=https://colab.research.google.com/notebooks/data_table.ipynb>data table notebook</a>'\n",
              "            + ' to learn more about interactive tables.';\n",
              "          element.innerHTML = '';\n",
              "          dataTable['output_type'] = 'display_data';\n",
              "          await google.colab.output.renderOutput(dataTable, element);\n",
              "          const docLink = document.createElement('div');\n",
              "          docLink.innerHTML = docLinkHtml;\n",
              "          element.appendChild(docLink);\n",
              "        }\n",
              "      </script>\n",
              "    </div>\n",
              "  </div>\n",
              "  "
            ],
            "text/plain": [
              "                                                  Audio  \\\n",
              "0     [[[-48.80014, -53.394287, -47.190025, -49.031,...   \n",
              "1     [[[-54.973846, -52.31526, -58.51277, -61.26166...   \n",
              "2     [[[-44.767715, -46.717567, -55.23369, -57.9519...   \n",
              "3     [[[-49.928337, -53.0866, -55.302124, -51.03737...   \n",
              "4     [[[-50.406174, -51.11396, -43.607597, -50.8311...   \n",
              "...                                                 ...   \n",
              "9156  [[[-52.66149, -53.32052, -53.342834, -54.32839...   \n",
              "9157  [[[-56.698814, -59.34777, -58.947758, -52.3478...   \n",
              "9158  [[[-68.991394, -69.926254, -68.77756, -71.4115...   \n",
              "9159  [[[-51.001194, -39.19429, -44.311413, -39.5392...   \n",
              "9160  [[[-31.722773, -24.567858, -25.303434, -27.614...   \n",
              "\n",
              "                                                   Text  Emotion Arousal  \\\n",
              "0     [▁어, ▁나는, ▁워낙, ▁많아, ▁가지고, ▁고, 등, ▁, 고등학교, ▁3, ...  neutral     3.2   \n",
              "1     [▁근, 데, ▁이제, ▁진, 지, ▁이, 거, ▁진짜, 예, 요, ▁진짜, ▁꾸,...  neutral     3.7   \n",
              "2     [▁그리고, ▁그, 걸, ▁또, ▁그, 걸, ▁또, ▁빌려, 달라, 고, ▁하는, ...  neutral     3.5   \n",
              "3                                 [▁아, ▁뭐, 였, 지, ▁그, .]  neutral     3.5   \n",
              "4     [▁그때, 도, ▁아, 마, ▁, 믿, 었, 었, 을, ▁때, 였, 으니, 까, ▁...  neutral     3.5   \n",
              "...                                                 ...      ...     ...   \n",
              "9156  [▁이, 야, ▁, 혹, 시, ▁이제, ▁뭐, ▁만나, 게, ▁된, ▁뭐, ▁계, ...  neutral     3.1   \n",
              "9157  [▁그냥, ▁오히려, ▁군, 대, ▁둘, ▁다, ▁, 갔다, ▁, 왔, 잖, 아, ...  neutral     3.5   \n",
              "9158  [▁음, ▁불편, 하다, 기, 보다는, ▁저, 는, ▁좀, ▁그, ▁좀, ▁왔다, ...  neutral       3   \n",
              "9159  [▁신, 랑, 이, ▁, 그래, ▁오늘, ▁고, 생, 했, 어, ▁자기, 도, ▁일...  neutral     3.5   \n",
              "9160                                 [▁우리, ▁언, 니, 는, .]  neutral     2.4   \n",
              "\n",
              "     Valence  \n",
              "0        2.5  \n",
              "1        3.8  \n",
              "2        2.4  \n",
              "3        3.5  \n",
              "4        3.6  \n",
              "...      ...  \n",
              "9156     3.1  \n",
              "9157       3  \n",
              "9158     2.6  \n",
              "9159     3.5  \n",
              "9160       3  \n",
              "\n",
              "[9161 rows x 5 columns]"
            ]
          },
          "execution_count": 40,
          "metadata": {},
          "output_type": "execute_result"
        }
      ],
      "source": [
        "train"
      ]
    },
    {
      "cell_type": "code",
      "execution_count": null,
      "id": "2AWATIFQCAxZ",
      "metadata": {
        "id": "2AWATIFQCAxZ"
      },
      "outputs": [],
      "source": [
        "# KoBERT는 RD랑 RS만 사용\n",
        "# data augumentation 함수 정의\n",
        "\n",
        "def augumentation(data, text_idx, audio_idx, emo_idx):\n",
        "  for index in tqdm(text_idx):\n",
        "    text = data.iloc[index, 1]\n",
        "    aug_text = RS(text, 0.3)\n",
        "    add_data = {'Audio': data.iloc[index, 0],\n",
        "                'Text': aug_text,\n",
        "                'Emotion': data.iloc[index, 2],\n",
        "                'Arousal': data.iloc[index, 3],\n",
        "                'Valence': data.iloc[index, 4]}\n",
        "    data = data.append(add_data, ignore_index=True)\n",
        "    \n",
        "  for index in tqdm(audio_idx):\n",
        "      audio = data.iloc[index, 0]\n",
        "      mask_freq = np.random.randint(128, size=1)[0]\n",
        "      mask_range = np.random.randint(10, 30, size=1)[0]\n",
        "      freq_range = np.random.randint(-80, 0, size=2)\n",
        "      aug_audio = audio_mask(audio, mask_freq, mask_range, freq_range)\n",
        "      add_data = {'Audio': aug_audio,\n",
        "                  'Text': data.iloc[index, 1],\n",
        "                  'Emotion': data.iloc[index, 2],\n",
        "                  'Arousal': data.iloc[index, 3],\n",
        "                  'Valence': data.iloc[index, 4]}\n",
        "      data = data.append(add_data, ignore_index=True)\n",
        "      \n",
        "  for index in tqdm(emo_idx):\n",
        "      text = data.iloc[index, 1]\n",
        "      aug_text = RD(text, 0.3)\n",
        "      \n",
        "      audio = data.iloc[index, 0]\n",
        "      mask_freq = np.random.randint(128, size=1)[0]\n",
        "      mask_range = np.random.randint(10, 30, size=1)[0]\n",
        "      freq_range = np.random.randint(-80, 0, size=2)\n",
        "      aug_audio = audio_mask(audio, mask_freq, mask_range, freq_range)\n",
        "      \n",
        "      add_data = {'Audio': aug_audio,\n",
        "                  'Text': aug_text,\n",
        "                  'Emotion': data.iloc[index, 2],\n",
        "                  'Arousal': data.iloc[index, 3],\n",
        "                  'Valence': data.iloc[index, 4]}\n",
        "      data = data.append(add_data, ignore_index=True)\n",
        "\n",
        "  return data "
      ]
    },
    {
      "cell_type": "markdown",
      "id": "JRR1wxwAIR0T",
      "metadata": {
        "id": "JRR1wxwAIR0T"
      },
      "source": [
        "## 7. Data Augumentation 적용"
      ]
    },
    {
      "cell_type": "markdown",
      "id": "OeAUxGWkIhyu",
      "metadata": {
        "id": "OeAUxGWkIhyu"
      },
      "source": [
        "Happy \n",
        "\n",
        "  - 50% 텍스트 변환\n",
        "  - 남은 50% 오디오 변환\n",
        "  - 전체에 대해 텍스트+오디오 변환\n",
        "\n",
        "Happy, Neutral 제외한 감정들\n",
        "\n",
        "  - 100% 텍스트 변환\n",
        "  - 100% 오디오 변환\n",
        "  - 100% 텍+오 변환"
      ]
    },
    {
      "cell_type": "code",
      "execution_count": null,
      "id": "oa9FblcsTEN8",
      "metadata": {
        "colab": {
          "base_uri": "https://localhost:8080/",
          "height": 649
        },
        "id": "oa9FblcsTEN8",
        "outputId": "c97eee1b-5595-49c4-ec96-411aeb9bfa53"
      },
      "outputs": [
        {
          "data": {
            "text/plain": [
              "<matplotlib.axes._subplots.AxesSubplot at 0x7f7939fd54d0>"
            ]
          },
          "execution_count": 42,
          "metadata": {},
          "output_type": "execute_result"
        },
        {
          "data": {
            "image/png": "[encoded data removed]",
            "text/plain": [
              "<Figure size 1440x720 with 1 Axes>"
            ]
          },
          "metadata": {
            "needs_background": "light"
          },
          "output_type": "display_data"
        }
      ],
      "source": [
        "# 데이터 증강 하기 전\n",
        "plt.figure(figsize=(20, 10))\n",
        "plt.xticks(rotation=45)\n",
        "sns.countplot(x=\"Emotion\", data=train)"
      ]
    },
    {
      "cell_type": "code",
      "execution_count": null,
      "id": "Qjnhap0EK8jz",
      "metadata": {
        "id": "Qjnhap0EK8jz"
      },
      "outputs": [],
      "source": [
        "hap_index = train[train['Emotion'] == 'happy'].index.to_list()\n",
        "sur_index = train[train['Emotion'] == 'surprise'].index.to_list()\n",
        "ang_index = train[train['Emotion'] == 'angry'].index.to_list()\n",
        "neu_index = train[train['Emotion'] == 'neutral'].index.to_list()\n",
        "sad_index = train[train['Emotion'] == 'sad'].index.to_list()"
      ]
    },
    {
      "cell_type": "code",
      "execution_count": null,
      "id": "VijlA7cRIJ2v",
      "metadata": {
        "colab": {
          "base_uri": "https://localhost:8080/",
          "height": 704
        },
        "id": "VijlA7cRIJ2v",
        "outputId": "51d21268-6723-426d-8595-89b3ad950d4a"
      },
      "outputs": [
        {
          "name": "stderr",
          "output_type": "stream",
          "text": [
            "100%|██████████| 115/115 [00:00<00:00, 414.58it/s]\n",
            "100%|██████████| 115/115 [00:00<00:00, 310.36it/s]\n",
            "100%|██████████| 115/115 [00:00<00:00, 299.88it/s]\n"
          ]
        },
        {
          "data": {
            "text/plain": [
              "<matplotlib.axes._subplots.AxesSubplot at 0x7f7937aedb10>"
            ]
          },
          "execution_count": 44,
          "metadata": {},
          "output_type": "execute_result"
        },
        {
          "data": {
            "image/png": "[encoded data removed]",
            "text/plain": [
              "<Figure size 1440x720 with 1 Axes>"
            ]
          },
          "metadata": {
            "needs_background": "light"
          },
          "output_type": "display_data"
        }
      ],
      "source": [
        "# surprise - Data Augmentation 적용\n",
        "train = augumentation(train, sur_index, sur_index, sur_index)\n",
        "\n",
        "plt.figure(figsize=(20, 10))\n",
        "plt.xticks(rotation=45)\n",
        "sns.countplot(x=\"Emotion\", data=train)"
      ]
    },
    {
      "cell_type": "code",
      "execution_count": null,
      "id": "6zUrxChGNkmv",
      "metadata": {
        "colab": {
          "base_uri": "https://localhost:8080/",
          "height": 704
        },
        "id": "6zUrxChGNkmv",
        "outputId": "fc0fd8cf-f1e4-433b-8bcb-992eac9fbb94"
      },
      "outputs": [
        {
          "name": "stderr",
          "output_type": "stream",
          "text": [
            "100%|██████████| 98/98 [00:00<00:00, 196.04it/s]\n",
            "100%|██████████| 98/98 [00:00<00:00, 245.23it/s]\n",
            "100%|██████████| 98/98 [00:00<00:00, 237.10it/s]\n"
          ]
        },
        {
          "data": {
            "text/plain": [
              "<matplotlib.axes._subplots.AxesSubplot at 0x7f7937b7a3d0>"
            ]
          },
          "execution_count": 45,
          "metadata": {},
          "output_type": "execute_result"
        },
        {
          "data": {
            "image/png": "[encoded data removed]",
            "text/plain": [
              "<Figure size 1440x720 with 1 Axes>"
            ]
          },
          "metadata": {
            "needs_background": "light"
          },
          "output_type": "display_data"
        }
      ],
      "source": [
        "# angry - Data Augmentation 적용\n",
        "train = augumentation(train, ang_index, ang_index, ang_index)\n",
        "\n",
        "plt.figure(figsize=(20, 10))\n",
        "plt.xticks(rotation=45)\n",
        "sns.countplot(x=\"Emotion\", data=train)"
      ]
    },
    {
      "cell_type": "code",
      "execution_count": null,
      "id": "8Uj2l-BuPi0A",
      "metadata": {
        "colab": {
          "base_uri": "https://localhost:8080/",
          "height": 704
        },
        "id": "8Uj2l-BuPi0A",
        "outputId": "4714b449-5deb-475d-d3b3-664c5e2022f6"
      },
      "outputs": [
        {
          "name": "stderr",
          "output_type": "stream",
          "text": [
            "100%|██████████| 81/81 [00:00<00:00, 390.76it/s]\n",
            "100%|██████████| 81/81 [00:00<00:00, 263.82it/s]\n",
            "100%|██████████| 81/81 [00:00<00:00, 250.21it/s]\n"
          ]
        },
        {
          "data": {
            "text/plain": [
              "<matplotlib.axes._subplots.AxesSubplot at 0x7f7941cf9290>"
            ]
          },
          "execution_count": 46,
          "metadata": {},
          "output_type": "execute_result"
        },
        {
          "data": {
            "image/png": "[encoded data removed]",
            "text/plain": [
              "<Figure size 1440x720 with 1 Axes>"
            ]
          },
          "metadata": {
            "needs_background": "light"
          },
          "output_type": "display_data"
        }
      ],
      "source": [
        "# sad - Data Augmentation 적용\n",
        "train = augumentation(train, sad_index, sad_index, sad_index)\n",
        "\n",
        "plt.figure(figsize=(20, 10))\n",
        "plt.xticks(rotation=45)\n",
        "sns.countplot(x=\"Emotion\", data=train)"
      ]
    },
    {
      "cell_type": "markdown",
      "id": "2HQH4J2fP0Qw",
      "metadata": {
        "id": "2HQH4J2fP0Qw"
      },
      "source": [
        "## 8. Pickle로 저장 - augumentation & tokenization 완료된 train "
      ]
    },
    {
      "cell_type": "code",
      "execution_count": null,
      "id": "a33838e8",
      "metadata": {
        "id": "a33838e8"
      },
      "outputs": [],
      "source": [
        "# train - after augumentation 저장\n",
        "with gzip.open('train_aft_aug_kobert.pickle','wb') as f:\n",
        "    pickle.dump(train, f)"
      ]
    }
  ],
  "metadata": {
    "accelerator": "GPU",
    "colab": {
      "collapsed_sections": [],
      "machine_shape": "hm",
      "name": "1-2. 데이터_증강.ipynb",
      "provenance": [],
      "include_colab_link": true
    },
    "kernelspec": {
      "display_name": "Python 3",
      "name": "python3"
    },
    "language_info": {
      "name": "python"
    }
  },
  "nbformat": 4,
  "nbformat_minor": 5
}